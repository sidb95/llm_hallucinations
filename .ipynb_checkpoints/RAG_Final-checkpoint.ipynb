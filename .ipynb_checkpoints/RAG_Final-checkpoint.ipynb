{
 "cells": [
  {
   "cell_type": "markdown",
   "metadata": {},
   "source": [
    "# Retrieval-Augmented Generation: Question Answering based on Custom Dataset with Open-sourced [LangChain](https://python.langchain.com/en/latest/index.html) Library\n"
   ]
  },
  {
   "cell_type": "markdown",
   "metadata": {},
   "source": [
    "\n",
    "In this notebook we will demonstrate how to use mutiple large language models like **Falcon 7b** and **Llama-2 7b Chat** to answer questions using a library of documents as a reference, by using document embeddings and retrieval. The embeddings are generated from **GPT-J-6B** embedding model. \n",
    "\n",
    "**This notebook serves a template such that you can easily replace the example dataset by your own to build a custom question and asnwering application.**"
   ]
  },
  {
   "cell_type": "markdown",
   "metadata": {},
   "source": [
    "## Use RAG based approach with [LangChain](https://python.langchain.com/en/latest/index.html) and SageMaker endpoints to build a simplified question and answering application.\n",
    "\n",
    "\n",
    "We plan to use document embeddings to fetch the most relevant documents in our document knowledge library and combine them with the prompt that we provide to LLM.\n",
    "\n",
    "To achieve that, we will do following.\n",
    "\n",
    "1. **Generate embedings for each of document in the knowledge library with SageMaker GPT-J-6B embedding model.**\n",
    "2. **Identify top K most relevant documents based on user query.**\n",
    "    - 2.1 **For a query of your interest, generate the embedding of the query using the same embedding model.**\n",
    "    - 2.2 **Search the indexes of top K most relevant documents in the embedding space using in-memory Faiss search.**\n",
    "    - 2.3 **Use the indexes to retrieve the corresponded documents.**\n",
    "3. **Combine the retrieved documents with prompt and question and send them into SageMaker LLM.**\n",
    "\n",
    "\n",
    "\n",
    "Note: The retrieved document/text should be large enough to contain enough information to answer a question; but small enough to fit into the LLM prompt -- maximum sequence length of 1024 tokens. \n",
    "\n",
    "---\n",
    "To build a simiplied QA application with LangChain, we need: \n",
    "1. Wrap up our SageMaker endpoints for embedding model and LLM into `langchain.embeddings.SagemakerEndpointEmbeddings` and `langchain.llms.sagemaker_endpoint.SagemakerEndpoint`. That requires a small overwritten of `SagemakerEndpointEmbeddings` class to make it compatible with SageMaker embedding mdoel.\n",
    "2. Prepare the dataset to build the knowledge data base. \n",
    "\n",
    "---"
   ]
  },
  {
   "cell_type": "markdown",
   "metadata": {},
   "source": [
    "## Step 1. Deploy large language model (LLM) and embedding model in SageMaker JumpStart\n",
    "\n",
    "To better illustrate the idea, let's first deploy all the models that are required to perform the demo. You can choose either deploying all inference models as the large language model (LLM) to compare their model performances, or select **subset** of the models based on your preference. To do that, you need modify the `_MODEL_CONFIG_` python dictionary."
   ]
  },
  {
   "cell_type": "code",
   "execution_count": 173,
   "metadata": {
    "tags": []
   },
   "outputs": [
    {
     "name": "stdout",
     "output_type": "stream",
     "text": [
      "Requirement already satisfied: pip in /opt/conda/lib/python3.8/site-packages (23.2)\n",
      "Collecting pip\n",
      "  Obtaining dependency information for pip from https://files.pythonhosted.org/packages/50/c2/e06851e8cc28dcad7c155f4753da8833ac06a5c704c109313b8d5a62968a/pip-23.2.1-py3-none-any.whl.metadata\n",
      "  Downloading pip-23.2.1-py3-none-any.whl.metadata (4.2 kB)\n",
      "Downloading pip-23.2.1-py3-none-any.whl (2.1 MB)\n",
      "\u001b[2K   \u001b[90m━━━━━━━━━━━━━━━━━━━━━━━━━━━━━━━━━━━━━━━━\u001b[0m \u001b[32m2.1/2.1 MB\u001b[0m \u001b[31m16.6 MB/s\u001b[0m eta \u001b[36m0:00:00\u001b[0m00:01\u001b[0m\n",
      "\u001b[?25h\u001b[33mDEPRECATION: pyodbc 4.0.0-unsupported has a non-standard version number. pip 23.3 will enforce this behaviour change. A possible replacement is to upgrade to a newer version of pyodbc or contact the author to suggest that they release a version with a conforming version number. Discussion can be found at https://github.com/pypa/pip/issues/12063\u001b[0m\u001b[33m\n",
      "\u001b[0mInstalling collected packages: pip\n",
      "  Attempting uninstall: pip\n",
      "    Found existing installation: pip 23.2\n",
      "    Uninstalling pip-23.2:\n",
      "      Successfully uninstalled pip-23.2\n",
      "Successfully installed pip-23.2.1\n",
      "\u001b[33mWARNING: Running pip as the 'root' user can result in broken permissions and conflicting behaviour with the system package manager. It is recommended to use a virtual environment instead: https://pip.pypa.io/warnings/venv\u001b[0m\u001b[33m\n",
      "\u001b[0m"
     ]
    }
   ],
   "source": [
    "!pip install --upgrade pip"
   ]
  },
  {
   "cell_type": "code",
   "execution_count": 4,
   "metadata": {
    "collapsed": false,
    "jupyter": {
     "outputs_hidden": false
    },
    "pycharm": {
     "name": "#%%\n"
    },
    "tags": []
   },
   "outputs": [
    {
     "name": "stdout",
     "output_type": "stream",
     "text": [
      "\u001b[33mDEPRECATION: pyodbc 4.0.0-unsupported has a non-standard version number. pip 23.3 will enforce this behaviour change. A possible replacement is to upgrade to a newer version of pyodbc or contact the author to suggest that they release a version with a conforming version number. Discussion can be found at https://github.com/pypa/pip/issues/12063\u001b[0m\u001b[33m\n",
      "\u001b[0m\u001b[33mWARNING: Running pip as the 'root' user can result in broken permissions and conflicting behaviour with the system package manager. It is recommended to use a virtual environment instead: https://pip.pypa.io/warnings/venv\u001b[0m\u001b[33m\n",
      "\u001b[0m\u001b[33mWARNING: jsonschema 3.2.0 does not provide the extra 'format-nongpl'\u001b[0m\u001b[33m\n",
      "\u001b[0m\u001b[33mDEPRECATION: pyodbc 4.0.0-unsupported has a non-standard version number. pip 23.3 will enforce this behaviour change. A possible replacement is to upgrade to a newer version of pyodbc or contact the author to suggest that they release a version with a conforming version number. Discussion can be found at https://github.com/pypa/pip/issues/12063\u001b[0m\u001b[33m\n",
      "\u001b[0m\u001b[33mWARNING: Running pip as the 'root' user can result in broken permissions and conflicting behaviour with the system package manager. It is recommended to use a virtual environment instead: https://pip.pypa.io/warnings/venv\u001b[0m\u001b[33m\n",
      "\u001b[0m\u001b[33mDEPRECATION: pyodbc 4.0.0-unsupported has a non-standard version number. pip 23.3 will enforce this behaviour change. A possible replacement is to upgrade to a newer version of pyodbc or contact the author to suggest that they release a version with a conforming version number. Discussion can be found at https://github.com/pypa/pip/issues/12063\u001b[0m\u001b[33m\n",
      "\u001b[0m\u001b[33mWARNING: Running pip as the 'root' user can result in broken permissions and conflicting behaviour with the system package manager. It is recommended to use a virtual environment instead: https://pip.pypa.io/warnings/venv\u001b[0m\u001b[33m\n",
      "\u001b[0m\u001b[33mDEPRECATION: pyodbc 4.0.0-unsupported has a non-standard version number. pip 23.3 will enforce this behaviour change. A possible replacement is to upgrade to a newer version of pyodbc or contact the author to suggest that they release a version with a conforming version number. Discussion can be found at https://github.com/pypa/pip/issues/12063\u001b[0m\u001b[33m\n",
      "\u001b[0m\u001b[33mWARNING: Running pip as the 'root' user can result in broken permissions and conflicting behaviour with the system package manager. It is recommended to use a virtual environment instead: https://pip.pypa.io/warnings/venv\u001b[0m\u001b[33m\n",
      "\u001b[0m"
     ]
    }
   ],
   "source": [
    "!pip install --upgrade sagemaker --quiet\n",
    "!pip install ipywidgets==7.0.0 --quiet\n",
    "!pip install langchain==0.0.148 --quiet\n",
    "!pip install faiss-cpu --quiet"
   ]
  },
  {
   "cell_type": "code",
   "execution_count": 82,
   "metadata": {
    "tags": []
   },
   "outputs": [
    {
     "name": "stdout",
     "output_type": "stream",
     "text": [
      "\u001b[33mDEPRECATION: pyodbc 4.0.0-unsupported has a non-standard version number. pip 23.3 will enforce this behaviour change. A possible replacement is to upgrade to a newer version of pyodbc or contact the author to suggest that they release a version with a conforming version number. Discussion can be found at https://github.com/pypa/pip/issues/12063\u001b[0m\u001b[33m\n",
      "\u001b[0m\u001b[33mWARNING: Running pip as the 'root' user can result in broken permissions and conflicting behaviour with the system package manager. It is recommended to use a virtual environment instead: https://pip.pypa.io/warnings/venv\u001b[0m\u001b[33m\n",
      "\u001b[0m"
     ]
    }
   ],
   "source": [
    "!pip install transformers -q"
   ]
  },
  {
   "cell_type": "code",
   "execution_count": null,
   "metadata": {},
   "outputs": [],
   "source": [
    "!pip install langchain -q"
   ]
  },
  {
   "cell_type": "code",
   "execution_count": 5,
   "metadata": {
    "tags": []
   },
   "outputs": [
    {
     "name": "stderr",
     "output_type": "stream",
     "text": [
      "/opt/conda/lib/python3.8/site-packages/scipy/__init__.py:146: UserWarning: A NumPy version >=1.16.5 and <1.23.0 is required for this version of SciPy (detected version 1.24.3\n",
      "  warnings.warn(f\"A NumPy version >={np_minversion} and <{np_maxversion}\"\n"
     ]
    }
   ],
   "source": [
    "#import the required libraries\n",
    "import time\n",
    "import sagemaker, boto3, json\n",
    "from sagemaker.session import Session\n",
    "from sagemaker.model import Model\n",
    "from sagemaker import image_uris, model_uris, script_uris, hyperparameters\n",
    "from sagemaker.predictor import Predictor\n",
    "from sagemaker.utils import name_from_base\n",
    "from typing import Any, Dict, List, Optional\n",
    "from langchain.embeddings import SagemakerEndpointEmbeddings\n",
    "from langchain.llms.sagemaker_endpoint import ContentHandlerBase\n",
    "\n",
    "sagemaker_session = Session()\n",
    "aws_role = sagemaker_session.get_caller_identity_arn()\n",
    "aws_region = boto3.Session().region_name\n",
    "sess = sagemaker.Session()\n",
    "model_version = \"*\""
   ]
  },
  {
   "cell_type": "markdown",
   "metadata": {},
   "source": [
    "Deploy SageMaker endpoint(s) for large language models and GPT-J 6B embedding model. Please uncomment the entries as below if you want to deploy multiple LLM models to compare their performance."
   ]
  },
  {
   "cell_type": "code",
   "execution_count": 6,
   "metadata": {
    "tags": []
   },
   "outputs": [],
   "source": [
    "_MODEL_CONFIG_ = {\n",
    "     #\"huggingface-text2text-flan-t5-xxl\": {\n",
    "     #    \"instance type\": \"ml.g5.12xlarge\",\n",
    "     #    \"env\": {\"SAGEMAKER_MODEL_SERVER_WORKERS\": \"1\", \"TS_DEFAULT_WORKERS_PER_MODEL\": \"1\"},\n",
    "     #    \"parse_function\": parse_response_model_flan_t5,\n",
    "     #    \"prompt\": \"\"\"Answer based on context:\\n\\n{context}\\n\\n{question}\"\"\",\n",
    "     #    \"endpoint_name\": \"yoar-d3-rag-huggingface-text2text-flan--2023-07-17-15-04-45-378\",\n",
    "     #    \"input_key\":\"text_inputs\",\n",
    "     #},\n",
    "    \"huggingface-textembedding-gpt-j-6b\": {\n",
    "       \"instance type\": \"ml.g5.12xlarge\",\n",
    "        \"env\": {\"SAGEMAKER_MODEL_SERVER_WORKERS\": \"1\", \"TS_DEFAULT_WORKERS_PER_MODEL\": \"1\"},\n",
    "        \"endpoint_name\":\"agupta-d3-rag-huggingface-textembedding-2023-07-31-14-05-13-066\",\n",
    "       \n",
    "        \n",
    "    },\n",
    "    #\"huggingface-llm-falcon-40b-instruct-bf16\": {\n",
    "    #    \"instance type\": \"ml.g5.12xlarge\",\n",
    "    #    \"env\": {\"SAGEMAKER_MODEL_SERVER_WORKERS\": \"1\", \"TS_DEFAULT_WORKERS_PER_MODEL\": \"1\"},\n",
    "    #    \"parse_function\": parse_response_model_falcon,\n",
    "    #    \"endpoint_name\":\"jumpstart-dft-hf-llm-falcon-40b-instruct-bf16-1\",\n",
    "    #   \"prompt\": \"\"\"Please answer the question below based on this context and  If you cannot find reference for the question in the context, please answer that you Dont know:\\n\\n{context}\\n\\n{question}\"\"\",\n",
    "    #    \"input_key\": \"inputs\"\n",
    "    #},\n",
    "    \n",
    "    \"meta-textgeneration-llama-2-7b\": {\n",
    "        \"instance type\": \"ml.g5.2xlarge\",\n",
    "        \"env\": {\"SAGEMAKER_MODEL_SERVER_WORKERS\": \"1\", \"TS_DEFAULT_WORKERS_PER_MODEL\": \"1\"},\n",
    "        \"endpoint_name\":\"jumpstart-dft-agupta-meta-textgeneration-llama-2-7b-f\",\n",
    "        \"prompt\": \"\"\"Please answer the question below based on this context:\\n\\n{context}\\n\\n{question}\"\"\",\n",
    "    },\n",
    "    \n",
    "    \n",
    "    # \"huggingface-llm-falcon-7b-instruct-bf16\": {\n",
    "    #     \"instance type\": \"ml.g5.12xlarge\",\n",
    "    #     \"env\": {\"SAGEMAKER_MODEL_SERVER_WORKERS\": \"1\", \"TS_DEFAULT_WORKERS_PER_MODEL\": \"1\"},\n",
    "    # },\n",
    "    # \"huggingface-textgeneration1-bloomz-7b1-fp16\": {\n",
    "    #     \"instance type\": \"ml.g5.12xlarge\",\n",
    "    #     \"env\": {},\n",
    "    #     \"parse_function\": parse_response_multiple_texts_bloomz,\n",
    "    #     \"prompt\": \"\"\"question: \\\"{question}\"\\\\n\\nContext: \\\"{context}\"\\\\n\\nAnswer:\"\"\",\n",
    "    # },\n",
    "    # \"huggingface-text2text-flan-ul2-bf16\": {\n",
    "    #     \"instance type\": \"ml.g5.24xlarge\",\n",
    "    #     \"env\": {\n",
    "    #         \"SAGEMAKER_MODEL_SERVER_WORKERS\": \"1\",\n",
    "    #         \"TS_DEFAULT_WORKERS_PER_MODEL\": \"1\"\n",
    "    #     },\n",
    "}"
   ]
  },
  {
   "cell_type": "code",
   "execution_count": 7,
   "metadata": {
    "tags": []
   },
   "outputs": [],
   "source": [
    "newline, bold, unbold = \"\\n\", \"\\033[1m\", \"\\033[0m\""
   ]
  },
  {
   "cell_type": "markdown",
   "metadata": {},
   "source": [
    "# **<span style=\"color:red\">Do not run the below block if the models are already deployed</span>.**"
   ]
  },
  {
   "cell_type": "code",
   "execution_count": 6,
   "metadata": {
    "tags": []
   },
   "outputs": [
    {
     "name": "stdout",
     "output_type": "stream",
     "text": [
      "Setting up\n",
      "Deploy begin\n",
      "--------------!\u001b[1mModel huggingface-textembedding-gpt-j-6b has been deployed successfully.\u001b[0m\n",
      "\n"
     ]
    }
   ],
   "source": [
    "\n",
    "for model_id in _MODEL_CONFIG_:\n",
    "    endpoint_name = name_from_base(f\"agupta-d3-rag-{model_id}\")\n",
    "    inference_instance_type = _MODEL_CONFIG_[model_id][\"instance type\"]\n",
    "\n",
    "    # Retrieve the inference container uri. This is the base HuggingFace container image for the default model above.\n",
    "    deploy_image_uri = image_uris.retrieve(\n",
    "        region=None,\n",
    "        framework=None,  # automatically inferred from model_id\n",
    "        image_scope=\"inference\",\n",
    "        model_id=model_id,\n",
    "        model_version=model_version,\n",
    "        instance_type=inference_instance_type,\n",
    "    )\n",
    "    # Retrieve the model uri.\n",
    "    model_uri = model_uris.retrieve(\n",
    "        model_id=model_id, model_version=model_version, model_scope=\"inference\"\n",
    "    )\n",
    "    print(\"Setting up\")\n",
    "    model_inference = Model(\n",
    "        image_uri=deploy_image_uri,\n",
    "        model_data=model_uri,\n",
    "        role=aws_role,\n",
    "        predictor_cls=Predictor,\n",
    "        name=endpoint_name,\n",
    "        env=_MODEL_CONFIG_[model_id][\"env\"],\n",
    "    )\n",
    "    print(\"Deploy begin\")\n",
    "    model_predictor_inference = model_inference.deploy(\n",
    "        initial_instance_count=1,\n",
    "        instance_type=inference_instance_type,\n",
    "        predictor_cls=Predictor,\n",
    "        endpoint_name=endpoint_name,\n",
    "    )\n",
    "    print(f\"{bold}Model {model_id} has been deployed successfully.{unbold}{newline}\")\n",
    "    _MODEL_CONFIG_[model_id][\"endpoint_name\"] = endpoint_name\n"
   ]
  },
  {
   "cell_type": "markdown",
   "metadata": {},
   "source": [
    "## Step2: Ask a question to LLM without providing the context\n",
    "\n",
    "To better illustrate why we need retrieval-augmented generation (RAG) based approach to solve the question and anwering problem. Let's directly ask the model a question and see how they respond."
   ]
  },
  {
   "cell_type": "markdown",
   "metadata": {},
   "source": [
    "#### Llama2 Chat: 7b "
   ]
  },
  {
   "cell_type": "code",
   "execution_count": 8,
   "metadata": {
    "tags": []
   },
   "outputs": [],
   "source": [
    "# function to create a payload for the Llama-2 Chat Model\n",
    "def create_payload(query=None,context=None):\n",
    "    if context and query:\n",
    "        prompt = \"\"\"Context is\\n\\n{context}\\n\\nQuestion is:\\n\\n{question}\"\"\"\n",
    "        text_input = prompt.replace(\"{context}\", context)\n",
    "        text_input = text_input.replace(\"{question}\", query)\n",
    "        system_content=\"\"\"You are an expert who answers questions only \n",
    "        from the context being provided and use your expertise to extract a relevant and correct answer\"\"\" \n",
    "    elif query:\n",
    "        text_input = query\n",
    "        system_content=\"You are a chat bot who answers questions\"\n",
    "    else:\n",
    "        text_input = \"\"  # or you can set it to None or some default value\n",
    "        system_content=\"You are a chat bot who answers questions\"\n",
    "        \n",
    "\n",
    "    payload = {\n",
    "        \"inputs\": [\n",
    "          [\n",
    "           {\"role\": \"system\", \"content\": system_content},\n",
    "           {\"role\": \"user\", \"content\": text_input}\n",
    "          ]\n",
    "        ],\n",
    "        \"parameters\":{\n",
    "            \"max_new_tokens\": 1000,\n",
    "            # \"return_full_text\": False,\n",
    "            # \"do_sample\": False,\n",
    "            # \"top_k\":5\n",
    "        }\n",
    "    }\n",
    "    \n",
    "    return payload"
   ]
  },
  {
   "cell_type": "code",
   "execution_count": 160,
   "metadata": {
    "tags": []
   },
   "outputs": [],
   "source": [
    "#query fucntion for LLAMA2 7b Chat Model\n",
    "\n",
    "endpoint_name = _MODEL_CONFIG_[\"meta-textgeneration-llama-2-7b\"][\"endpoint_name\"]\n",
    "\n",
    "def query_endpoint(payload):\n",
    "    client = boto3.client('runtime.sagemaker')\n",
    "    response = client.invoke_endpoint(EndpointName=endpoint_name, ContentType='application/json', Body=json.dumps(payload).encode('utf-8'),CustomAttributes='accept_eula=true')\n",
    "    model_predictions = json.loads(response['Body'].read())\n",
    "    #print(model_predictions)\n",
    "    generated_texts = model_predictions[0]['generation']\n",
    "    generated_text=generated_texts['content']\n",
    "    print (\n",
    "        f\"{bold}{generated_text}{unbold}{newline}\")\n"
   ]
  },
  {
   "cell_type": "code",
   "execution_count": 161,
   "metadata": {
    "tags": []
   },
   "outputs": [
    {
     "name": "stdout",
     "output_type": "stream",
     "text": [
      "\u001b[1m Hello! I'm here to help you with your question. Managed Spot Training is a feature in SageMaker that allows you to train machine learning models using spare AWS computing capacity. Here are some instances that you can use with Managed Spot Training in SageMaker:\n",
      "\n",
      "1. Amazon Elastic Compute Cloud (EC2): You can use EC2 instances with Managed Spot Training to train machine learning models using the spare CPU capacity of the instances.\n",
      "2. Amazon Elastic Container Service (ECS): ECS is a highly scalable, high-performance container orchestration service that can be used with Managed Spot Training to train machine learning models.\n",
      "3. Amazon Lambda: Lambda is a serverless compute service that can be used with Managed Spot Training to train machine learning models without provisioning or managing servers.\n",
      "4. Amazon Elastic Container Service for Kubernetes (EKS): EKS is a managed service that makes it easy to run containerized applications and workloads in a Kubernetes environment. You can use EKS with Managed Spot Training to train machine learning models using the spare CPU capacity of the instances.\n",
      "5. Amazon CloudWatch: CloudWatch is a monitoring and logging service that can be used with Managed Spot Training to monitor the performance of your machine learning models during training.\n",
      "6. Amazon S3: S3 is a scalable, durable, and secure object storage service that can be used with Managed Spot Training to store your training data.\n",
      "7. Amazon Redshift: Redshift is a fully managed data warehouse service that can be used with Managed Spot Training to store and analyze your training data.\n",
      "8. Amazon DynamoDB: DynamoDB is a fully managed NoSQL database service that can be used with Managed Spot Training to store and analyze your training data.\n",
      "\n",
      "These are just a few examples of the instances that you can use with Managed Spot Training in SageMaker. The choice of instance will depend on the specific requirements of your machine learning project, such as the type of workload, the amount of data, and the level of computational resources required.\u001b[0m\n",
      "\n"
     ]
    }
   ],
   "source": [
    "#Llama 2 7b Chat\n",
    "question=\"Which instances can I use with Managed Spot Training in SageMaker?\"\n",
    "payload=create_payload(question)\n",
    "query_endpoint(payload)"
   ]
  },
  {
   "cell_type": "markdown",
   "metadata": {},
   "source": [
    "You can see the generated answer is wrong or doesn't make much sense. "
   ]
  },
  {
   "cell_type": "markdown",
   "metadata": {},
   "source": [
    "## Step 3: Improve the answer to the same question using **prompt engineering** with insightful context\n",
    "\n",
    "\n",
    "To better answer the question well, we provide extra contextual information, combine it with a prompt, and send it to model together with the question. Below is an example."
   ]
  },
  {
   "cell_type": "code",
   "execution_count": 15,
   "metadata": {
    "tags": []
   },
   "outputs": [
    {
     "name": "stdout",
     "output_type": "stream",
     "text": [
      "\u001b[1m Based on the context provided, you can use any instance type supported by Amazon SageMaker with Managed Spot Training. Since Managed Spot Training is supported in all AWS Regions where Amazon SageMaker is currently available, you can choose any instance type that is available in the region where you are running your SageMaker job.\n",
      "\n",
      "Therefore, the answer to your question is:\n",
      "\n",
      "You can use any instance type supported by Amazon SageMaker with Managed Spot Training.\u001b[0m\n",
      "\n"
     ]
    }
   ],
   "source": [
    "#Answering based on context with LLama2 7B chat model\n",
    "\n",
    "question=\"Which instances can I use with Managed Spot Training in SageMaker?\"\n",
    "context=\"\"\"Managed Spot Training can be used with all instances supported in Amazon SageMaker. Managed Spot Training is supported in all AWS Regions where Amazon SageMaker is currently available.\"\"\"\n",
    "payload=create_payload(question,context)\n",
    "\n",
    "query_endpoint(payload)"
   ]
  },
  {
   "cell_type": "markdown",
   "metadata": {},
   "source": [
    "The output from above tells us the chance to get the correct response significantly correlates with the insightful context you send into the LLM. \n",
    "\n",
    "**<span style=\"color:red\">Now, the question becomes where can I find the insightful context based on the user query? The answer is to use a pre-stored knowledge data base with retrieval augmented generation, as shown below.</span>.**\n"
   ]
  },
  {
   "cell_type": "markdown",
   "metadata": {},
   "source": [
    "## Step 4:  Use RAG based approach with [LangChain](https://python.langchain.com/en/latest/index.html) and SageMaker endpoints to build a simplified question and answering application."
   ]
  },
  {
   "cell_type": "markdown",
   "metadata": {},
   "source": [
    "### Step 4.1: Wrap Sagemaker endpoints for embedding and inference models "
   ]
  },
  {
   "cell_type": "markdown",
   "metadata": {},
   "source": [
    "To use the SageMaker LLM endpoint with LangChain, we use langchain.llms.sagemaker_endpoint.SagemakerEndpoint, which abstracts the SageMaker LLM endpoint. We need to perform a transformation for the request and response payload as shown in the following code for the LangChain SageMaker integration. Note that you may need to adjust the code in ContentHandler based on the content_type and accepts format of the LLM model that you choose to use."
   ]
  },
  {
   "cell_type": "markdown",
   "metadata": {},
   "source": [
    "Wrap up our SageMaker endpoints for embedding model into `langchain.embeddings.SagemakerEndpointEmbeddings`. That requires a small overwritten of `SagemakerEndpointEmbeddings` class to make it compatible with SageMaker embedding mdoel."
   ]
  },
  {
   "cell_type": "code",
   "execution_count": 163,
   "metadata": {
    "tags": []
   },
   "outputs": [],
   "source": [
    "from langchain.embeddings.sagemaker_endpoint import EmbeddingsContentHandler\n",
    "\n",
    "\n",
    "class SagemakerEndpointEmbeddingsJumpStart(SagemakerEndpointEmbeddings):\n",
    "    def embed_documents(self, texts: List[str], chunk_size: int = 5) -> List[List[float]]:\n",
    "        \"\"\"Compute doc embeddings using a SageMaker Inference Endpoint.\n",
    "\n",
    "        Args:\n",
    "            texts: The list of texts to embed.\n",
    "            chunk_size: The chunk size defines how many input texts will\n",
    "                be grouped together as request. If None, will use the\n",
    "                chunk size specified by the class.\n",
    "\n",
    "        Returns:\n",
    "            List of embeddings, one for each text.\n",
    "        \"\"\"\n",
    "        results = [] # To store the results of embeddings\n",
    "        _chunk_size = len(texts) if chunk_size > len(texts) else chunk_size\n",
    "\n",
    "        for i in range(0, len(texts), _chunk_size):\n",
    "            response = self._embedding_func(texts[i : i + _chunk_size])\n",
    "            print\n",
    "            results.extend(response)\n",
    "        return results\n",
    "\n",
    "\n",
    "class ContentHandler(EmbeddingsContentHandler):\n",
    "    content_type = \"application/json\"\n",
    "    accepts = \"application/json\"\n",
    "\n",
    "    def transform_input(self, prompt: str, model_kwargs={}) -> bytes:\n",
    "        # Converts input string and model arguments to JSON and encodes it as bytes\n",
    "        input_str = json.dumps({\"text_inputs\": prompt, **model_kwargs})\n",
    "        return input_str.encode(\"utf-8\")\n",
    "\n",
    "    def transform_output(self, output: bytes) -> str:\n",
    "        # Decodes the JSON response from the model and extracts embeddings\n",
    "        response_json = json.loads(output.read().decode(\"utf-8\"))\n",
    "        embeddings = response_json[\"embedding\"]\n",
    "        return embeddings\n",
    "\n",
    "\n",
    "content_handler = ContentHandler()\n",
    "\n",
    "embeddings = SagemakerEndpointEmbeddingsJumpStart(\n",
    "    endpoint_name=_MODEL_CONFIG_[\"huggingface-textembedding-gpt-j-6b\"][\"endpoint_name\"],\n",
    "    region_name=aws_region,\n",
    "    content_handler=content_handler,\n",
    ")"
   ]
  },
  {
   "cell_type": "markdown",
   "metadata": {},
   "source": [
    "Next, we wrap up our SageMaker endpoints for LLama2 into `langchain.llms.sagemaker_endpoint.SagemakerEndpoint`. "
   ]
  },
  {
   "cell_type": "markdown",
   "metadata": {},
   "source": [
    "#### **<span style=\"color:red\">The below block only works for Llama2 Chat. If you want to wrap any other LLM, please make the necessary changes to the Content Handler Class</span>.** "
   ]
  },
  {
   "cell_type": "code",
   "execution_count": 11,
   "metadata": {
    "tags": []
   },
   "outputs": [],
   "source": [
    "from langchain.llms.sagemaker_endpoint import LLMContentHandler, SagemakerEndpoint\n",
    "\n",
    "\n",
    "class ContentHandler(LLMContentHandler):\n",
    "    content_type = \"application/json\"\n",
    "    accepts = \"application/json\"\n",
    "\n",
    "    def transform_input(self, prompt: str, model_kwargs: dict) -> bytes:\n",
    "        input_str = json.dumps({\"inputs\" : [[{\"role\" : \"system\",\n",
    "        \"content\" : \"\"\"You are a helpful, respectful and honest MBA Graduate Teaching Assistant. \n",
    "        Always answer as helpfully as possible, while being safe.  \n",
    "        Your answers should not include any harmful, unethical, racist, sexist, toxic, dangerous, or illegal content. \n",
    "        Please ensure that your responses are socially unbiased and positive in nature.\n",
    "        If a question does not make any sense, or is not factually coherent, explain why instead of answering something not correct. \n",
    "        If you don't know the answer to a question, please don't share false information.\"\"\"},\n",
    "                                             \n",
    "        {\"role\" : \"user\", \"content\" : prompt}]],\n",
    "        \"parameters\" : {**model_kwargs}})\n",
    "        return input_str.encode('utf-8')\n",
    "    \n",
    "    def transform_output(self, output: bytes) -> str:\n",
    "        response_json = json.loads(output.read().decode(\"utf-8\"))\n",
    "        return response_json[0][\"generation\"][\"content\"]\n",
    "    \n"
   ]
  },
  {
   "cell_type": "markdown",
   "metadata": {},
   "source": [
    "#### Instantiate a LangChain SageMaker Endpoint Object"
   ]
  },
  {
   "cell_type": "code",
   "execution_count": 162,
   "metadata": {
    "tags": []
   },
   "outputs": [],
   "source": [
    "#content handler class for LLama2 7B Chat Model\n",
    "\n",
    "parameters={ \"max_new_tokens\": 1500, \n",
    "            \"top_p\": 0.9, \n",
    "            \"temperature\": 0.6\n",
    "            \n",
    "    }\n",
    "\n",
    "content_handler = ContentHandler()\n",
    "\n",
    "llm=SagemakerEndpoint(\n",
    "     endpoint_name=_MODEL_CONFIG_[\"meta-textgeneration-llama-2-7b\"][\"endpoint_name\"], \n",
    "     region_name=aws_region, \n",
    "     model_kwargs=parameters,\n",
    "     endpoint_kwargs={\"CustomAttributes\": 'accept_eula=true'},\n",
    "     content_handler=content_handler\n",
    " )"
   ]
  },
  {
   "cell_type": "markdown",
   "metadata": {},
   "source": [
    "#### Create a Prompt Template"
   ]
  },
  {
   "cell_type": "code",
   "execution_count": 164,
   "metadata": {},
   "outputs": [],
   "source": [
    "from langchain import PromptTemplate\n",
    "template = \"{content}\"\n",
    "\n",
    "prompt = PromptTemplate.from_template(template)"
   ]
  },
  {
   "cell_type": "markdown",
   "metadata": {},
   "source": [
    "#### <b>Combine your SageMaker endpoint and prompt template to create an LLM chain</b>"
   ]
  },
  {
   "cell_type": "markdown",
   "metadata": {},
   "source": [
    "The most basic type of chain in LangChain is the LLM chain, which combines an LLM with a prompt template. An LLM chain is instantiated with details related to your LLM and the prompt template you would like to use. You can then run the LLM chain by passing it text. The LLM chain will format that text based on the associated prompt template, and then pass the formatted text to the LLM, and provide the response of the LLM back to you."
   ]
  },
  {
   "cell_type": "code",
   "execution_count": 165,
   "metadata": {
    "tags": []
   },
   "outputs": [],
   "source": [
    "from langchain import LLMChain\n",
    "llm_chain = LLMChain(\n",
    "     llm=llm,\n",
    "     prompt=prompt\n",
    " )"
   ]
  },
  {
   "cell_type": "code",
   "execution_count": 166,
   "metadata": {
    "tags": []
   },
   "outputs": [
    {
     "name": "stdout",
     "output_type": "stream",
     "text": [
      " As a responsible and ethical MBA Graduate Teaching Assistant, I must first emphasize that the decision to use leverage (debt) in a company's operations is a complex and sensitive issue that requires careful consideration of various factors. When determining the appropriate amount of leverage to use, companies must weigh the potential benefits of debt financing against the potential risks and drawbacks.\n",
      "\n",
      "From a lender's perspective, the most important factors to consider when determining the appropriate amount of leverage for a borrower are:\n",
      "\n",
      "1. Creditworthiness: The borrower's credit score and credit history are crucial in determining their ability to repay the loan. Lenders will typically require a higher level of leverage for borrowers with lower credit scores or limited credit history.\n",
      "2. Cash flow: Lenders will want to assess the borrower's ability to generate sufficient cash flow to service their debt obligations. A borrower with a strong cash flow may be able to secure lower interest rates and higher loan amounts.\n",
      "3. Collateral: Lenders may require collateral to mitigate their risk in case the borrower defaults on their loan. The type and value of the collateral will impact the lender's willingness to provide higher levels of leverage.\n",
      "4. Industry and market conditions: Lenders may view certain industries or market conditions as higher risk, which could impact their willingness to provide higher levels of leverage. For example, lenders may be more cautious when lending to companies operating in industries with high levels of competition or regulatory uncertainty.\n",
      "\n",
      "On the other hand, borrowers may view the following factors as important when determining the appropriate amount of leverage to use:\n",
      "\n",
      "1. Cost of capital: Borrowers will want to minimize their cost of capital by securing the lowest possible interest rates and fees.\n",
      "2. Flexibility: Borrowers may prefer to have more flexibility in their financing arrangements, such as the ability to adjust their loan terms or repayment schedule.\n",
      "3. Risk tolerance: Borrowers may have different risk tolerance levels, and may be more or less willing to take on debt depending on their individual circumstances.\n",
      "4. Financial goals: Borrowers may have specific financial goals, such as expanding their business or investing in new opportunities, and may need to consider the impact of debt on their ability to achieve these goals.\n",
      "\n",
      "In conclusion, when determining the appropriate amount of leverage to use, companies must carefully consider a range of factors from both the lender's and borrower's perspectives. It is important to strike a balance between the potential benefits and risks of debt financing, and to seek professional advice from financial advisors or accountants to ensure that the decision is well-informed and in the best interests of the company.\n"
     ]
    }
   ],
   "source": [
    "result=llm_chain.run({\"What factors do you think are important for a company to consider when determining the appropriate amount of leverage (debt) to use? How do lenders and borrowers view this factor differently?\"})\n",
    "print(result)"
   ]
  },
  {
   "cell_type": "markdown",
   "metadata": {},
   "source": [
    "#### <b>Test the LLM hosted on the SageMaker Endpoint</b>"
   ]
  },
  {
   "cell_type": "code",
   "execution_count": 13,
   "metadata": {
    "tags": []
   },
   "outputs": [
    {
     "name": "stdout",
     "output_type": "stream",
     "text": [
      " Of course! As an accounting professor, I'd be happy to help you with your question. Based on your lecture notes, a balance sheet is a financial statement that presents the financial position of a company at a specific point in time. It provides a snapshot of the company's assets, liabilities, and equity at a given date.\n",
      "\n",
      "The balance sheet is composed of three main sections:\n",
      "\n",
      "1. Assets: These are the resources owned by the company, including cash, accounts receivable, inventory, property, plant, and equipment, and investments.\n",
      "2. Liabilities: These are the debts or obligations of the company, including accounts payable, notes payable, and long-term debt.\n",
      "3. Equity: This represents the ownership interest in the company, including common stock, preferred stock, and retained earnings.\n",
      "\n",
      "The balance sheet is important because it provides a comprehensive view of a company's financial position, including its financial strengths and weaknesses. It can help investors, creditors, and other stakeholders evaluate the company's ability to meet its financial obligations and make informed decisions about investing in or lending to the company.\n",
      "\n",
      "I hope this helps! Let me know if you have any further questions based on your lecture notes.\n"
     ]
    }
   ],
   "source": [
    "result=llm_chain.run({\"What is a balance sheet?\"})\n",
    "print(result)"
   ]
  },
  {
   "cell_type": "markdown",
   "metadata": {},
   "source": [
    "## Step 4.2: Ingesting the knowledge database"
   ]
  },
  {
   "cell_type": "markdown",
   "metadata": {},
   "source": [
    "### Initiate a boto3 client to connect to S3 for getting the data"
   ]
  },
  {
   "cell_type": "code",
   "execution_count": 196,
   "metadata": {
    "tags": []
   },
   "outputs": [],
   "source": [
    "import boto3\n",
    "import os"
   ]
  },
  {
   "cell_type": "code",
   "execution_count": 194,
   "metadata": {
    "tags": []
   },
   "outputs": [],
   "source": [
    "def load_S3_data(bucket,s3_dir,local_dir):\n",
    "    s3 = boto3.client('s3') #Configure AWS Credentials using AWS CLI\n",
    "\n",
    "    bucket_name = bucket\n",
    "    prefix = s3_dir\n",
    "    local_directory = local_dir #specify the directory where you want to store the data from the s3 bucket\n",
    "\n",
    "    paginator = s3.get_paginator('list_objects_v2')\n",
    "\n",
    "    for page in paginator.paginate(Bucket=bucket_name, Prefix=prefix):\n",
    "        for obj in page['Contents']:\n",
    "            if obj['Key'].endswith('/') or obj['Key'].endswith('.DS_Store'):  # Skip if the key is a directory or a .DS_Store file.\n",
    "                continue\n",
    "            target = os.path.join(local_directory, os.path.relpath(obj['Key'], prefix))\n",
    "\n",
    "            # make sure all necessary directories exist\n",
    "            os.makedirs(os.path.dirname(target), exist_ok=True)\n",
    "\n",
    "            # download file\n",
    "            s3.download_file(bucket_name, obj['Key'], target)"
   ]
  },
  {
   "cell_type": "code",
   "execution_count": 197,
   "metadata": {
    "tags": []
   },
   "outputs": [],
   "source": [
    "#Uncomment the below lines if data has not been loaded from S3 into the local directory yet. \n",
    "#load_s3_data(\"d3-generative-ai\",\"data/processed/curated_data/\", \"../accounting_data/\") #load acounting data"
   ]
  },
  {
   "cell_type": "code",
   "execution_count": null,
   "metadata": {
    "tags": []
   },
   "outputs": [],
   "source": [
    "!pip install unstructured"
   ]
  },
  {
   "cell_type": "code",
   "execution_count": 13,
   "metadata": {
    "tags": []
   },
   "outputs": [],
   "source": [
    "from langchain.document_loaders import DirectoryLoader"
   ]
  },
  {
   "cell_type": "code",
   "execution_count": 14,
   "metadata": {
    "tags": []
   },
   "outputs": [],
   "source": [
    "#Specify the path of the folder containing the data\n",
    "directory=\"../accounting_data\""
   ]
  },
  {
   "cell_type": "code",
   "execution_count": 15,
   "metadata": {
    "tags": []
   },
   "outputs": [],
   "source": [
    "loader = DirectoryLoader(directory)"
   ]
  },
  {
   "cell_type": "code",
   "execution_count": 16,
   "metadata": {
    "tags": []
   },
   "outputs": [
    {
     "name": "stderr",
     "output_type": "stream",
     "text": [
      "The PDF <_io.BufferedReader name='../accounting_data/Letter from Prison Teaching Note.pdf'> contains a metadata field indicating that it should not allow text extraction. Ignoring this field and proceeding. Use the check_extractable if you want to raise an error in this case\n",
      "The PDF <_io.BufferedReader name='../accounting_data/Molex (B).pdf'> contains a metadata field indicating that it should not allow text extraction. Ignoring this field and proceeding. Use the check_extractable if you want to raise an error in this case\n",
      "The PDF <_io.BufferedReader name='../accounting_data/LIFO vs FIFO technical note.pdf'> contains a metadata field indicating that it should not allow text extraction. Ignoring this field and proceeding. Use the check_extractable if you want to raise an error in this case\n",
      "The PDF <_io.BufferedReader name='../accounting_data/Class 11 - Target Corporation Ackman versus the Board.pdf'> contains a metadata field indicating that it should not allow text extraction. Ignoring this field and proceeding. Use the check_extractable if you want to raise an error in this case\n",
      "The PDF <_io.BufferedReader name='../accounting_data/1118039 Joe & the Juice Case.pdf'> contains a metadata field indicating that it should not allow text extraction. Ignoring this field and proceeding. Use the check_extractable if you want to raise an error in this case\n",
      "The PDF <_io.BufferedReader name='../accounting_data/Case - Souqalmal.pdf'> contains a metadata field indicating that it should not allow text extraction. Ignoring this field and proceeding. Use the check_extractable if you want to raise an error in this case\n",
      "The PDF <_io.BufferedReader name='../accounting_data/Class 5 - Netflix Valuing a New Business Model.pdf'> contains a metadata field indicating that it should not allow text extraction. Ignoring this field and proceeding. Use the check_extractable if you want to raise an error in this case\n",
      "The PDF <_io.BufferedReader name='../accounting_data/112025-MikeMayo Case.pdf'> contains a metadata field indicating that it should not allow text extraction. Ignoring this field and proceeding. Use the check_extractable if you want to raise an error in this case\n",
      "The PDF <_io.BufferedReader name='../accounting_data/Required Reading - HBR - Having Trouble with Your Strategy - Then Map It.pdf'> contains a metadata field indicating that it should not allow text extraction. Ignoring this field and proceeding. Use the check_extractable if you want to raise an error in this case\n",
      "The PDF <_io.BufferedReader name='../accounting_data/Joe TN.pdf'> contains a metadata field indicating that it should not allow text extraction. Ignoring this field and proceeding. Use the check_extractable if you want to raise an error in this case\n",
      "The PDF <_io.BufferedReader name='../accounting_data/Case - China Lodging.pdf'> contains a metadata field indicating that it should not allow text extraction. Ignoring this field and proceeding. Use the check_extractable if you want to raise an error in this case\n",
      "The PDF <_io.BufferedReader name='../accounting_data/Case - PDS.pdf'> contains a metadata field indicating that it should not allow text extraction. Ignoring this field and proceeding. Use the check_extractable if you want to raise an error in this case\n",
      "The PDF <_io.BufferedReader name='../accounting_data/Ambuja Case.pdf'> contains a metadata field indicating that it should not allow text extraction. Ignoring this field and proceeding. Use the check_extractable if you want to raise an error in this case\n",
      "The PDF <_io.BufferedReader name='../accounting_data/118020 Boeing Case.pdf'> contains a metadata field indicating that it should not allow text extraction. Ignoring this field and proceeding. Use the check_extractable if you want to raise an error in this case\n",
      "The PDF <_io.BufferedReader name='../accounting_data/Case.pdf'> contains a metadata field indicating that it should not allow text extraction. Ignoring this field and proceeding. Use the check_extractable if you want to raise an error in this case\n",
      "The PDF <_io.BufferedReader name='../accounting_data/Required Reading - Strategy Execution Module 3 - Using Information for Performance Measurement and Control.pdf'> contains a metadata field indicating that it should not allow text extraction. Ignoring this field and proceeding. Use the check_extractable if you want to raise an error in this case\n",
      "The PDF <_io.BufferedReader name='../accounting_data/Class 9 - Accounting for Nuclear Power Provisions at RWE.pdf'> contains a metadata field indicating that it should not allow text extraction. Ignoring this field and proceeding. Use the check_extractable if you want to raise an error in this case\n",
      "The PDF <_io.BufferedReader name='../accounting_data/193063 Chemalite TN.pdf'> contains a metadata field indicating that it should not allow text extraction. Ignoring this field and proceeding. Use the check_extractable if you want to raise an error in this case\n",
      "The PDF <_io.BufferedReader name='../accounting_data/Required Reading - Control in an Age of Empowerment.pdf'> contains a metadata field indicating that it should not allow text extraction. Ignoring this field and proceeding. Use the check_extractable if you want to raise an error in this case\n",
      "The PDF <_io.BufferedReader name='../accounting_data/Teslas CEO Compensation Plan - Teaching Note.pdf'> contains a metadata field indicating that it should not allow text extraction. Ignoring this field and proceeding. Use the check_extractable if you want to raise an error in this case\n",
      "The PDF <_io.BufferedReader name='../accounting_data/Whistleblower Teaching Note.pdf'> contains a metadata field indicating that it should not allow text extraction. Ignoring this field and proceeding. Use the check_extractable if you want to raise an error in this case\n",
      "The PDF <_io.BufferedReader name='../accounting_data/100079 Owens & Minor B.pdf'> contains a metadata field indicating that it should not allow text extraction. Ignoring this field and proceeding. Use the check_extractable if you want to raise an error in this case\n",
      "The PDF <_io.BufferedReader name='../accounting_data/Case - Voray.pdf'> contains a metadata field indicating that it should not allow text extraction. Ignoring this field and proceeding. Use the check_extractable if you want to raise an error in this case\n",
      "The PDF <_io.BufferedReader name='../accounting_data/Transworld B.pdf'> contains a metadata field indicating that it should not allow text extraction. Ignoring this field and proceeding. Use the check_extractable if you want to raise an error in this case\n",
      "The PDF <_io.BufferedReader name='../accounting_data/GMCR Teaching Note.pdf'> contains a metadata field indicating that it should not allow text extraction. Ignoring this field and proceeding. Use the check_extractable if you want to raise an error in this case\n",
      "The PDF <_io.BufferedReader name='../accounting_data/Case - GMCR.pdf'> contains a metadata field indicating that it should not allow text extraction. Ignoring this field and proceeding. Use the check_extractable if you want to raise an error in this case\n",
      "The PDF <_io.BufferedReader name='../accounting_data/Transworld TN.pdf'> contains a metadata field indicating that it should not allow text extraction. Ignoring this field and proceeding. Use the check_extractable if you want to raise an error in this case\n",
      "The PDF <_io.BufferedReader name='../accounting_data/Reading for Faculty - Designing High Performance Jobs.pdf'> contains a metadata field indicating that it should not allow text extraction. Ignoring this field and proceeding. Use the check_extractable if you want to raise an error in this case\n",
      "The PDF <_io.BufferedReader name='../accounting_data/Noble B case.pdf'> contains a metadata field indicating that it should not allow text extraction. Ignoring this field and proceeding. Use the check_extractable if you want to raise an error in this case\n",
      "The PDF <_io.BufferedReader name='../accounting_data/Molex Teaching Note.pdf'> contains a metadata field indicating that it should not allow text extraction. Ignoring this field and proceeding. Use the check_extractable if you want to raise an error in this case\n",
      "The PDF <_io.BufferedReader name='../accounting_data/118034 Noble Group.pdf'> contains a metadata field indicating that it should not allow text extraction. Ignoring this field and proceeding. Use the check_extractable if you want to raise an error in this case\n",
      "The PDF <_io.BufferedReader name='../accounting_data/177078 Chemalite Case.pdf'> contains a metadata field indicating that it should not allow text extraction. Ignoring this field and proceeding. Use the check_extractable if you want to raise an error in this case\n",
      "The PDF <_io.BufferedReader name='../accounting_data/Required Reading - Strategic Activity-Based Management- Customers.pdf'> contains a metadata field indicating that it should not allow text extraction. Ignoring this field and proceeding. Use the check_extractable if you want to raise an error in this case\n",
      "The PDF <_io.BufferedReader name='../accounting_data/Required Reading - TDABC.pdf'> contains a metadata field indicating that it should not allow text extraction. Ignoring this field and proceeding. Use the check_extractable if you want to raise an error in this case\n",
      "The PDF <_io.BufferedReader name='../accounting_data/Class 3 - The Homes Cycling Shop.pdf'> contains a metadata field indicating that it should not allow text extraction. Ignoring this field and proceeding. Use the check_extractable if you want to raise an error in this case\n",
      "The PDF <_io.BufferedReader name='../accounting_data/Molex (C).pdf'> contains a metadata field indicating that it should not allow text extraction. Ignoring this field and proceeding. Use the check_extractable if you want to raise an error in this case\n",
      "The PDF <_io.BufferedReader name='../accounting_data/Tesla CEO Teaching Note.pdf'> contains a metadata field indicating that it should not allow text extraction. Ignoring this field and proceeding. Use the check_extractable if you want to raise an error in this case\n",
      "The PDF <_io.BufferedReader name='../accounting_data/Case - A Letter from Prison.pdf'> contains a metadata field indicating that it should not allow text extraction. Ignoring this field and proceeding. Use the check_extractable if you want to raise an error in this case\n",
      "The PDF <_io.BufferedReader name='../accounting_data/110027 Transworld Auto Case A.pdf'> contains a metadata field indicating that it should not allow text extraction. Ignoring this field and proceeding. Use the check_extractable if you want to raise an error in this case\n",
      "The PDF <_io.BufferedReader name='../accounting_data/Class 7 - The Talbots, Inc., and Subsidiaries Accounting for Goodwill.pdf'> contains a metadata field indicating that it should not allow text extraction. Ignoring this field and proceeding. Use the check_extractable if you want to raise an error in this case\n",
      "The PDF <_io.BufferedReader name='../accounting_data/Class 2 - Urban Water Partners (A).pdf'> contains a metadata field indicating that it should not allow text extraction. Ignoring this field and proceeding. Use the check_extractable if you want to raise an error in this case\n",
      "The PDF <_io.BufferedReader name='../accounting_data/118023-AES Case.pdf'> contains a metadata field indicating that it should not allow text extraction. Ignoring this field and proceeding. Use the check_extractable if you want to raise an error in this case\n",
      "The PDF <_io.BufferedReader name='../accounting_data/Tesla CEO Comp TN.pdf'> contains a metadata field indicating that it should not allow text extraction. Ignoring this field and proceeding. Use the check_extractable if you want to raise an error in this case\n",
      "The PDF <_io.BufferedReader name='../accounting_data/Li & Fung TN.pdf'> contains a metadata field indicating that it should not allow text extraction. Ignoring this field and proceeding. Use the check_extractable if you want to raise an error in this case\n",
      "The PDF <_io.BufferedReader name='../accounting_data/116052 Dollar General TN.pdf'> contains a metadata field indicating that it should not allow text extraction. Ignoring this field and proceeding. Use the check_extractable if you want to raise an error in this case\n",
      "The PDF <_io.BufferedReader name='../accounting_data/Class 24 - New Century Financial Corporation (Abridged).pdf'> contains a metadata field indicating that it should not allow text extraction. Ignoring this field and proceeding. Use the check_extractable if you want to raise an error in this case\n",
      "The PDF <_io.BufferedReader name='../accounting_data/Lord Hobo Brewing Co Case.pdf'> contains a metadata field indicating that it should not allow text extraction. Ignoring this field and proceeding. Use the check_extractable if you want to raise an error in this case\n",
      "The PDF <_io.BufferedReader name='../accounting_data/Lord Hobo Case.pdf'> contains a metadata field indicating that it should not allow text extraction. Ignoring this field and proceeding. Use the check_extractable if you want to raise an error in this case\n",
      "The PDF <_io.BufferedReader name='../accounting_data/100100 Owens & Minor TN.pdf'> contains a metadata field indicating that it should not allow text extraction. Ignoring this field and proceeding. Use the check_extractable if you want to raise an error in this case\n",
      "The PDF <_io.BufferedReader name='../accounting_data/Reading for Faculty -SE Module 1_Managing Organizational Tensions.pdf'> contains a metadata field indicating that it should not allow text extraction. Ignoring this field and proceeding. Use the check_extractable if you want to raise an error in this case\n",
      "The PDF <_io.BufferedReader name='../accounting_data/Class 17 - Nordstrom Dissension in the Ranks (A).pdf'> contains a metadata field indicating that it should not allow text extraction. Ignoring this field and proceeding. Use the check_extractable if you want to raise an error in this case\n",
      "The PDF <_io.BufferedReader name='../accounting_data/Class 16 - Three-Year Planning at Li & Fung Limited.pdf'> contains a metadata field indicating that it should not allow text extraction. Ignoring this field and proceeding. Use the check_extractable if you want to raise an error in this case\n",
      "The PDF <_io.BufferedReader name='../accounting_data/Case - Brown and Coconut.pdf'> contains a metadata field indicating that it should not allow text extraction. Ignoring this field and proceeding. Use the check_extractable if you want to raise an error in this case\n",
      "The PDF <_io.BufferedReader name='../accounting_data/Class 23 - Whistleblower Legislation in the Context of Financial Reporting.pdf'> contains a metadata field indicating that it should not allow text extraction. Ignoring this field and proceeding. Use the check_extractable if you want to raise an error in this case\n",
      "The PDF <_io.BufferedReader name='../accounting_data/Class 8 - Leasing Decision at Magnet Beauty Products, Inc..pdf'> contains a metadata field indicating that it should not allow text extraction. Ignoring this field and proceeding. Use the check_extractable if you want to raise an error in this case\n",
      "The PDF <_io.BufferedReader name='../accounting_data/100055 Owens & Minor Case A.pdf'> contains a metadata field indicating that it should not allow text extraction. Ignoring this field and proceeding. Use the check_extractable if you want to raise an error in this case\n",
      "The PDF <_io.BufferedReader name='../accounting_data/Molex (A).pdf'> contains a metadata field indicating that it should not allow text extraction. Ignoring this field and proceeding. Use the check_extractable if you want to raise an error in this case\n",
      "The PDF <_io.BufferedReader name='../accounting_data/Class 6 - Fair Value Accounting at Berkshire.pdf'> contains a metadata field indicating that it should not allow text extraction. Ignoring this field and proceeding. Use the check_extractable if you want to raise an error in this case\n",
      "The PDF <_io.BufferedReader name='../accounting_data/Service Operations Normative and Instrumental Controls.pdf'> contains a metadata field indicating that it should not allow text extraction. Ignoring this field and proceeding. Use the check_extractable if you want to raise an error in this case\n",
      "The PDF <_io.BufferedReader name='../accounting_data/116007 Dollar General Case.pdf'> contains a metadata field indicating that it should not allow text extraction. Ignoring this field and proceeding. Use the check_extractable if you want to raise an error in this case\n",
      "The PDF <_io.BufferedReader name='../accounting_data/Class 21 - Building a Meritocracy at Alghanim Industries.pdf'> contains a metadata field indicating that it should not allow text extraction. Ignoring this field and proceeding. Use the check_extractable if you want to raise an error in this case\n"
     ]
    }
   ],
   "source": [
    "documents = loader.load()"
   ]
  },
  {
   "cell_type": "code",
   "execution_count": 186,
   "metadata": {
    "tags": []
   },
   "outputs": [
    {
     "data": {
      "text/plain": [
       "102"
      ]
     },
     "execution_count": 186,
     "metadata": {},
     "output_type": "execute_result"
    }
   ],
   "source": [
    "len(documents)"
   ]
  },
  {
   "cell_type": "markdown",
   "metadata": {},
   "source": [
    "## Step 4.3: Feeding data into Vector Databse and building the context based Question Answering Application"
   ]
  },
  {
   "cell_type": "code",
   "execution_count": null,
   "metadata": {},
   "outputs": [],
   "source": [
    "!pip install tokenizers\n",
    "!pip install tiktoken -q"
   ]
  },
  {
   "cell_type": "code",
   "execution_count": 18,
   "metadata": {
    "tags": []
   },
   "outputs": [],
   "source": [
    "from langchain.chains import RetrievalQA\n",
    "from langchain.document_loaders import TextLoader\n",
    "from langchain.indexes import VectorstoreIndexCreator\n",
    "from langchain.vectorstores import Chroma, AtlasDB, FAISS\n",
    "from langchain.text_splitter import CharacterTextSplitter\n",
    "from langchain import PromptTemplate\n",
    "from langchain.chains.question_answering import load_qa_chain"
   ]
  },
  {
   "cell_type": "code",
   "execution_count": 19,
   "metadata": {
    "tags": []
   },
   "outputs": [
    {
     "name": "stderr",
     "output_type": "stream",
     "text": [
      "Created a chunk of size 1243, which is longer than the specified 1000\n",
      "Created a chunk of size 1046, which is longer than the specified 1000\n",
      "Created a chunk of size 3518, which is longer than the specified 1000\n",
      "Created a chunk of size 1429, which is longer than the specified 1000\n",
      "Created a chunk of size 1405, which is longer than the specified 1000\n",
      "Created a chunk of size 1199, which is longer than the specified 1000\n",
      "Created a chunk of size 1240, which is longer than the specified 1000\n",
      "Created a chunk of size 1162, which is longer than the specified 1000\n",
      "Created a chunk of size 1104, which is longer than the specified 1000\n",
      "Created a chunk of size 1180, which is longer than the specified 1000\n",
      "Created a chunk of size 1068, which is longer than the specified 1000\n",
      "Created a chunk of size 1012, which is longer than the specified 1000\n",
      "Created a chunk of size 1328, which is longer than the specified 1000\n",
      "Created a chunk of size 1381, which is longer than the specified 1000\n",
      "Created a chunk of size 1753, which is longer than the specified 1000\n",
      "Created a chunk of size 1054, which is longer than the specified 1000\n",
      "Created a chunk of size 1193, which is longer than the specified 1000\n",
      "Created a chunk of size 1016, which is longer than the specified 1000\n",
      "Created a chunk of size 1038, which is longer than the specified 1000\n",
      "Created a chunk of size 2523, which is longer than the specified 1000\n",
      "Created a chunk of size 21200, which is longer than the specified 1000\n",
      "Created a chunk of size 1326, which is longer than the specified 1000\n",
      "Created a chunk of size 1284, which is longer than the specified 1000\n",
      "Created a chunk of size 1195, which is longer than the specified 1000\n",
      "Created a chunk of size 1118, which is longer than the specified 1000\n",
      "Created a chunk of size 1248, which is longer than the specified 1000\n",
      "Created a chunk of size 1142, which is longer than the specified 1000\n",
      "Created a chunk of size 1287, which is longer than the specified 1000\n",
      "Created a chunk of size 1554, which is longer than the specified 1000\n",
      "Created a chunk of size 1263, which is longer than the specified 1000\n",
      "Created a chunk of size 1602, which is longer than the specified 1000\n",
      "Created a chunk of size 1007, which is longer than the specified 1000\n",
      "Created a chunk of size 1422, which is longer than the specified 1000\n",
      "Created a chunk of size 1425, which is longer than the specified 1000\n",
      "Created a chunk of size 1348, which is longer than the specified 1000\n",
      "Created a chunk of size 1058, which is longer than the specified 1000\n",
      "Created a chunk of size 1247, which is longer than the specified 1000\n",
      "Created a chunk of size 1075, which is longer than the specified 1000\n",
      "Created a chunk of size 1071, which is longer than the specified 1000\n",
      "Created a chunk of size 1108, which is longer than the specified 1000\n",
      "Created a chunk of size 1041, which is longer than the specified 1000\n",
      "Created a chunk of size 1309, which is longer than the specified 1000\n",
      "Created a chunk of size 1237, which is longer than the specified 1000\n",
      "Created a chunk of size 1301, which is longer than the specified 1000\n",
      "Created a chunk of size 1116, which is longer than the specified 1000\n",
      "Created a chunk of size 1083, which is longer than the specified 1000\n",
      "Created a chunk of size 1141, which is longer than the specified 1000\n",
      "Created a chunk of size 1015, which is longer than the specified 1000\n",
      "Created a chunk of size 1337, which is longer than the specified 1000\n",
      "Created a chunk of size 1011, which is longer than the specified 1000\n",
      "Created a chunk of size 1085, which is longer than the specified 1000\n",
      "Created a chunk of size 1007, which is longer than the specified 1000\n",
      "Created a chunk of size 1675, which is longer than the specified 1000\n",
      "Created a chunk of size 1162, which is longer than the specified 1000\n",
      "Created a chunk of size 1137, which is longer than the specified 1000\n",
      "Created a chunk of size 1680, which is longer than the specified 1000\n",
      "Created a chunk of size 1001, which is longer than the specified 1000\n",
      "Created a chunk of size 1046, which is longer than the specified 1000\n",
      "Created a chunk of size 1451, which is longer than the specified 1000\n",
      "Created a chunk of size 1184, which is longer than the specified 1000\n",
      "Created a chunk of size 1170, which is longer than the specified 1000\n",
      "Created a chunk of size 1153, which is longer than the specified 1000\n",
      "Created a chunk of size 1062, which is longer than the specified 1000\n",
      "Created a chunk of size 1067, which is longer than the specified 1000\n",
      "Created a chunk of size 1070, which is longer than the specified 1000\n",
      "Created a chunk of size 1444, which is longer than the specified 1000\n",
      "Created a chunk of size 1310, which is longer than the specified 1000\n",
      "Created a chunk of size 1331, which is longer than the specified 1000\n",
      "Created a chunk of size 1040, which is longer than the specified 1000\n",
      "Created a chunk of size 1069, which is longer than the specified 1000\n",
      "Created a chunk of size 1625, which is longer than the specified 1000\n",
      "Created a chunk of size 1130, which is longer than the specified 1000\n",
      "Created a chunk of size 1682, which is longer than the specified 1000\n",
      "Created a chunk of size 1051, which is longer than the specified 1000\n",
      "Created a chunk of size 1105, which is longer than the specified 1000\n",
      "Created a chunk of size 1180, which is longer than the specified 1000\n",
      "Created a chunk of size 1104, which is longer than the specified 1000\n",
      "Created a chunk of size 1630, which is longer than the specified 1000\n",
      "Created a chunk of size 1269, which is longer than the specified 1000\n",
      "Created a chunk of size 1193, which is longer than the specified 1000\n",
      "Created a chunk of size 1899, which is longer than the specified 1000\n",
      "Created a chunk of size 1047, which is longer than the specified 1000\n",
      "Created a chunk of size 1308, which is longer than the specified 1000\n",
      "Created a chunk of size 1353, which is longer than the specified 1000\n",
      "Created a chunk of size 1063, which is longer than the specified 1000\n",
      "Created a chunk of size 1251, which is longer than the specified 1000\n",
      "Created a chunk of size 1008, which is longer than the specified 1000\n",
      "Created a chunk of size 1020, which is longer than the specified 1000\n",
      "Created a chunk of size 1031, which is longer than the specified 1000\n",
      "Created a chunk of size 1065, which is longer than the specified 1000\n",
      "Created a chunk of size 1127, which is longer than the specified 1000\n",
      "Created a chunk of size 1731, which is longer than the specified 1000\n",
      "Created a chunk of size 1563, which is longer than the specified 1000\n",
      "Created a chunk of size 1066, which is longer than the specified 1000\n",
      "Created a chunk of size 1483, which is longer than the specified 1000\n",
      "Created a chunk of size 1029, which is longer than the specified 1000\n",
      "Created a chunk of size 1014, which is longer than the specified 1000\n",
      "Created a chunk of size 1191, which is longer than the specified 1000\n",
      "Created a chunk of size 1178, which is longer than the specified 1000\n",
      "Created a chunk of size 1298, which is longer than the specified 1000\n",
      "Created a chunk of size 1412, which is longer than the specified 1000\n",
      "Created a chunk of size 1522, which is longer than the specified 1000\n",
      "Created a chunk of size 1052, which is longer than the specified 1000\n",
      "Created a chunk of size 1007, which is longer than the specified 1000\n",
      "Created a chunk of size 1611, which is longer than the specified 1000\n",
      "Created a chunk of size 1094, which is longer than the specified 1000\n",
      "Created a chunk of size 1130, which is longer than the specified 1000\n",
      "Created a chunk of size 1048, which is longer than the specified 1000\n",
      "Created a chunk of size 1100, which is longer than the specified 1000\n",
      "Created a chunk of size 1218, which is longer than the specified 1000\n",
      "Created a chunk of size 1012, which is longer than the specified 1000\n",
      "Created a chunk of size 1004, which is longer than the specified 1000\n",
      "Created a chunk of size 1241, which is longer than the specified 1000\n",
      "Created a chunk of size 1010, which is longer than the specified 1000\n",
      "Created a chunk of size 1169, which is longer than the specified 1000\n",
      "Created a chunk of size 1452, which is longer than the specified 1000\n",
      "Created a chunk of size 1083, which is longer than the specified 1000\n",
      "Created a chunk of size 1396, which is longer than the specified 1000\n",
      "Created a chunk of size 1249, which is longer than the specified 1000\n",
      "Created a chunk of size 1041, which is longer than the specified 1000\n",
      "Created a chunk of size 1254, which is longer than the specified 1000\n",
      "Created a chunk of size 1186, which is longer than the specified 1000\n",
      "Created a chunk of size 1296, which is longer than the specified 1000\n",
      "Created a chunk of size 1090, which is longer than the specified 1000\n",
      "Created a chunk of size 1088, which is longer than the specified 1000\n",
      "Created a chunk of size 1019, which is longer than the specified 1000\n",
      "Created a chunk of size 1063, which is longer than the specified 1000\n",
      "Created a chunk of size 1301, which is longer than the specified 1000\n",
      "Created a chunk of size 2806, which is longer than the specified 1000\n",
      "Created a chunk of size 1108, which is longer than the specified 1000\n",
      "Created a chunk of size 1527, which is longer than the specified 1000\n",
      "Created a chunk of size 1035, which is longer than the specified 1000\n",
      "Created a chunk of size 1150, which is longer than the specified 1000\n",
      "Created a chunk of size 1159, which is longer than the specified 1000\n",
      "Created a chunk of size 1033, which is longer than the specified 1000\n",
      "Created a chunk of size 1679, which is longer than the specified 1000\n",
      "Created a chunk of size 1092, which is longer than the specified 1000\n",
      "Created a chunk of size 1112, which is longer than the specified 1000\n",
      "Created a chunk of size 1513, which is longer than the specified 1000\n",
      "Created a chunk of size 1135, which is longer than the specified 1000\n",
      "Created a chunk of size 1157, which is longer than the specified 1000\n",
      "Created a chunk of size 1106, which is longer than the specified 1000\n",
      "Created a chunk of size 1170, which is longer than the specified 1000\n",
      "Created a chunk of size 1188, which is longer than the specified 1000\n",
      "Created a chunk of size 1469, which is longer than the specified 1000\n",
      "Created a chunk of size 2085, which is longer than the specified 1000\n",
      "Created a chunk of size 5486, which is longer than the specified 1000\n",
      "Created a chunk of size 1323, which is longer than the specified 1000\n",
      "Created a chunk of size 1366, which is longer than the specified 1000\n",
      "Created a chunk of size 1149, which is longer than the specified 1000\n",
      "Created a chunk of size 1081, which is longer than the specified 1000\n",
      "Created a chunk of size 1025, which is longer than the specified 1000\n",
      "Created a chunk of size 1036, which is longer than the specified 1000\n",
      "Created a chunk of size 1565, which is longer than the specified 1000\n",
      "Created a chunk of size 1246, which is longer than the specified 1000\n",
      "Created a chunk of size 1152, which is longer than the specified 1000\n",
      "Created a chunk of size 1153, which is longer than the specified 1000\n",
      "Created a chunk of size 1384, which is longer than the specified 1000\n",
      "Created a chunk of size 1097, which is longer than the specified 1000\n",
      "Created a chunk of size 1215, which is longer than the specified 1000\n",
      "Created a chunk of size 1106, which is longer than the specified 1000\n",
      "Created a chunk of size 1448, which is longer than the specified 1000\n",
      "Created a chunk of size 1169, which is longer than the specified 1000\n",
      "Created a chunk of size 1193, which is longer than the specified 1000\n",
      "Created a chunk of size 1035, which is longer than the specified 1000\n",
      "Created a chunk of size 1030, which is longer than the specified 1000\n",
      "Created a chunk of size 1050, which is longer than the specified 1000\n",
      "Created a chunk of size 1082, which is longer than the specified 1000\n",
      "Created a chunk of size 5577, which is longer than the specified 1000\n",
      "Created a chunk of size 5963, which is longer than the specified 1000\n",
      "Created a chunk of size 1318, which is longer than the specified 1000\n",
      "Created a chunk of size 2697, which is longer than the specified 1000\n",
      "Created a chunk of size 2750, which is longer than the specified 1000\n",
      "Created a chunk of size 1206, which is longer than the specified 1000\n",
      "Created a chunk of size 1734, which is longer than the specified 1000\n",
      "Created a chunk of size 1522, which is longer than the specified 1000\n",
      "Created a chunk of size 1052, which is longer than the specified 1000\n",
      "Created a chunk of size 1621, which is longer than the specified 1000\n",
      "Created a chunk of size 1057, which is longer than the specified 1000\n",
      "Created a chunk of size 1186, which is longer than the specified 1000\n",
      "Created a chunk of size 1334, which is longer than the specified 1000\n",
      "Created a chunk of size 1120, which is longer than the specified 1000\n",
      "Created a chunk of size 1157, which is longer than the specified 1000\n",
      "Created a chunk of size 1100, which is longer than the specified 1000\n",
      "Created a chunk of size 2292, which is longer than the specified 1000\n",
      "Created a chunk of size 1035, which is longer than the specified 1000\n",
      "Created a chunk of size 1197, which is longer than the specified 1000\n",
      "Created a chunk of size 1106, which is longer than the specified 1000\n",
      "Created a chunk of size 1033, which is longer than the specified 1000\n",
      "Created a chunk of size 1299, which is longer than the specified 1000\n",
      "Created a chunk of size 1091, which is longer than the specified 1000\n",
      "Created a chunk of size 1200, which is longer than the specified 1000\n",
      "Created a chunk of size 1067, which is longer than the specified 1000\n",
      "Created a chunk of size 1071, which is longer than the specified 1000\n",
      "Created a chunk of size 1267, which is longer than the specified 1000\n",
      "Created a chunk of size 1854, which is longer than the specified 1000\n",
      "Created a chunk of size 1043, which is longer than the specified 1000\n",
      "Created a chunk of size 1207, which is longer than the specified 1000\n",
      "Created a chunk of size 2404, which is longer than the specified 1000\n",
      "Created a chunk of size 1164, which is longer than the specified 1000\n",
      "Created a chunk of size 1193, which is longer than the specified 1000\n",
      "Created a chunk of size 1253, which is longer than the specified 1000\n",
      "Created a chunk of size 5487, which is longer than the specified 1000\n",
      "Created a chunk of size 1231, which is longer than the specified 1000\n",
      "Created a chunk of size 1175, which is longer than the specified 1000\n",
      "Created a chunk of size 1190, which is longer than the specified 1000\n",
      "Created a chunk of size 1034, which is longer than the specified 1000\n",
      "Created a chunk of size 1205, which is longer than the specified 1000\n",
      "Created a chunk of size 1395, which is longer than the specified 1000\n",
      "Created a chunk of size 1452, which is longer than the specified 1000\n",
      "Created a chunk of size 1083, which is longer than the specified 1000\n",
      "Created a chunk of size 1396, which is longer than the specified 1000\n",
      "Created a chunk of size 1249, which is longer than the specified 1000\n",
      "Created a chunk of size 1041, which is longer than the specified 1000\n",
      "Created a chunk of size 1254, which is longer than the specified 1000\n",
      "Created a chunk of size 1186, which is longer than the specified 1000\n",
      "Created a chunk of size 1296, which is longer than the specified 1000\n",
      "Created a chunk of size 1090, which is longer than the specified 1000\n",
      "Created a chunk of size 1194, which is longer than the specified 1000\n",
      "Created a chunk of size 1088, which is longer than the specified 1000\n",
      "Created a chunk of size 1053, which is longer than the specified 1000\n",
      "Created a chunk of size 2038, which is longer than the specified 1000\n",
      "Created a chunk of size 1204, which is longer than the specified 1000\n",
      "Created a chunk of size 1010, which is longer than the specified 1000\n",
      "Created a chunk of size 1260, which is longer than the specified 1000\n",
      "Created a chunk of size 1013, which is longer than the specified 1000\n",
      "Created a chunk of size 1225, which is longer than the specified 1000\n",
      "Created a chunk of size 1169, which is longer than the specified 1000\n",
      "Created a chunk of size 1711, which is longer than the specified 1000\n",
      "Created a chunk of size 1168, which is longer than the specified 1000\n",
      "Created a chunk of size 1163, which is longer than the specified 1000\n",
      "Created a chunk of size 1179, which is longer than the specified 1000\n",
      "Created a chunk of size 1850, which is longer than the specified 1000\n",
      "Created a chunk of size 1178, which is longer than the specified 1000\n",
      "Created a chunk of size 3971, which is longer than the specified 1000\n",
      "Created a chunk of size 1035, which is longer than the specified 1000\n",
      "Created a chunk of size 1163, which is longer than the specified 1000\n",
      "Created a chunk of size 1179, which is longer than the specified 1000\n",
      "Created a chunk of size 1850, which is longer than the specified 1000\n",
      "Created a chunk of size 1176, which is longer than the specified 1000\n",
      "Created a chunk of size 1291, which is longer than the specified 1000\n",
      "Created a chunk of size 1319, which is longer than the specified 1000\n",
      "Created a chunk of size 1156, which is longer than the specified 1000\n",
      "Created a chunk of size 1068, which is longer than the specified 1000\n",
      "Created a chunk of size 1064, which is longer than the specified 1000\n",
      "Created a chunk of size 1783, which is longer than the specified 1000\n",
      "Created a chunk of size 4505, which is longer than the specified 1000\n",
      "Created a chunk of size 2075, which is longer than the specified 1000\n",
      "Created a chunk of size 1023, which is longer than the specified 1000\n",
      "Created a chunk of size 1395, which is longer than the specified 1000\n",
      "Created a chunk of size 1109, which is longer than the specified 1000\n",
      "Created a chunk of size 1015, which is longer than the specified 1000\n",
      "Created a chunk of size 1113, which is longer than the specified 1000\n",
      "Created a chunk of size 1001, which is longer than the specified 1000\n",
      "Created a chunk of size 1135, which is longer than the specified 1000\n",
      "Created a chunk of size 1244, which is longer than the specified 1000\n",
      "Created a chunk of size 1028, which is longer than the specified 1000\n",
      "Created a chunk of size 1289, which is longer than the specified 1000\n",
      "Created a chunk of size 1644, which is longer than the specified 1000\n",
      "Created a chunk of size 1172, which is longer than the specified 1000\n",
      "Created a chunk of size 1034, which is longer than the specified 1000\n",
      "Created a chunk of size 1173, which is longer than the specified 1000\n",
      "Created a chunk of size 1135, which is longer than the specified 1000\n",
      "Created a chunk of size 2006, which is longer than the specified 1000\n",
      "Created a chunk of size 1613, which is longer than the specified 1000\n",
      "Created a chunk of size 1215, which is longer than the specified 1000\n",
      "Created a chunk of size 1028, which is longer than the specified 1000\n",
      "Created a chunk of size 1047, which is longer than the specified 1000\n",
      "Created a chunk of size 1530, which is longer than the specified 1000\n",
      "Created a chunk of size 1274, which is longer than the specified 1000\n",
      "Created a chunk of size 1076, which is longer than the specified 1000\n",
      "Created a chunk of size 1544, which is longer than the specified 1000\n",
      "Created a chunk of size 1186, which is longer than the specified 1000\n",
      "Created a chunk of size 1096, which is longer than the specified 1000\n",
      "Created a chunk of size 1121, which is longer than the specified 1000\n",
      "Created a chunk of size 1041, which is longer than the specified 1000\n",
      "Created a chunk of size 1197, which is longer than the specified 1000\n",
      "Created a chunk of size 1041, which is longer than the specified 1000\n",
      "Created a chunk of size 1151, which is longer than the specified 1000\n",
      "Created a chunk of size 1106, which is longer than the specified 1000\n",
      "Created a chunk of size 1077, which is longer than the specified 1000\n",
      "Created a chunk of size 1140, which is longer than the specified 1000\n",
      "Created a chunk of size 1506, which is longer than the specified 1000\n",
      "Created a chunk of size 1500, which is longer than the specified 1000\n",
      "Created a chunk of size 1041, which is longer than the specified 1000\n",
      "Created a chunk of size 1500, which is longer than the specified 1000\n",
      "Created a chunk of size 1334, which is longer than the specified 1000\n",
      "Created a chunk of size 1811, which is longer than the specified 1000\n",
      "Created a chunk of size 1059, which is longer than the specified 1000\n",
      "Created a chunk of size 1607, which is longer than the specified 1000\n",
      "Created a chunk of size 1004, which is longer than the specified 1000\n",
      "Created a chunk of size 1017, which is longer than the specified 1000\n",
      "Created a chunk of size 1149, which is longer than the specified 1000\n",
      "Created a chunk of size 1080, which is longer than the specified 1000\n",
      "Created a chunk of size 1628, which is longer than the specified 1000\n"
     ]
    }
   ],
   "source": [
    "# split the documents into chunks\n",
    "text_splitter = CharacterTextSplitter(chunk_size=1000, chunk_overlap=0)\n",
    "docs = text_splitter.split_documents(documents)"
   ]
  },
  {
   "cell_type": "code",
   "execution_count": 20,
   "metadata": {
    "tags": []
   },
   "outputs": [],
   "source": [
    "# Firstly, we generate embedings for each of document in the knowledge library with SageMaker GPT-J-6B embedding model\n",
    "docsearch = FAISS.from_documents(docs, embeddings)"
   ]
  },
  {
   "cell_type": "code",
   "execution_count": 34,
   "metadata": {
    "tags": []
   },
   "outputs": [],
   "source": [
    "#add note about retriever"
   ]
  },
  {
   "cell_type": "code",
   "execution_count": 21,
   "metadata": {},
   "outputs": [],
   "source": [
    "# expose the index in a retriever interface\n",
    "retriever = docsearch.as_retriever(search_type=\"similarity\", search_kwargs={\"k\":10})"
   ]
  },
  {
   "cell_type": "code",
   "execution_count": 112,
   "metadata": {},
   "outputs": [],
   "source": [
    "#create a prompt template for generating questions on the list of summaries\n",
    "from langchain.prompts import PromptTemplate\n",
    "\n",
    "prompt_template = \"\"\"Generate 10 questions from the provided context for an accounting exam on these topics: {question}\\n Context is: \\n{context}\"\"\"\n",
    "Question_Prompt = PromptTemplate.from_template(prompt_template)"
   ]
  },
  {
   "cell_type": "code",
   "execution_count": 129,
   "metadata": {
    "tags": []
   },
   "outputs": [],
   "source": [
    "prompt_template=\"\"\"\n",
    "Use the following pieces of context to answer the question at the end. \n",
    "If you don't know the answer, just say that you don't know, don't try to make up an answer.\n",
    "\\n\\n{context}\\n\\n\n",
    "Question: Generate 10 questions from the provided context for an accounting exam on these topics: {question}\n",
    "\\nHelpful Answer:\n",
    "\"\"\"\n",
    "Question_Prompt = PromptTemplate.from_template(prompt_template)"
   ]
  },
  {
   "cell_type": "code",
   "execution_count": 130,
   "metadata": {},
   "outputs": [],
   "source": [
    "# create a chain to generrate questions \n",
    "q = RetrievalQA.from_chain_type(\n",
    "    llm=llm, chain_type=\"stuff\", retriever=retriever, return_source_documents=True,chain_type_kwargs={\"prompt\":Question_Prompt})"
   ]
  },
  {
   "cell_type": "code",
   "execution_count": 131,
   "metadata": {
    "tags": []
   },
   "outputs": [
    {
     "name": "stdout",
     "output_type": "stream",
     "text": [
      "\n",
      "Use the following pieces of context to answer the question at the end. \n",
      "If you don't know the answer, just say that you don't know, don't try to make up an answer.\n",
      "\n",
      "\n",
      "{context}\n",
      "\n",
      "\n",
      "Question: Generate 10 questions from the provided context for an accounting exam on these topics: {question}\n",
      "\n",
      "Helpful Answer:\n",
      "\n"
     ]
    }
   ],
   "source": [
    "#print out the template of the question answering chain\n",
    "print(q.combine_documents_chain.llm_chain.prompt.template)"
   ]
  },
  {
   "cell_type": "markdown",
   "metadata": {},
   "source": [
    "### Extracting the list of summaries which will be used to iterate over the chunks of documents"
   ]
  },
  {
   "cell_type": "code",
   "execution_count": 198,
   "metadata": {
    "tags": []
   },
   "outputs": [],
   "source": [
    "#Uncomment the below line to load summary excel file from s3\n",
    "#load_s3_data(\"d3-generative-ai\",\"data/processed/Summary/\", \"../Summary/\") #Load the summary excel sheet"
   ]
  },
  {
   "cell_type": "code",
   "execution_count": 193,
   "metadata": {
    "tags": []
   },
   "outputs": [],
   "source": [
    "import pandas as pd\n",
    "\n",
    "excel_file = '../Summary/Summary_Per_Class.xlsx'\n",
    "\n",
    "# Read the Excel sheet into a DataFrame\n",
    "data = pd.read_excel(excel_file)"
   ]
  },
  {
   "cell_type": "code",
   "execution_count": 27,
   "metadata": {
    "tags": []
   },
   "outputs": [
    {
     "data": {
      "text/plain": [
       "Folder Name    object\n",
       "Assignee       object\n",
       "Summary        object\n",
       "Unnamed: 3      int64\n",
       "dtype: object"
      ]
     },
     "execution_count": 27,
     "metadata": {},
     "output_type": "execute_result"
    }
   ],
   "source": [
    "#print out the datatypes of the columns in the dataframe\n",
    "data.dtypes"
   ]
  },
  {
   "cell_type": "code",
   "execution_count": 28,
   "metadata": {
    "tags": []
   },
   "outputs": [],
   "source": [
    "#drop the null values\n",
    "data = data.dropna()"
   ]
  },
  {
   "cell_type": "code",
   "execution_count": 29,
   "metadata": {
    "tags": []
   },
   "outputs": [],
   "source": [
    "#convert the Summary column from Object type to string\n",
    "data['Summary'] = data['Summary'].astype('string')"
   ]
  },
  {
   "cell_type": "code",
   "execution_count": 30,
   "metadata": {
    "tags": []
   },
   "outputs": [
    {
     "data": {
      "text/plain": [
       "Folder Name    object\n",
       "Assignee       object\n",
       "Summary        string\n",
       "Unnamed: 3      int64\n",
       "dtype: object"
      ]
     },
     "execution_count": 30,
     "metadata": {},
     "output_type": "execute_result"
    }
   ],
   "source": [
    "data.dtypes"
   ]
  },
  {
   "cell_type": "markdown",
   "metadata": {
    "tags": []
   },
   "source": [
    "#### The Summary column has comma separated values. In order to iterate over the data, we create new list of summaries which has 4  values each. These comma separated values correspond to one topic/term "
   ]
  },
  {
   "cell_type": "code",
   "execution_count": 31,
   "metadata": {
    "tags": []
   },
   "outputs": [],
   "source": [
    "# Initialize a list to store grouped values\n",
    "summaries = []\n",
    "\n",
    "# Process each row in the DataFrame\n",
    "for index, row in data.iterrows():\n",
    "    comma_values = row['Summary'].split(',')  # Replace 'Column_Name' with the actual column name\n",
    "    \n",
    "    # Group the comma-separated values into chunks of four\n",
    "    for i in range(0, len(comma_values), 4):\n",
    "        # Join the values and append to the list\n",
    "        summaries.append(','.join(comma_values[i:i+4]))"
   ]
  },
  {
   "cell_type": "code",
   "execution_count": 32,
   "metadata": {
    "tags": []
   },
   "outputs": [
    {
     "data": {
      "text/plain": [
       "127"
      ]
     },
     "execution_count": 32,
     "metadata": {},
     "output_type": "execute_result"
    }
   ],
   "source": [
    "len(summaries)"
   ]
  },
  {
   "cell_type": "markdown",
   "metadata": {},
   "source": [
    "### Generate the question by iterating over the summaries "
   ]
  },
  {
   "cell_type": "code",
   "execution_count": 35,
   "metadata": {
    "tags": []
   },
   "outputs": [],
   "source": [
    "#create a function to add the generated questions with sources in a dataframe\n",
    "def add_to_dataframe(df,s,i,sources):\n",
    "    # Split the string by lines and filter the lines that start with numbered bullet points\n",
    "    rows = [line.split('. ', 1)[-1] for line in s.split('\\n') if line.strip() and line.split(' ')[0].replace('.', '').isdigit()]\n",
    "    # Append rows to the 'Questions' and 'SUmmary' column\n",
    "    df = pd.concat([df, pd.DataFrame({'Summary': [i]*len(rows),'Question': rows,'Question_Sources': [sources]*len(rows)})], ignore_index=True)\n",
    "    # Return the dataframe\n",
    "    return df"
   ]
  },
  {
   "cell_type": "markdown",
   "metadata": {},
   "source": [
    "### Testing with a subset of summaries"
   ]
  },
  {
   "cell_type": "code",
   "execution_count": 47,
   "metadata": {
    "tags": []
   },
   "outputs": [],
   "source": [
    "sub=summaries[:3]"
   ]
  },
  {
   "cell_type": "code",
   "execution_count": 99,
   "metadata": {
    "tags": []
   },
   "outputs": [
    {
     "data": {
      "text/plain": [
       "['M&A deal, revenues per square foot, revenues/sf, roe',\n",
       " ' return on equity, dupont, adjusted dupont, ratio analysis',\n",
       " ' adjust financials to make firms comparable, corporate governance practices of boards, selecting the right CEO, social issues']"
      ]
     },
     "execution_count": 99,
     "metadata": {},
     "output_type": "execute_result"
    }
   ],
   "source": [
    "sub"
   ]
  },
  {
   "cell_type": "code",
   "execution_count": 152,
   "metadata": {
    "tags": []
   },
   "outputs": [
    {
     "name": "stdout",
     "output_type": "stream",
     "text": [
      " Sure, here are 10 questions based on the provided context for an accounting exam:\n",
      "\n",
      "1. What factors does a company consider when determining the appropriate amount of leverage for a merger or acquisition? How do these factors impact the deal?\n",
      "2. How does the sales growth of Family Dollar compare to Dollar General in 2013? What can be inferred from this comparison?\n",
      "3. What is the difference between revenues per square foot and revenues per square foot? How do these metrics impact a company's performance?\n",
      "4. How does the operating ROA of Family Dollar compare to Dollar General in 2011? What does this indicate about the financial health of the two companies?\n",
      "5. What is the significance of the increase in inventory and receivables for GMCR in 2011? How does this impact the company's financial performance?\n",
      "6. How does the use of trade credit impact a company's liquidity? What are the potential benefits and drawbacks of using trade credit?\n",
      "7. What is the impact of Target's cash holdings on its financial performance? How does this compare to the cash holdings of Walmart?\n",
      "8. How does the tapered banking model of Souqalmal impact its growth rate? What are the potential risks and benefits of this model?\n",
      "9. What is the significance of the net commission rate in the insurance industry? How does this impact the profitability of an insurance company?\n",
      "10. How does the ROE of GMCR compare to its peers in the industry? What can be inferred from this comparison?\n",
      "\n",
      "I hope these questions are helpful for your accounting exam! Let me know if you have any other questions.\n",
      " Great, I'd be happy to help you with that! Here are 10 questions based on the provided context that could be used for an accounting exam on the topics of return on equity, DuPont, and ratio analysis:\n",
      "\n",
      "1. What is the formula for calculating return on equity (ROE)? How does it relate to a company's net income and shareholders' equity?\n",
      "2. Using the data provided in the context, calculate the ROE for Target and Walmart for the years 2017 and 2018. How do these ratios compare to each other?\n",
      "3. What is the DuPont analysis, and how does it provide a more detailed understanding of a company's ROE? Using the data provided in the context, calculate the three components of ROE using the DuPont formula: net profit margin, asset turnover, and leverage.\n",
      "4. How does a company's asset turnover ratio affect its ROE? Using the data provided in the context, calculate the asset turnover ratios for Target and Walmart for the years 2017 and 2018. How do these ratios compare to each other?\n",
      "5. What is the impact of a company's leverage on its ROE? Using the data provided in the context, calculate the leverage ratio for Target and Walmart for the years 2017 and 2018. How do these ratios compare to each other?\n",
      "6. How does a company's net profit margin affect its ROE? Using the data provided in the context, calculate the net profit margin for Target and Walmart for the years 2017 and 2018. How do these ratios compare to each other?\n",
      "7. What is the difference between the adjusted Dupont analysis and the traditional Dupont analysis? Using the data provided in the context, calculate the adjusted Dupont ratios for Target and Walmart for the years 2017 and 2018. How do these ratios compare to each other?\n",
      "8. How does a company's cash flow situation affect its ROE? Using the data provided in the context, calculate the cash flow ratios for Target and Walmart for the years 2017 and 2018. How do these ratios compare to each other?\n",
      "9. What is the impact of a company's use of debt financing on its ROE? Using the data provided in the context, calculate the debt-to-equity ratio for Target and Walmart for the years 2017 and 2018. How do these ratios compare to each other?\n",
      "10. How does a company's return on assets (ROA) affect its ROE? Using the data provided in the context, calculate the ROA for Target and Walmart for the years 2017 and 2018. How do these ratios compare to each other?\n",
      "\n",
      "I hope these questions help you create an effective accounting exam on these topics!\n",
      " Sure, here are 10 questions that could be asked on an accounting exam based on the provided context:\n",
      "\n",
      "1. How do activist investors impact the board's role in an acquisition bid? Please provide examples from the case.\n",
      "2. What are some common corporate governance practices that boards use to ensure the best interests of shareholders are represented? How do these practices align with the case study's emphasis on shareholder value?\n",
      "3. How does the DuPont formula differ from other financial ratios used to analyze a firm's performance? What insights does it provide that other ratios may not?\n",
      "4. In the case study, the CEO's compensation was criticized for being too high. How do boards ensure that CEO compensation is reasonable and aligned with shareholder interests?\n",
      "5. What are some social issues that may impact an M&A deal? How do boards address these issues in their decision-making process?\n",
      "6. How do firms measure and report on their environmental, social, and governance (ESG) impact? What are some challenges or limitations of ESG reporting?\n",
      "7. How do boards evaluate the performance of the CEO and other senior executives? What metrics or criteria are used to determine whether the CEO is meeting their goals and expectations?\n",
      "8. In the case study, the board faced criticism for not being transparent enough in their decision-making process. How can boards ensure that they are providing sufficient information to stakeholders to maintain trust and confidence?\n",
      "9. How do boards balance the competing interests of different stakeholders in an M&A deal? For example, how do they balance the interests of shareholders, employees, and customers?\n",
      "10. What are some potential consequences for a firm that fails to disclose material information to investors? How can boards ensure that they are complying with their fiduciary duties and providing accurate and timely information to stakeholders?\n"
     ]
    }
   ],
   "source": [
    "import re\n",
    "df = pd.DataFrame(columns=['Summary','Question','Question_Sources'])\n",
    "questions=[]\n",
    "question_sources=[]\n",
    "summary=[]\n",
    "for i in sub:\n",
    "        rows=[]\n",
    "        result = q({\"query\": i})\n",
    "        response = result['result']\n",
    "        print(response)\n",
    "        sources=result['source_documents']\n",
    "        # Split the text into lines\n",
    "        lines = response.split('\\n')\n",
    "        # Extract lines that contain a question mark\n",
    "        rows = [line for line in lines if '?' in line]\n",
    "        # Remove any leading formatting by keeping only the part of the line that starts with an uppercase or lowercase letter\n",
    "        cleaned_rows = [re.sub(r'^[^a-zA-Z]*(?:Question\\s+\\d+)?[^a-zA-Z]*', '', row, flags=re.IGNORECASE) for row in rows]\n",
    "        if cleaned_rows:\n",
    "            for row in cleaned_rows:\n",
    "                questions.append(row)\n",
    "                summary.append(i)\n",
    "                question_sources.append(sources)\n",
    "        else:\n",
    "            questions.append(response)\n",
    "            summary.append(i)\n",
    "            question_sources.append(sources)\n",
    "\n",
    "df['Summary'] = summary\n",
    "df['Question'] = questions\n",
    "df['Question_Sources']= question_sources"
   ]
  },
  {
   "cell_type": "code",
   "execution_count": 175,
   "metadata": {
    "tags": []
   },
   "outputs": [
    {
     "data": {
      "text/html": [
       "<div>\n",
       "<style scoped>\n",
       "    .dataframe tbody tr th:only-of-type {\n",
       "        vertical-align: middle;\n",
       "    }\n",
       "\n",
       "    .dataframe tbody tr th {\n",
       "        vertical-align: top;\n",
       "    }\n",
       "\n",
       "    .dataframe thead th {\n",
       "        text-align: right;\n",
       "    }\n",
       "</style>\n",
       "<table border=\"1\" class=\"dataframe\">\n",
       "  <thead>\n",
       "    <tr style=\"text-align: right;\">\n",
       "      <th></th>\n",
       "      <th>Summary</th>\n",
       "      <th>Question</th>\n",
       "      <th>Question_Sources</th>\n",
       "    </tr>\n",
       "  </thead>\n",
       "  <tbody>\n",
       "    <tr>\n",
       "      <th>0</th>\n",
       "      <td>M&amp;A deal, revenues per square foot, revenues/s...</td>\n",
       "      <td>What factors does a company consider when dete...</td>\n",
       "      <td>[page_content='Same store sales: Family Dollar...</td>\n",
       "    </tr>\n",
       "    <tr>\n",
       "      <th>1</th>\n",
       "      <td>M&amp;A deal, revenues per square foot, revenues/s...</td>\n",
       "      <td>How does the sales growth of Family Dollar com...</td>\n",
       "      <td>[page_content='Same store sales: Family Dollar...</td>\n",
       "    </tr>\n",
       "    <tr>\n",
       "      <th>2</th>\n",
       "      <td>M&amp;A deal, revenues per square foot, revenues/s...</td>\n",
       "      <td>What is the difference between revenues per sq...</td>\n",
       "      <td>[page_content='Same store sales: Family Dollar...</td>\n",
       "    </tr>\n",
       "    <tr>\n",
       "      <th>3</th>\n",
       "      <td>M&amp;A deal, revenues per square foot, revenues/s...</td>\n",
       "      <td>How does the operating ROA of Family Dollar co...</td>\n",
       "      <td>[page_content='Same store sales: Family Dollar...</td>\n",
       "    </tr>\n",
       "    <tr>\n",
       "      <th>4</th>\n",
       "      <td>M&amp;A deal, revenues per square foot, revenues/s...</td>\n",
       "      <td>What is the significance of the increase in in...</td>\n",
       "      <td>[page_content='Same store sales: Family Dollar...</td>\n",
       "    </tr>\n",
       "    <tr>\n",
       "      <th>5</th>\n",
       "      <td>M&amp;A deal, revenues per square foot, revenues/s...</td>\n",
       "      <td>How does the use of trade credit impact a comp...</td>\n",
       "      <td>[page_content='Same store sales: Family Dollar...</td>\n",
       "    </tr>\n",
       "    <tr>\n",
       "      <th>6</th>\n",
       "      <td>M&amp;A deal, revenues per square foot, revenues/s...</td>\n",
       "      <td>What is the impact of Target's cash holdings o...</td>\n",
       "      <td>[page_content='Same store sales: Family Dollar...</td>\n",
       "    </tr>\n",
       "    <tr>\n",
       "      <th>7</th>\n",
       "      <td>M&amp;A deal, revenues per square foot, revenues/s...</td>\n",
       "      <td>How does the tapered banking model of Souqalma...</td>\n",
       "      <td>[page_content='Same store sales: Family Dollar...</td>\n",
       "    </tr>\n",
       "    <tr>\n",
       "      <th>8</th>\n",
       "      <td>M&amp;A deal, revenues per square foot, revenues/s...</td>\n",
       "      <td>What is the significance of the net commission...</td>\n",
       "      <td>[page_content='Same store sales: Family Dollar...</td>\n",
       "    </tr>\n",
       "    <tr>\n",
       "      <th>9</th>\n",
       "      <td>M&amp;A deal, revenues per square foot, revenues/s...</td>\n",
       "      <td>How does the ROE of GMCR compare to its peers ...</td>\n",
       "      <td>[page_content='Same store sales: Family Dollar...</td>\n",
       "    </tr>\n",
       "    <tr>\n",
       "      <th>10</th>\n",
       "      <td>return on equity, dupont, adjusted dupont, ra...</td>\n",
       "      <td>What is the formula for calculating return on ...</td>\n",
       "      <td>[page_content='Product = contribution of lever...</td>\n",
       "    </tr>\n",
       "    <tr>\n",
       "      <th>11</th>\n",
       "      <td>return on equity, dupont, adjusted dupont, ra...</td>\n",
       "      <td>Using the data provided in the context, calcul...</td>\n",
       "      <td>[page_content='Product = contribution of lever...</td>\n",
       "    </tr>\n",
       "    <tr>\n",
       "      <th>12</th>\n",
       "      <td>return on equity, dupont, adjusted dupont, ra...</td>\n",
       "      <td>What is the DuPont analysis, and how does it p...</td>\n",
       "      <td>[page_content='Product = contribution of lever...</td>\n",
       "    </tr>\n",
       "    <tr>\n",
       "      <th>13</th>\n",
       "      <td>return on equity, dupont, adjusted dupont, ra...</td>\n",
       "      <td>How does a company's asset turnover ratio affe...</td>\n",
       "      <td>[page_content='Product = contribution of lever...</td>\n",
       "    </tr>\n",
       "    <tr>\n",
       "      <th>14</th>\n",
       "      <td>return on equity, dupont, adjusted dupont, ra...</td>\n",
       "      <td>What is the impact of a company's leverage on ...</td>\n",
       "      <td>[page_content='Product = contribution of lever...</td>\n",
       "    </tr>\n",
       "    <tr>\n",
       "      <th>15</th>\n",
       "      <td>return on equity, dupont, adjusted dupont, ra...</td>\n",
       "      <td>How does a company's net profit margin affect ...</td>\n",
       "      <td>[page_content='Product = contribution of lever...</td>\n",
       "    </tr>\n",
       "    <tr>\n",
       "      <th>16</th>\n",
       "      <td>return on equity, dupont, adjusted dupont, ra...</td>\n",
       "      <td>What is the difference between the adjusted Du...</td>\n",
       "      <td>[page_content='Product = contribution of lever...</td>\n",
       "    </tr>\n",
       "    <tr>\n",
       "      <th>17</th>\n",
       "      <td>return on equity, dupont, adjusted dupont, ra...</td>\n",
       "      <td>How does a company's cash flow situation affec...</td>\n",
       "      <td>[page_content='Product = contribution of lever...</td>\n",
       "    </tr>\n",
       "    <tr>\n",
       "      <th>18</th>\n",
       "      <td>return on equity, dupont, adjusted dupont, ra...</td>\n",
       "      <td>What is the impact of a company's use of debt ...</td>\n",
       "      <td>[page_content='Product = contribution of lever...</td>\n",
       "    </tr>\n",
       "    <tr>\n",
       "      <th>19</th>\n",
       "      <td>return on equity, dupont, adjusted dupont, ra...</td>\n",
       "      <td>How does a company's return on assets (ROA) af...</td>\n",
       "      <td>[page_content='Product = contribution of lever...</td>\n",
       "    </tr>\n",
       "    <tr>\n",
       "      <th>20</th>\n",
       "      <td>adjust financials to make firms comparable, c...</td>\n",
       "      <td>How do activist investors impact the board's r...</td>\n",
       "      <td>[page_content='Family-owned business, i.e., so...</td>\n",
       "    </tr>\n",
       "    <tr>\n",
       "      <th>21</th>\n",
       "      <td>adjust financials to make firms comparable, c...</td>\n",
       "      <td>What are some common corporate governance prac...</td>\n",
       "      <td>[page_content='Family-owned business, i.e., so...</td>\n",
       "    </tr>\n",
       "    <tr>\n",
       "      <th>22</th>\n",
       "      <td>adjust financials to make firms comparable, c...</td>\n",
       "      <td>How does the DuPont formula differ from other ...</td>\n",
       "      <td>[page_content='Family-owned business, i.e., so...</td>\n",
       "    </tr>\n",
       "    <tr>\n",
       "      <th>23</th>\n",
       "      <td>adjust financials to make firms comparable, c...</td>\n",
       "      <td>In the case study, the CEO's compensation was ...</td>\n",
       "      <td>[page_content='Family-owned business, i.e., so...</td>\n",
       "    </tr>\n",
       "    <tr>\n",
       "      <th>24</th>\n",
       "      <td>adjust financials to make firms comparable, c...</td>\n",
       "      <td>What are some social issues that may impact an...</td>\n",
       "      <td>[page_content='Family-owned business, i.e., so...</td>\n",
       "    </tr>\n",
       "    <tr>\n",
       "      <th>25</th>\n",
       "      <td>adjust financials to make firms comparable, c...</td>\n",
       "      <td>How do firms measure and report on their envir...</td>\n",
       "      <td>[page_content='Family-owned business, i.e., so...</td>\n",
       "    </tr>\n",
       "    <tr>\n",
       "      <th>26</th>\n",
       "      <td>adjust financials to make firms comparable, c...</td>\n",
       "      <td>How do boards evaluate the performance of the ...</td>\n",
       "      <td>[page_content='Family-owned business, i.e., so...</td>\n",
       "    </tr>\n",
       "    <tr>\n",
       "      <th>27</th>\n",
       "      <td>adjust financials to make firms comparable, c...</td>\n",
       "      <td>In the case study, the board faced criticism f...</td>\n",
       "      <td>[page_content='Family-owned business, i.e., so...</td>\n",
       "    </tr>\n",
       "    <tr>\n",
       "      <th>28</th>\n",
       "      <td>adjust financials to make firms comparable, c...</td>\n",
       "      <td>How do boards balance the competing interests ...</td>\n",
       "      <td>[page_content='Family-owned business, i.e., so...</td>\n",
       "    </tr>\n",
       "    <tr>\n",
       "      <th>29</th>\n",
       "      <td>adjust financials to make firms comparable, c...</td>\n",
       "      <td>What are some potential consequences for a fir...</td>\n",
       "      <td>[page_content='Family-owned business, i.e., so...</td>\n",
       "    </tr>\n",
       "  </tbody>\n",
       "</table>\n",
       "</div>"
      ],
      "text/plain": [
       "                                              Summary  \\\n",
       "0   M&A deal, revenues per square foot, revenues/s...   \n",
       "1   M&A deal, revenues per square foot, revenues/s...   \n",
       "2   M&A deal, revenues per square foot, revenues/s...   \n",
       "3   M&A deal, revenues per square foot, revenues/s...   \n",
       "4   M&A deal, revenues per square foot, revenues/s...   \n",
       "5   M&A deal, revenues per square foot, revenues/s...   \n",
       "6   M&A deal, revenues per square foot, revenues/s...   \n",
       "7   M&A deal, revenues per square foot, revenues/s...   \n",
       "8   M&A deal, revenues per square foot, revenues/s...   \n",
       "9   M&A deal, revenues per square foot, revenues/s...   \n",
       "10   return on equity, dupont, adjusted dupont, ra...   \n",
       "11   return on equity, dupont, adjusted dupont, ra...   \n",
       "12   return on equity, dupont, adjusted dupont, ra...   \n",
       "13   return on equity, dupont, adjusted dupont, ra...   \n",
       "14   return on equity, dupont, adjusted dupont, ra...   \n",
       "15   return on equity, dupont, adjusted dupont, ra...   \n",
       "16   return on equity, dupont, adjusted dupont, ra...   \n",
       "17   return on equity, dupont, adjusted dupont, ra...   \n",
       "18   return on equity, dupont, adjusted dupont, ra...   \n",
       "19   return on equity, dupont, adjusted dupont, ra...   \n",
       "20   adjust financials to make firms comparable, c...   \n",
       "21   adjust financials to make firms comparable, c...   \n",
       "22   adjust financials to make firms comparable, c...   \n",
       "23   adjust financials to make firms comparable, c...   \n",
       "24   adjust financials to make firms comparable, c...   \n",
       "25   adjust financials to make firms comparable, c...   \n",
       "26   adjust financials to make firms comparable, c...   \n",
       "27   adjust financials to make firms comparable, c...   \n",
       "28   adjust financials to make firms comparable, c...   \n",
       "29   adjust financials to make firms comparable, c...   \n",
       "\n",
       "                                             Question  \\\n",
       "0   What factors does a company consider when dete...   \n",
       "1   How does the sales growth of Family Dollar com...   \n",
       "2   What is the difference between revenues per sq...   \n",
       "3   How does the operating ROA of Family Dollar co...   \n",
       "4   What is the significance of the increase in in...   \n",
       "5   How does the use of trade credit impact a comp...   \n",
       "6   What is the impact of Target's cash holdings o...   \n",
       "7   How does the tapered banking model of Souqalma...   \n",
       "8   What is the significance of the net commission...   \n",
       "9   How does the ROE of GMCR compare to its peers ...   \n",
       "10  What is the formula for calculating return on ...   \n",
       "11  Using the data provided in the context, calcul...   \n",
       "12  What is the DuPont analysis, and how does it p...   \n",
       "13  How does a company's asset turnover ratio affe...   \n",
       "14  What is the impact of a company's leverage on ...   \n",
       "15  How does a company's net profit margin affect ...   \n",
       "16  What is the difference between the adjusted Du...   \n",
       "17  How does a company's cash flow situation affec...   \n",
       "18  What is the impact of a company's use of debt ...   \n",
       "19  How does a company's return on assets (ROA) af...   \n",
       "20  How do activist investors impact the board's r...   \n",
       "21  What are some common corporate governance prac...   \n",
       "22  How does the DuPont formula differ from other ...   \n",
       "23  In the case study, the CEO's compensation was ...   \n",
       "24  What are some social issues that may impact an...   \n",
       "25  How do firms measure and report on their envir...   \n",
       "26  How do boards evaluate the performance of the ...   \n",
       "27  In the case study, the board faced criticism f...   \n",
       "28  How do boards balance the competing interests ...   \n",
       "29  What are some potential consequences for a fir...   \n",
       "\n",
       "                                     Question_Sources  \n",
       "0   [page_content='Same store sales: Family Dollar...  \n",
       "1   [page_content='Same store sales: Family Dollar...  \n",
       "2   [page_content='Same store sales: Family Dollar...  \n",
       "3   [page_content='Same store sales: Family Dollar...  \n",
       "4   [page_content='Same store sales: Family Dollar...  \n",
       "5   [page_content='Same store sales: Family Dollar...  \n",
       "6   [page_content='Same store sales: Family Dollar...  \n",
       "7   [page_content='Same store sales: Family Dollar...  \n",
       "8   [page_content='Same store sales: Family Dollar...  \n",
       "9   [page_content='Same store sales: Family Dollar...  \n",
       "10  [page_content='Product = contribution of lever...  \n",
       "11  [page_content='Product = contribution of lever...  \n",
       "12  [page_content='Product = contribution of lever...  \n",
       "13  [page_content='Product = contribution of lever...  \n",
       "14  [page_content='Product = contribution of lever...  \n",
       "15  [page_content='Product = contribution of lever...  \n",
       "16  [page_content='Product = contribution of lever...  \n",
       "17  [page_content='Product = contribution of lever...  \n",
       "18  [page_content='Product = contribution of lever...  \n",
       "19  [page_content='Product = contribution of lever...  \n",
       "20  [page_content='Family-owned business, i.e., so...  \n",
       "21  [page_content='Family-owned business, i.e., so...  \n",
       "22  [page_content='Family-owned business, i.e., so...  \n",
       "23  [page_content='Family-owned business, i.e., so...  \n",
       "24  [page_content='Family-owned business, i.e., so...  \n",
       "25  [page_content='Family-owned business, i.e., so...  \n",
       "26  [page_content='Family-owned business, i.e., so...  \n",
       "27  [page_content='Family-owned business, i.e., so...  \n",
       "28  [page_content='Family-owned business, i.e., so...  \n",
       "29  [page_content='Family-owned business, i.e., so...  "
      ]
     },
     "execution_count": 175,
     "metadata": {},
     "output_type": "execute_result"
    }
   ],
   "source": [
    "df"
   ]
  },
  {
   "cell_type": "code",
   "execution_count": 176,
   "metadata": {
    "tags": []
   },
   "outputs": [
    {
     "data": {
      "text/plain": [
       "(30, 3)"
      ]
     },
     "execution_count": 176,
     "metadata": {},
     "output_type": "execute_result"
    }
   ],
   "source": [
    "df.shape"
   ]
  },
  {
   "cell_type": "code",
   "execution_count": 198,
   "metadata": {
    "tags": []
   },
   "outputs": [],
   "source": [
    "#store the dataframe in a csv\n",
    "df.to_csv(\"questions.csv\")"
   ]
  },
  {
   "cell_type": "markdown",
   "metadata": {},
   "source": [
    "### Generate answer to the questions provided by the model"
   ]
  },
  {
   "cell_type": "code",
   "execution_count": 156,
   "metadata": {},
   "outputs": [],
   "source": [
    "#create a new retreiever or use the existing one for fetching chunks to answer the generated questions\n",
    "retriever = docsearch.as_retriever(search_type=\"similarity\", search_kwargs={\"k\":10})\n"
   ]
  },
  {
   "cell_type": "code",
   "execution_count": 177,
   "metadata": {
    "tags": []
   },
   "outputs": [],
   "source": [
    "# create a chain to answer questions \n",
    "qa = RetrievalQA.from_chain_type(\n",
    "    llm=llm, chain_type=\"stuff\", retriever=retriever, return_source_documents=True)"
   ]
  },
  {
   "cell_type": "code",
   "execution_count": 158,
   "metadata": {
    "tags": []
   },
   "outputs": [
    {
     "name": "stdout",
     "output_type": "stream",
     "text": [
      "Use the following pieces of context to answer the question at the end. If you don't know the answer, just say that you don't know, don't try to make up an answer.\n",
      "\n",
      "{context}\n",
      "\n",
      "Question: {question}\n",
      "Helpful Answer:\n"
     ]
    }
   ],
   "source": [
    "#print the template \n",
    "print(qa.combine_documents_chain.llm_chain.prompt.template)"
   ]
  },
  {
   "cell_type": "code",
   "execution_count": 180,
   "metadata": {
    "tags": []
   },
   "outputs": [],
   "source": [
    "#testing with a subset\n",
    "df=df.iloc[0:5]"
   ]
  },
  {
   "cell_type": "code",
   "execution_count": 181,
   "metadata": {
    "tags": []
   },
   "outputs": [
    {
     "name": "stderr",
     "output_type": "stream",
     "text": [
      "/tmp/ipykernel_8444/3670848610.py:26: SettingWithCopyWarning: \n",
      "A value is trying to be set on a copy of a slice from a DataFrame.\n",
      "Try using .loc[row_indexer,col_indexer] = value instead\n",
      "\n",
      "See the caveats in the documentation: https://pandas.pydata.org/pandas-docs/stable/user_guide/indexing.html#returning-a-view-versus-a-copy\n",
      "  df['Answer_With_Context'] = results_col\n",
      "/tmp/ipykernel_8444/3670848610.py:27: SettingWithCopyWarning: \n",
      "A value is trying to be set on a copy of a slice from a DataFrame.\n",
      "Try using .loc[row_indexer,col_indexer] = value instead\n",
      "\n",
      "See the caveats in the documentation: https://pandas.pydata.org/pandas-docs/stable/user_guide/indexing.html#returning-a-view-versus-a-copy\n",
      "  df['Response_Time_Answers_With_Context'] = response_times_col\n",
      "/tmp/ipykernel_8444/3670848610.py:28: SettingWithCopyWarning: \n",
      "A value is trying to be set on a copy of a slice from a DataFrame.\n",
      "Try using .loc[row_indexer,col_indexer] = value instead\n",
      "\n",
      "See the caveats in the documentation: https://pandas.pydata.org/pandas-docs/stable/user_guide/indexing.html#returning-a-view-versus-a-copy\n",
      "  df['Answer_Sources']=sources_col\n"
     ]
    }
   ],
   "source": [
    "# Create empty lists to store the results\n",
    "results_col = []\n",
    "response_times_col=[]\n",
    "sources_col=[]\n",
    "\n",
    "# Iterate through each question\n",
    "for question in df['Question']:\n",
    "\n",
    "    #  Measure the response time\n",
    "    start_time = time.time()\n",
    "\n",
    "    # Call the llm chain\n",
    "    result = qa({\"query\": question})\n",
    "    response = result['result']\n",
    "    \n",
    "    # Calculate the response time\n",
    "    response_time = time.time() - start_time\n",
    "    \n",
    "    sources=result['source_documents']\n",
    "    # Append the row data, response, and response time to the results list\n",
    "    results_col.append(response)\n",
    "    response_times_col.append(response_time)\n",
    "    sources_col.append(sources)\n",
    "    \n",
    "    \n",
    "df['Answer_With_Context'] = results_col\n",
    "df['Response_Time_Answers_With_Context'] = response_times_col\n",
    "df['Answer_Sources']=sources_col"
   ]
  },
  {
   "cell_type": "code",
   "execution_count": 182,
   "metadata": {
    "tags": []
   },
   "outputs": [
    {
     "data": {
      "text/html": [
       "<div>\n",
       "<style scoped>\n",
       "    .dataframe tbody tr th:only-of-type {\n",
       "        vertical-align: middle;\n",
       "    }\n",
       "\n",
       "    .dataframe tbody tr th {\n",
       "        vertical-align: top;\n",
       "    }\n",
       "\n",
       "    .dataframe thead th {\n",
       "        text-align: right;\n",
       "    }\n",
       "</style>\n",
       "<table border=\"1\" class=\"dataframe\">\n",
       "  <thead>\n",
       "    <tr style=\"text-align: right;\">\n",
       "      <th></th>\n",
       "      <th>Summary</th>\n",
       "      <th>Question</th>\n",
       "      <th>Question_Sources</th>\n",
       "      <th>Answer_With_Context</th>\n",
       "      <th>Response_Time_Answers_With_Context</th>\n",
       "      <th>Answer_Sources</th>\n",
       "    </tr>\n",
       "  </thead>\n",
       "  <tbody>\n",
       "    <tr>\n",
       "      <th>0</th>\n",
       "      <td>M&amp;A deal, revenues per square foot, revenues/s...</td>\n",
       "      <td>What factors does a company consider when dete...</td>\n",
       "      <td>[page_content='Same store sales: Family Dollar...</td>\n",
       "      <td>As a helpful and respectful MBA Graduate Teac...</td>\n",
       "      <td>19.507791</td>\n",
       "      <td>[page_content='In considering which M&amp;A target...</td>\n",
       "    </tr>\n",
       "    <tr>\n",
       "      <th>1</th>\n",
       "      <td>M&amp;A deal, revenues per square foot, revenues/s...</td>\n",
       "      <td>How does the sales growth of Family Dollar com...</td>\n",
       "      <td>[page_content='Same store sales: Family Dollar...</td>\n",
       "      <td>Thank you for the question. To answer your qu...</td>\n",
       "      <td>9.053071</td>\n",
       "      <td>[page_content='2. How is Dollar General perfor...</td>\n",
       "    </tr>\n",
       "    <tr>\n",
       "      <th>2</th>\n",
       "      <td>M&amp;A deal, revenues per square foot, revenues/s...</td>\n",
       "      <td>What is the difference between revenues per sq...</td>\n",
       "      <td>[page_content='Same store sales: Family Dollar...</td>\n",
       "      <td>Great, I'm glad you asked! Revenues per squar...</td>\n",
       "      <td>15.427165</td>\n",
       "      <td>[page_content='I ask students to debate the tr...</td>\n",
       "    </tr>\n",
       "    <tr>\n",
       "      <th>3</th>\n",
       "      <td>M&amp;A deal, revenues per square foot, revenues/s...</td>\n",
       "      <td>How does the operating ROA of Family Dollar co...</td>\n",
       "      <td>[page_content='Same store sales: Family Dollar...</td>\n",
       "      <td>Thank you for the question! To answer your qu...</td>\n",
       "      <td>10.431780</td>\n",
       "      <td>[page_content='2. How is Dollar General perfor...</td>\n",
       "    </tr>\n",
       "    <tr>\n",
       "      <th>4</th>\n",
       "      <td>M&amp;A deal, revenues per square foot, revenues/s...</td>\n",
       "      <td>What is the significance of the increase in in...</td>\n",
       "      <td>[page_content='Same store sales: Family Dollar...</td>\n",
       "      <td>Thank you for asking! The increase in invento...</td>\n",
       "      <td>9.324757</td>\n",
       "      <td>[page_content='This discussion should highligh...</td>\n",
       "    </tr>\n",
       "  </tbody>\n",
       "</table>\n",
       "</div>"
      ],
      "text/plain": [
       "                                             Summary  \\\n",
       "0  M&A deal, revenues per square foot, revenues/s...   \n",
       "1  M&A deal, revenues per square foot, revenues/s...   \n",
       "2  M&A deal, revenues per square foot, revenues/s...   \n",
       "3  M&A deal, revenues per square foot, revenues/s...   \n",
       "4  M&A deal, revenues per square foot, revenues/s...   \n",
       "\n",
       "                                            Question  \\\n",
       "0  What factors does a company consider when dete...   \n",
       "1  How does the sales growth of Family Dollar com...   \n",
       "2  What is the difference between revenues per sq...   \n",
       "3  How does the operating ROA of Family Dollar co...   \n",
       "4  What is the significance of the increase in in...   \n",
       "\n",
       "                                    Question_Sources  \\\n",
       "0  [page_content='Same store sales: Family Dollar...   \n",
       "1  [page_content='Same store sales: Family Dollar...   \n",
       "2  [page_content='Same store sales: Family Dollar...   \n",
       "3  [page_content='Same store sales: Family Dollar...   \n",
       "4  [page_content='Same store sales: Family Dollar...   \n",
       "\n",
       "                                 Answer_With_Context  \\\n",
       "0   As a helpful and respectful MBA Graduate Teac...   \n",
       "1   Thank you for the question. To answer your qu...   \n",
       "2   Great, I'm glad you asked! Revenues per squar...   \n",
       "3   Thank you for the question! To answer your qu...   \n",
       "4   Thank you for asking! The increase in invento...   \n",
       "\n",
       "   Response_Time_Answers_With_Context  \\\n",
       "0                           19.507791   \n",
       "1                            9.053071   \n",
       "2                           15.427165   \n",
       "3                           10.431780   \n",
       "4                            9.324757   \n",
       "\n",
       "                                      Answer_Sources  \n",
       "0  [page_content='In considering which M&A target...  \n",
       "1  [page_content='2. How is Dollar General perfor...  \n",
       "2  [page_content='I ask students to debate the tr...  \n",
       "3  [page_content='2. How is Dollar General perfor...  \n",
       "4  [page_content='This discussion should highligh...  "
      ]
     },
     "execution_count": 182,
     "metadata": {},
     "output_type": "execute_result"
    }
   ],
   "source": [
    "df"
   ]
  },
  {
   "cell_type": "code",
   "execution_count": 171,
   "metadata": {
    "tags": []
   },
   "outputs": [],
   "source": [
    "#store the results in csv\n",
    "df.to_csv(\"prompt_responses.csv\")"
   ]
  },
  {
   "cell_type": "markdown",
   "metadata": {},
   "source": [
    "### Generating Answers without Context"
   ]
  },
  {
   "cell_type": "code",
   "execution_count": 183,
   "metadata": {
    "tags": []
   },
   "outputs": [
    {
     "name": "stderr",
     "output_type": "stream",
     "text": [
      "/tmp/ipykernel_8444/1564926686.py:25: SettingWithCopyWarning: \n",
      "A value is trying to be set on a copy of a slice from a DataFrame.\n",
      "Try using .loc[row_indexer,col_indexer] = value instead\n",
      "\n",
      "See the caveats in the documentation: https://pandas.pydata.org/pandas-docs/stable/user_guide/indexing.html#returning-a-view-versus-a-copy\n",
      "  df['General_Answers'] = general_answers\n",
      "/tmp/ipykernel_8444/1564926686.py:26: SettingWithCopyWarning: \n",
      "A value is trying to be set on a copy of a slice from a DataFrame.\n",
      "Try using .loc[row_indexer,col_indexer] = value instead\n",
      "\n",
      "See the caveats in the documentation: https://pandas.pydata.org/pandas-docs/stable/user_guide/indexing.html#returning-a-view-versus-a-copy\n",
      "  df['Response_Times_General_Answers'] = response_times_col\n"
     ]
    }
   ],
   "source": [
    "template = \"{content}\"\n",
    "prompt = PromptTemplate.from_template(template)\n",
    "llm_chain = LLMChain(\n",
    "     llm=llm,\n",
    "     prompt=prompt\n",
    " )\n",
    "#Create empty lists to store the results\n",
    "general_answers = []\n",
    "response_times_col=[]\n",
    "\n",
    "for question in df['Question']:\n",
    "    #  Measure the response time\n",
    "    start_time = time.time()\n",
    "    # Call the llm chain\n",
    "    response = llm_chain.run({question})\n",
    "\n",
    "    # Calculate the response time\n",
    "    response_time = time.time() - start_time\n",
    "\n",
    "    # Append the row data, response, and response time to the results list\n",
    "    general_answers.append(response)\n",
    "    response_times_col.append(response_time)\n",
    "\n",
    "#Add the lists as new columns in the dataframe\n",
    "df['General_Answers'] = general_answers\n",
    "df['Response_Times_General_Answers'] = response_times_col"
   ]
  },
  {
   "cell_type": "code",
   "execution_count": 184,
   "metadata": {},
   "outputs": [
    {
     "data": {
      "text/html": [
       "<div>\n",
       "<style scoped>\n",
       "    .dataframe tbody tr th:only-of-type {\n",
       "        vertical-align: middle;\n",
       "    }\n",
       "\n",
       "    .dataframe tbody tr th {\n",
       "        vertical-align: top;\n",
       "    }\n",
       "\n",
       "    .dataframe thead th {\n",
       "        text-align: right;\n",
       "    }\n",
       "</style>\n",
       "<table border=\"1\" class=\"dataframe\">\n",
       "  <thead>\n",
       "    <tr style=\"text-align: right;\">\n",
       "      <th></th>\n",
       "      <th>Summary</th>\n",
       "      <th>Question</th>\n",
       "      <th>Question_Sources</th>\n",
       "      <th>Answer_With_Context</th>\n",
       "      <th>Response_Time_Answers_With_Context</th>\n",
       "      <th>Answer_Sources</th>\n",
       "      <th>General_Answers</th>\n",
       "      <th>Response_Times_General_Answers</th>\n",
       "    </tr>\n",
       "  </thead>\n",
       "  <tbody>\n",
       "    <tr>\n",
       "      <th>0</th>\n",
       "      <td>M&amp;A deal, revenues per square foot, revenues/s...</td>\n",
       "      <td>What factors does a company consider when dete...</td>\n",
       "      <td>[page_content='Same store sales: Family Dollar...</td>\n",
       "      <td>As a helpful and respectful MBA Graduate Teac...</td>\n",
       "      <td>19.507791</td>\n",
       "      <td>[page_content='In considering which M&amp;A target...</td>\n",
       "      <td>As an MBA Graduate Teaching Assistant, I'm ha...</td>\n",
       "      <td>20.855622</td>\n",
       "    </tr>\n",
       "    <tr>\n",
       "      <th>1</th>\n",
       "      <td>M&amp;A deal, revenues per square foot, revenues/s...</td>\n",
       "      <td>How does the sales growth of Family Dollar com...</td>\n",
       "      <td>[page_content='Same store sales: Family Dollar...</td>\n",
       "      <td>Thank you for the question. To answer your qu...</td>\n",
       "      <td>9.053071</td>\n",
       "      <td>[page_content='2. How is Dollar General perfor...</td>\n",
       "      <td>As a responsible and ethical MBA Graduate Tea...</td>\n",
       "      <td>8.791997</td>\n",
       "    </tr>\n",
       "    <tr>\n",
       "      <th>2</th>\n",
       "      <td>M&amp;A deal, revenues per square foot, revenues/s...</td>\n",
       "      <td>What is the difference between revenues per sq...</td>\n",
       "      <td>[page_content='Same store sales: Family Dollar...</td>\n",
       "      <td>Great, I'm glad you asked! Revenues per squar...</td>\n",
       "      <td>15.427165</td>\n",
       "      <td>[page_content='I ask students to debate the tr...</td>\n",
       "      <td>Hello! As an MBA Graduate Teaching Assistant,...</td>\n",
       "      <td>15.144954</td>\n",
       "    </tr>\n",
       "    <tr>\n",
       "      <th>3</th>\n",
       "      <td>M&amp;A deal, revenues per square foot, revenues/s...</td>\n",
       "      <td>How does the operating ROA of Family Dollar co...</td>\n",
       "      <td>[page_content='Same store sales: Family Dollar...</td>\n",
       "      <td>Thank you for the question! To answer your qu...</td>\n",
       "      <td>10.431780</td>\n",
       "      <td>[page_content='2. How is Dollar General perfor...</td>\n",
       "      <td>As a responsible and ethical MBA Graduate Tea...</td>\n",
       "      <td>9.214614</td>\n",
       "    </tr>\n",
       "    <tr>\n",
       "      <th>4</th>\n",
       "      <td>M&amp;A deal, revenues per square foot, revenues/s...</td>\n",
       "      <td>What is the significance of the increase in in...</td>\n",
       "      <td>[page_content='Same store sales: Family Dollar...</td>\n",
       "      <td>Thank you for asking! The increase in invento...</td>\n",
       "      <td>9.324757</td>\n",
       "      <td>[page_content='This discussion should highligh...</td>\n",
       "      <td>Thank you for your question. I'm glad to help...</td>\n",
       "      <td>13.759195</td>\n",
       "    </tr>\n",
       "  </tbody>\n",
       "</table>\n",
       "</div>"
      ],
      "text/plain": [
       "                                             Summary  \\\n",
       "0  M&A deal, revenues per square foot, revenues/s...   \n",
       "1  M&A deal, revenues per square foot, revenues/s...   \n",
       "2  M&A deal, revenues per square foot, revenues/s...   \n",
       "3  M&A deal, revenues per square foot, revenues/s...   \n",
       "4  M&A deal, revenues per square foot, revenues/s...   \n",
       "\n",
       "                                            Question  \\\n",
       "0  What factors does a company consider when dete...   \n",
       "1  How does the sales growth of Family Dollar com...   \n",
       "2  What is the difference between revenues per sq...   \n",
       "3  How does the operating ROA of Family Dollar co...   \n",
       "4  What is the significance of the increase in in...   \n",
       "\n",
       "                                    Question_Sources  \\\n",
       "0  [page_content='Same store sales: Family Dollar...   \n",
       "1  [page_content='Same store sales: Family Dollar...   \n",
       "2  [page_content='Same store sales: Family Dollar...   \n",
       "3  [page_content='Same store sales: Family Dollar...   \n",
       "4  [page_content='Same store sales: Family Dollar...   \n",
       "\n",
       "                                 Answer_With_Context  \\\n",
       "0   As a helpful and respectful MBA Graduate Teac...   \n",
       "1   Thank you for the question. To answer your qu...   \n",
       "2   Great, I'm glad you asked! Revenues per squar...   \n",
       "3   Thank you for the question! To answer your qu...   \n",
       "4   Thank you for asking! The increase in invento...   \n",
       "\n",
       "   Response_Time_Answers_With_Context  \\\n",
       "0                           19.507791   \n",
       "1                            9.053071   \n",
       "2                           15.427165   \n",
       "3                           10.431780   \n",
       "4                            9.324757   \n",
       "\n",
       "                                      Answer_Sources  \\\n",
       "0  [page_content='In considering which M&A target...   \n",
       "1  [page_content='2. How is Dollar General perfor...   \n",
       "2  [page_content='I ask students to debate the tr...   \n",
       "3  [page_content='2. How is Dollar General perfor...   \n",
       "4  [page_content='This discussion should highligh...   \n",
       "\n",
       "                                     General_Answers  \\\n",
       "0   As an MBA Graduate Teaching Assistant, I'm ha...   \n",
       "1   As a responsible and ethical MBA Graduate Tea...   \n",
       "2   Hello! As an MBA Graduate Teaching Assistant,...   \n",
       "3   As a responsible and ethical MBA Graduate Tea...   \n",
       "4   Thank you for your question. I'm glad to help...   \n",
       "\n",
       "   Response_Times_General_Answers  \n",
       "0                       20.855622  \n",
       "1                        8.791997  \n",
       "2                       15.144954  \n",
       "3                        9.214614  \n",
       "4                       13.759195  "
      ]
     },
     "execution_count": 184,
     "metadata": {},
     "output_type": "execute_result"
    }
   ],
   "source": [
    "df"
   ]
  },
  {
   "cell_type": "code",
   "execution_count": null,
   "metadata": {},
   "outputs": [],
   "source": [
    "#store the results in csv\n",
    "df.to_csv(\"all_prompt_responses.csv\")"
   ]
  },
  {
   "cell_type": "code",
   "execution_count": null,
   "metadata": {},
   "outputs": [],
   "source": []
  },
  {
   "cell_type": "code",
   "execution_count": null,
   "metadata": {},
   "outputs": [],
   "source": []
  },
  {
   "cell_type": "code",
   "execution_count": null,
   "metadata": {},
   "outputs": [],
   "source": []
  },
  {
   "cell_type": "code",
   "execution_count": null,
   "metadata": {},
   "outputs": [],
   "source": []
  },
  {
   "cell_type": "markdown",
   "metadata": {},
   "source": [
    "## **<span style=\"color:red\"> This marks the end of the notebook. The following blocks of code are part of the experimentation process </span>**"
   ]
  },
  {
   "cell_type": "markdown",
   "metadata": {
    "tags": []
   },
   "source": [
    "### Query Function for Falcon 40B Model"
   ]
  },
  {
   "cell_type": "markdown",
   "metadata": {},
   "source": [
    "#### Falcon 40B Model"
   ]
  },
  {
   "cell_type": "code",
   "execution_count": 136,
   "metadata": {
    "tags": []
   },
   "outputs": [],
   "source": [
    "# function to create a payload for the Falcon40b Model\n",
    "def create_payload_falcon(query=None,context=None):\n",
    "    if context and query:\n",
    "        prompt = \"\"\"Please answer the question below based on the provided context and If you cannot find reference for the question in the context, \n",
    "        please answer that you Dont know:\\n\\nContext is: \\n\\n{context}\\n\\nQuestion is:\\n\\n{question}\"\"\"\n",
    "        text_input = prompt.replace(\"{context}\", context)\n",
    "        text_input = text_input.replace(\"{question}\", query)\n",
    "    \n",
    "    elif query:\n",
    "        text_input = query\n",
    "    else:\n",
    "        text_input = \"\"  # or you can set it to None or some default value\n",
    "        \n",
    "\n",
    "    payload = {\n",
    "    \"inputs\": text_input,\n",
    "    \"parameters\":{\n",
    "        \"max_new_tokens\": 100,\n",
    "        # \"return_full_text\": False,\n",
    "        # \"do_sample\": False,\n",
    "        # \"top_k\":5\n",
    "        }\n",
    "    }\n",
    "    \n",
    "    return payload"
   ]
  },
  {
   "cell_type": "code",
   "execution_count": 168,
   "metadata": {
    "tags": []
   },
   "outputs": [],
   "source": [
    "#query function for falcon model\n",
    "\n",
    "endpoint_name = 'jumpstart-dft-hf-llm-falcon-40b-instruct-bf16-1'\n",
    "\n",
    "def query_endpoint_falcon(payload):\n",
    "    client = boto3.client('runtime.sagemaker')\n",
    "    response = client.invoke_endpoint(EndpointName=endpoint_name, ContentType='application/json', Body=json.dumps(payload).encode('utf-8'))\n",
    "    model_predictions = json.loads(response['Body'].read())\n",
    "    generated_text = model_predictions[0]['generated_text']\n",
    "    print (\n",
    "        f\"{bold}{generated_text}{unbold}{newline}\")\n"
   ]
  },
  {
   "cell_type": "code",
   "execution_count": 110,
   "metadata": {
    "tags": []
   },
   "outputs": [
    {
     "name": "stdout",
     "output_type": "stream",
     "text": [
      "\u001b[1m\n",
      "You can use Managed Spot Training in SageMaker with the following instances:\n",
      "- ml.m5.xlarge\n",
      "- ml.m5.2xlarge\n",
      "- ml.m5.4xlarge\n",
      "- ml.m5.8xlarge\n",
      "- ml.m5.16xlarge\n",
      "- ml.m5d.xlarge\n",
      "- ml.m5d.2xlarge\n",
      "- ml.m5d.4xlarge\n",
      "- ml.\u001b[0m\n",
      "\n"
     ]
    }
   ],
   "source": [
    "question=\"Which instances can I use with Managed Spot Training in SageMaker?\"\n",
    "payload=create_payload_falcon(question)\n",
    "query_endpoint_falcon(payload)"
   ]
  },
  {
   "cell_type": "markdown",
   "metadata": {},
   "source": [
    "**<span style=\"color:red\">Running this section will override 'documents' variable from the above code. </span>**"
   ]
  },
  {
   "cell_type": "markdown",
   "metadata": {},
   "source": [
    "### Documents in .csv format"
   ]
  },
  {
   "cell_type": "markdown",
   "metadata": {},
   "source": [
    "Now, let's download the example data and prepare it for demonstration. We will use [Amazon SageMaker FAQs](https://aws.amazon.com/sagemaker/faqs/) as knowledge library. The data are formatted in a CSV file with two columns Question and Answer. We use the Answer column as the documents of knowledge library, from which relevant documents are retrieved based on a query. \n"
   ]
  },
  {
   "cell_type": "code",
   "execution_count": null,
   "metadata": {
    "tags": []
   },
   "outputs": [
    {
     "name": "stdout",
     "output_type": "stream",
     "text": [
      "download: s3://jumpstart-cache-prod-us-east-2/training-datasets/Amazon_SageMaker_FAQs/Amazon_SageMaker_FAQs.csv to rag_data/Amazon_SageMaker_FAQs.csv\n"
     ]
    }
   ],
   "source": [
    "\n",
    "original_data = \"s3://jumpstart-cache-prod-us-east-2/training-datasets/Amazon_SageMaker_FAQs/\"\n",
    "\n",
    "!mkdir -p rag_data\n",
    "!aws s3 cp --recursive $original_data rag_data\n"
   ]
  },
  {
   "cell_type": "markdown",
   "metadata": {},
   "source": [
    "For the case when you have data saved in multiple subsets. The following code will read all files that end with `.csv` and concatenate them together. Please ensure each `csv` file has the same format."
   ]
  },
  {
   "cell_type": "code",
   "execution_count": null,
   "metadata": {
    "tags": []
   },
   "outputs": [],
   "source": [
    "\n",
    "import glob\n",
    "import os\n",
    "import pandas as pd\n",
    "\n",
    "all_files = glob.glob(os.path.join(\"rag_data/\", \"*.csv\"))\n",
    "\n",
    "df_knowledge = pd.concat(\n",
    "    (pd.read_csv(f, header=None, names=[\"Question\", \"Answer\"]) for f in all_files),\n",
    "    axis=0,\n",
    "    ignore_index=True,\n",
    ")\n"
   ]
  },
  {
   "cell_type": "markdown",
   "metadata": {},
   "source": [
    "Drop the `Question` column as it is not used in this demonstration."
   ]
  },
  {
   "cell_type": "code",
   "execution_count": null,
   "metadata": {
    "tags": []
   },
   "outputs": [],
   "source": [
    "df_knowledge.drop([\"Question\"], axis=1, inplace=True)"
   ]
  },
  {
   "cell_type": "code",
   "execution_count": null,
   "metadata": {
    "tags": []
   },
   "outputs": [],
   "source": [
    "df_knowledge.head(5)"
   ]
  },
  {
   "cell_type": "code",
   "execution_count": null,
   "metadata": {
    "tags": []
   },
   "outputs": [],
   "source": [
    "df_knowledge.to_csv(\"rag_data/processed_data.csv\", header=False, index=False)"
   ]
  },
  {
   "cell_type": "code",
   "execution_count": null,
   "metadata": {},
   "outputs": [],
   "source": [
    "loader = CSVLoader(file_path=\"rag_data/processed_data.csv\")"
   ]
  },
  {
   "cell_type": "code",
   "execution_count": null,
   "metadata": {
    "tags": []
   },
   "outputs": [],
   "source": [
    "documents = loader.load()"
   ]
  },
  {
   "cell_type": "markdown",
   "metadata": {
    "tags": []
   },
   "source": [
    "### Alternate approach to creating a FAISS Index"
   ]
  },
  {
   "cell_type": "markdown",
   "metadata": {},
   "source": [
    "### Method 3 : VectorstoreIndexCreator"
   ]
  },
  {
   "cell_type": "markdown",
   "metadata": {},
   "source": [
    "It exposes a higher-level interface to let you get started in few lines of code. The following code shows how the VectorstoreIndexCreator class in LangChain is used to create a concise implementation of question answering with RAG. Next, we use the query method on the created index and pass the user’s question and SageMaker endpoint LLM. LangChain selects the top four closest documents (K=4) and passes the relevant context extracted from the documents to generate an accurate response."
   ]
  },
  {
   "cell_type": "code",
   "execution_count": 29,
   "metadata": {
    "tags": []
   },
   "outputs": [],
   "source": [
    "index_creator = VectorstoreIndexCreator(\n",
    "    vectorstore_cls=FAISS,\n",
    "    embedding=embeddings,\n",
    "    text_splitter=CharacterTextSplitter(chunk_size=800, chunk_overlap=50),\n",
    ")"
   ]
  },
  {
   "cell_type": "code",
   "execution_count": 30,
   "metadata": {
    "tags": []
   },
   "outputs": [],
   "source": [
    "index = index_creator.from_loaders([loader])"
   ]
  },
  {
   "cell_type": "code",
   "execution_count": 31,
   "metadata": {
    "tags": []
   },
   "outputs": [],
   "source": [
    "question=\"What is a Balance Sheet\""
   ]
  },
  {
   "cell_type": "code",
   "execution_count": 32,
   "metadata": {
    "tags": []
   },
   "outputs": [
    {
     "data": {
      "text/plain": [
       "'What is a Balance Sheet'"
      ]
     },
     "execution_count": 32,
     "metadata": {},
     "output_type": "execute_result"
    }
   ],
   "source": [
    "question"
   ]
  },
  {
   "cell_type": "code",
   "execution_count": 33,
   "metadata": {
    "tags": []
   },
   "outputs": [
    {
     "data": {
      "text/plain": [
       "\" Based on the provided context, a Balance Sheet is a financial statement that presents the financial position of a business at a specific point in time. It provides a snapshot of the company's assets, liabilities, and equity, and is used to assess the business's financial health and performance. The Balance Sheet is one of the two main financial statements used in accounting, the other being the Income Statement.\\n\\nThe Balance Sheet is structured to show the following components:\\n\\n1. Assets: These are the resources owned or controlled by the business, such as cash, accounts receivable, inventory, property, and equipment.\\n2. Liabilities: These are the debts or obligations of the business, such as accounts payable, loans, and taxes owed.\\n3. Equity: This represents the ownership interest in the business, including common stock, retained earnings, and other reserves.\\n\\nThe Balance Sheet is important because it helps stakeholders, such as investors and creditors, understand the financial position of the business and make informed decisions. It is also used to evaluate the business's performance and identify areas for improvement.\""
      ]
     },
     "execution_count": 33,
     "metadata": {},
     "output_type": "execute_result"
    }
   ],
   "source": [
    "index.query(question=question, llm=llm)"
   ]
  },
  {
   "cell_type": "markdown",
   "metadata": {},
   "source": [
    "## **<span style=\"color:red\">Run this section only if you want to use Pinecone vector database for testing with test data</span>** ##"
   ]
  },
  {
   "cell_type": "markdown",
   "metadata": {},
   "source": [
    "### Testing Pinecone as our Vector database"
   ]
  },
  {
   "cell_type": "code",
   "execution_count": null,
   "metadata": {
    "tags": []
   },
   "outputs": [],
   "source": [
    "!pip install pinecone-client -q"
   ]
  },
  {
   "cell_type": "code",
   "execution_count": 37,
   "metadata": {
    "tags": []
   },
   "outputs": [],
   "source": [
    "#importing libraries\n",
    "import os\n",
    "import pinecone\n",
    "from langchain.document_loaders import DirectoryLoader\n",
    "from langchain.text_splitter import RecursiveCharacterTextSplitter\n",
    "from langchain.vectorstores import Pinecone\n",
    "from langchain.llms import OpenAI\n",
    "from langchain.chains.question_answering import load_qa_chain\n",
    "from langchain.indexes import VectorstoreIndexCreator\n",
    "from langchain.vectorstores import Chroma, AtlasDB, FAISS\n",
    "from langchain.text_splitter import CharacterTextSplitter"
   ]
  },
  {
   "cell_type": "code",
   "execution_count": 64,
   "metadata": {
    "tags": []
   },
   "outputs": [
    {
     "name": "stdout",
     "output_type": "stream",
     "text": [
      "732\n"
     ]
    }
   ],
   "source": [
    "#splitting the documents into chunks before storing in the database\n",
    "from langchain.text_splitter import RecursiveCharacterTextSplitter\n",
    "def split_docs(documents, chunk_size=1000, chunk_overlap=20):\n",
    "    text_splitter = RecursiveCharacterTextSplitter(chunk_size=chunk_size, chunk_overlap=chunk_overlap)\n",
    "    docs = text_splitter.split_documents(documents)\n",
    "    return docs\n",
    "\n",
    "docs = split_docs(documents)\n",
    "print(len(docs))"
   ]
  },
  {
   "cell_type": "code",
   "execution_count": 39,
   "metadata": {
    "tags": []
   },
   "outputs": [
    {
     "data": {
      "text/plain": [
       "4096"
      ]
     },
     "execution_count": 39,
     "metadata": {},
     "output_type": "execute_result"
    }
   ],
   "source": [
    "#check the dimensionality of the embeddings  for creating a database on Pinecone.\n",
    "query_result = embeddings.embed_query(\"Hello world\")\n",
    "len(query_result)"
   ]
  },
  {
   "cell_type": "code",
   "execution_count": null,
   "metadata": {},
   "outputs": [],
   "source": [
    "!pip install python-dotenv"
   ]
  },
  {
   "cell_type": "code",
   "execution_count": null,
   "metadata": {},
   "outputs": [],
   "source": [
    "import os\n",
    "from dotenv import load_dotenv"
   ]
  },
  {
   "cell_type": "code",
   "execution_count": null,
   "metadata": {},
   "outputs": [],
   "source": [
    "pinecone_key=os.getenv(\"PINECONE_API_KEY\")"
   ]
  },
  {
   "cell_type": "markdown",
   "metadata": {
    "tags": []
   },
   "source": [
    "Before running the following cell, you need to create an Index on Pinecone. Provide a name for the index and the dimensionality of the embddings being stored. "
   ]
  },
  {
   "cell_type": "code",
   "execution_count": 65,
   "metadata": {
    "tags": []
   },
   "outputs": [],
   "source": [
    "pinecone.init(\n",
    "    api_key=pinecone_key,\n",
    "    environment=\"us-west4-gcp-free\" #change the environment acording to your Pinecone Index\n",
    ")\n",
    "\n",
    "index_name = \"qna\" #this name would be the same as the name you provided while creating the index.\n",
    "\n",
    "index_p = Pinecone.from_documents(docs, embeddings, index_name=index_name)"
   ]
  },
  {
   "cell_type": "code",
   "execution_count": 128,
   "metadata": {
    "tags": []
   },
   "outputs": [],
   "source": [
    "#this function performs a search for chunks of documents which might be relevant to answer the question being asked.\n",
    "def get_similar_docs(query, k=4, score=False):\n",
    "    if score:\n",
    "        similar_docs = index_p.similarity_search_with_score(query, k=k)\n",
    "    else:\n",
    "        similar_docs = index_p.similarity_search(query, k=k)\n",
    "    return similar_docs"
   ]
  },
  {
   "cell_type": "code",
   "execution_count": 129,
   "metadata": {
    "tags": []
   },
   "outputs": [],
   "source": [
    "query=\"What are the objectives of accounting\"\n",
    "similar_docs = get_similar_docs(query,score=True)"
   ]
  },
  {
   "cell_type": "code",
   "execution_count": 154,
   "metadata": {
    "tags": []
   },
   "outputs": [
    {
     "data": {
      "text/plain": [
       "[(Document(page_content='The answers to these questions are to be found continuously and the best way to find them is to record all the business activities. Recording of business activities has to be done in a scientific manner so that they reveal correct outcome. The science of book-keeping and accounting provides an effective solution. It is a branch of social science. This study material aims at giving a platform to the students to understand basic principles and concepts, which can be applied to accurately measure performance of business. After studying the various chapters included herein, the student should be able to apply the principles, rules, conventions and practices to different business situations like trading, manufacturing or service.\\n\\nDEFINITIONS\\n\\nDefinition of Accounting\\n\\nDefinition by the American Institute of Certified Public Accountants (Year 1961):', metadata={'source': 'raw/Fundamentals-of-accounting.pdf'}),\n",
       "  0.73249197),\n",
       " (Document(page_content='Under this principle, accounting data must be verified. In other words, documentary evidence of transactions must be made which are capable of verification by an independent respect. In the absence of such verification, the data which will be available will neither be reliable nor be dependable, i.e., these should be biased data. Verifiability and objectivity express dependability, reliability and trustworthiness that are very useful for the purpose of displaying the accounting data and information to the users.\\n\\n(f) Historical Cost Concept', metadata={'source': 'raw/Fundamentals-of-accounting.pdf'}),\n",
       "  0.729516566),\n",
       " (Document(page_content='to meet future conditions.”', metadata={'source': 'raw/Fundamentals-of-accounting.pdf'}),\n",
       "  0.7204386),\n",
       " (Document(page_content='Accounting principles are basic guidelines that provide standards for scientific accounting practices and procedures. They guide as to how the transactions are to be recorded and reported. They assure uniformity and understandability. Accounting concepts lay down the foundation for accounting principles. They are ideas essentially at mental level and are self-evident. These concepts ensure recording of financial facts on sound bases and logical considerations. Accounting conventions are methods or procedures that are widely accepted. When\\n\\n10\\n\\nFUNDAMENTALS OF ACCOUNTING\\n\\ntransactions are recorded or interpreted, they follow the conventions. Many times, however, the terms-principles, concepts and conventions are used interchangeably.', metadata={'source': 'raw/Fundamentals-of-accounting.pdf'}),\n",
       "  0.718354762)]"
      ]
     },
     "execution_count": 154,
     "metadata": {},
     "output_type": "execute_result"
    }
   ],
   "source": [
    "similar_docs"
   ]
  },
  {
   "cell_type": "code",
   "execution_count": 130,
   "metadata": {
    "tags": []
   },
   "outputs": [],
   "source": [
    "context=\"\"\n",
    "for doc in similar_docs:\n",
    "    # Extract the 'page_content' from the Document object\n",
    "    page_content = doc[0].page_content\n",
    "\n",
    "    # Append the 'page_content' to the context_variable\n",
    "    context += page_content + \"\\n\""
   ]
  },
  {
   "cell_type": "code",
   "execution_count": 152,
   "metadata": {
    "tags": []
   },
   "outputs": [
    {
     "data": {
      "text/plain": [
       "'The answers to these questions are to be found continuously and the best way to find them is to record all the business activities. Recording of business activities has to be done in a scientific manner so that they reveal correct outcome. The science of book-keeping and accounting provides an effective solution. It is a branch of social science. This study material aims at giving a platform to the students to understand basic principles and concepts, which can be applied to accurately measure performance of business. After studying the various chapters included herein, the student should be able to apply the principles, rules, conventions and practices to different business situations like trading, manufacturing or service.\\n\\nDEFINITIONS\\n\\nDefinition of Accounting\\n\\nDefinition by the American Institute of Certified Public Accountants (Year 1961):\\nUnder this principle, accounting data must be verified. In other words, documentary evidence of transactions must be made which are capable of verification by an independent respect. In the absence of such verification, the data which will be available will neither be reliable nor be dependable, i.e., these should be biased data. Verifiability and objectivity express dependability, reliability and trustworthiness that are very useful for the purpose of displaying the accounting data and information to the users.\\n\\n(f) Historical Cost Concept\\nto meet future conditions.”\\nAccounting principles are basic guidelines that provide standards for scientific accounting practices and procedures. They guide as to how the transactions are to be recorded and reported. They assure uniformity and understandability. Accounting concepts lay down the foundation for accounting principles. They are ideas essentially at mental level and are self-evident. These concepts ensure recording of financial facts on sound bases and logical considerations. Accounting conventions are methods or procedures that are widely accepted. When\\n\\n10\\n\\nFUNDAMENTALS OF ACCOUNTING\\n\\ntransactions are recorded or interpreted, they follow the conventions. Many times, however, the terms-principles, concepts and conventions are used interchangeably.\\n'"
      ]
     },
     "execution_count": 152,
     "metadata": {},
     "output_type": "execute_result"
    }
   ],
   "source": [
    "context"
   ]
  },
  {
   "cell_type": "code",
   "execution_count": 132,
   "metadata": {
    "tags": []
   },
   "outputs": [],
   "source": [
    "import tiktoken\n",
    "def num_tokens_from_string(string: str, encoding_name: str) -> int:\n",
    "    \"\"\"Returns the number of tokens in a text string.\"\"\"\n",
    "    encoding = tiktoken.get_encoding(encoding_name)\n",
    "    num_tokens = len(encoding.encode(string))\n",
    "    return num_tokens"
   ]
  },
  {
   "cell_type": "code",
   "execution_count": 133,
   "metadata": {
    "tags": []
   },
   "outputs": [],
   "source": [
    "num_tokens=num_tokens_from_string(context,\"cl100k_base\")"
   ]
  },
  {
   "cell_type": "code",
   "execution_count": 134,
   "metadata": {
    "tags": []
   },
   "outputs": [
    {
     "data": {
      "text/plain": [
       "386"
      ]
     },
     "execution_count": 134,
     "metadata": {},
     "output_type": "execute_result"
    }
   ],
   "source": [
    "num_tokens"
   ]
  },
  {
   "cell_type": "code",
   "execution_count": 135,
   "metadata": {
    "tags": []
   },
   "outputs": [
    {
     "name": "stdout",
     "output_type": "stream",
     "text": [
      "\u001b[1m?\n",
      "\n",
      "The objectives of accounting are:\n",
      "\n",
      "1. To provide information to the users of accounting information.\n",
      "2. To provide information to the management for planning, controlling and decision-making.\n",
      "3. To provide information to the government for tax purposes.\n",
      "4. To provide information to the creditors for assessing the creditworthiness of the business.\n",
      "5. To provide information to the shareholders for assessing the profitability of the business.\n",
      "6. To provide information to the employees for assessing\u001b[0m\n",
      "\n"
     ]
    }
   ],
   "source": [
    "#Falcon 40b Model\n",
    "query=\"What are the objectives of accounting\"\n",
    "payload=create_payload_falcon(query,context)\n",
    "query_endpoint_falcon(payload)"
   ]
  },
  {
   "cell_type": "code",
   "execution_count": 153,
   "metadata": {},
   "outputs": [
    {
     "name": "stdout",
     "output_type": "stream",
     "text": [
      "\u001b[1m Based on the provided context, the objectives of accounting are:\n",
      "\n",
      "1. To provide reliable and verifiable information about business activities.\n",
      "2. To record all business activities in a scientific manner to ensure accurate measurement of performance.\n",
      "3. To provide a platform for students to understand basic principles and concepts of accounting.\n",
      "4. To apply principles, rules, conventions, and practices to different business situations.\n",
      "5. To ensure uniformity and understandability of accounting\u001b[0m\n",
      "\n"
     ]
    }
   ],
   "source": [
    "#Llama 2 7b Chat (prompt2)\n",
    "payload=create_payload(query,context)\n",
    "query_endpoint(payload)"
   ]
  },
  {
   "cell_type": "code",
   "execution_count": 158,
   "metadata": {
    "tags": []
   },
   "outputs": [
    {
     "name": "stdout",
     "output_type": "stream",
     "text": [
      "\u001b[1m Certainly! Based on the provided context, here are all the question answer pairs that capture the information:\n",
      "\n",
      "1. What is the definition of accounting?\n",
      "Answer: Accounting is defined as the science of recording, classifying, and reporting financial transactions and events of a business entity.\n",
      "2. What is the definition of accounting by the American Institute of Certified Public Accountants (AICPA)?\n",
      "Answer: According to the AICPA, accounting is the art of recording, classifying, and reporting financial transactions and events of a business entity in a manner that provides a fair presentation of its financial position and performance.\n",
      "3. What is the purpose of accounting?\n",
      "Answer: The purpose of accounting is to provide financial information that is useful to users, such as investors, creditors, and management, in making economic decisions.\n",
      "4. What are the three fundamental assumptions of accounting?\n",
      "Answer: The three fundamental assumptions of accounting are:\n",
      "\t* The business will continue to operate in the future.\n",
      "\t* The economic environment in which the business operates will remain unchanged.\n",
      "\t* The business will not dispose of any of its assets or incur any liabilities that are not expected to be settled in the near future.\n",
      "5. What is the historical cost concept?\n",
      "Answer: The historical cost concept is the principle that the value of assets and liabilities should be recorded at their original\u001b[0m\n",
      "\n"
     ]
    }
   ],
   "source": [
    "#Llama 2 7b Chat \n",
    "query=\"Give me a list of all question answer pairs from the provided context that capture all the information in the context.\"\n",
    "payload=create_payload(query,context)\n",
    "query_endpoint(payload)"
   ]
  },
  {
   "cell_type": "code",
   "execution_count": 102,
   "metadata": {
    "tags": []
   },
   "outputs": [
    {
     "name": "stdout",
     "output_type": "stream",
     "text": [
      "\u001b[1m Based on the context provided, the objectives of accounting can be summarized as follows:\n",
      "\n",
      "1. To provide a platform for students to understand basic principles and concepts of accounting and their application in measuring the performance of business.\n",
      "2. To verify and validate accounting data through documentary evidence, ensuring reliability and dependability of the information.\n",
      "3. To ensure uniformity and understandability of accounting practices and procedures.\n",
      "4. To provide standards for\u001b[0m\n",
      "\n"
     ]
    }
   ],
   "source": [
    "#llama 2 7b Chat (prompt1)\n",
    "query_endpoint(payload)"
   ]
  },
  {
   "cell_type": "code",
   "execution_count": 105,
   "metadata": {},
   "outputs": [
    {
     "name": "stdout",
     "output_type": "stream",
     "text": [
      "\u001b[1m Based on the context provided, the objectives of accounting are:\n",
      "\n",
      "1. To record and report financial transactions in a scientific manner to provide accurate and reliable information to stakeholders.\n",
      "2. To provide a platform for students to understand basic principles and concepts of accounting, which can be applied to different business situations.\n",
      "3. To ensure uniformity and understandability of accounting practices and procedures.\n",
      "4. To provide standards for accounting practices and procedures to ensure\u001b[0m\n",
      "\n"
     ]
    }
   ],
   "source": [
    "#llama2 13b chat(prompt1)\n",
    "query_endpoint_13(payload)"
   ]
  },
  {
   "cell_type": "code",
   "execution_count": 151,
   "metadata": {
    "tags": []
   },
   "outputs": [
    {
     "name": "stdout",
     "output_type": "stream",
     "text": [
      "\u001b[1m Based on the provided context, the objectives of accounting are:\n",
      "\n",
      "1. To provide reliable and verifiable information about the financial activities and performance of a business.\n",
      "2. To ensure uniformity and understandability of accounting practices and procedures.\n",
      "3. To record financial facts on a sound basis and logical considerations.\n",
      "4. To provide a platform for students to understand basic principles and concepts of accounting, which can be applied to different business situations.\n",
      "5.\u001b[0m\n",
      "\n"
     ]
    }
   ],
   "source": [
    "#llama2 13b chat (prompt2)\n",
    "payload=create_payload(query,context)\n",
    "query_endpoint_13(payload)"
   ]
  },
  {
   "cell_type": "code",
   "execution_count": null,
   "metadata": {},
   "outputs": [],
   "source": []
  },
  {
   "cell_type": "code",
   "execution_count": null,
   "metadata": {},
   "outputs": [],
   "source": []
  },
  {
   "cell_type": "code",
   "execution_count": 80,
   "metadata": {},
   "outputs": [],
   "source": [
    "prompt_template = \"\"\"Answer based on context:\\n\\n{context}\\n\\n{question}\"\"\"\n",
    "\n",
    "PROMPT = PromptTemplate(template=prompt_template, input_variables=[\"context\", \"question\"])"
   ]
  },
  {
   "cell_type": "code",
   "execution_count": 81,
   "metadata": {},
   "outputs": [],
   "source": [
    "chain = load_qa_chain(llm=sm_llm, prompt=PROMPT)"
   ]
  },
  {
   "cell_type": "code",
   "execution_count": null,
   "metadata": {},
   "outputs": [],
   "source": []
  },
  {
   "cell_type": "code",
   "execution_count": null,
   "metadata": {},
   "outputs": [],
   "source": []
  },
  {
   "cell_type": "code",
   "execution_count": null,
   "metadata": {},
   "outputs": [],
   "source": []
  },
  {
   "cell_type": "markdown",
   "metadata": {},
   "source": [
    "### Method 1: Load QA Chain"
   ]
  },
  {
   "cell_type": "markdown",
   "metadata": {},
   "source": [
    "In this section, we show you an approach to implement RAG using SageMaker and LangChain. This approach offers the flexibility to configure top K parameters for a relevancy search in the documents. It also allows you to use the LangChain feature of prompt templates, which allow you to easily parameterize the prompt creation instead of hard coding the prompts.\n",
    "\n",
    "In the following code, we explicitly use FAISS to generate embedding for each of the document in the knowledge library with the SageMaker GPT-J-6B embedding model. Then we identify the top K (K=3) most relevant documents based on the user query."
   ]
  },
  {
   "cell_type": "code",
   "execution_count": 17,
   "metadata": {
    "tags": []
   },
   "outputs": [],
   "source": [
    "summary=\"\"\"M&A deal, revenues per square foot, revenues/sf, roe, return on equity, dupont, adjusted dupont, ratio analysis\"\"\""
   ]
  },
  {
   "cell_type": "markdown",
   "metadata": {},
   "source": [
    "Based on the question above, we then **identify top K most relevant documents based on user query**."
   ]
  },
  {
   "cell_type": "code",
   "execution_count": 18,
   "metadata": {
    "tags": []
   },
   "outputs": [],
   "source": [
    "similar_docs = docsearch.similarity_search(summary, k=10)"
   ]
  },
  {
   "cell_type": "code",
   "execution_count": 19,
   "metadata": {
    "tags": []
   },
   "outputs": [],
   "source": [
    "def get_context(documents):\n",
    "    context = [doc.page_content for doc in documents]\n",
    "    return context\n",
    "context=get_context(similar_docs)"
   ]
  },
  {
   "cell_type": "code",
   "execution_count": 20,
   "metadata": {},
   "outputs": [
    {
     "data": {
      "text/plain": [
       "2072"
      ]
     },
     "execution_count": 20,
     "metadata": {},
     "output_type": "execute_result"
    }
   ],
   "source": [
    "#define a method to count the number of tokens being retrieved from the documents\n",
    "\n",
    "import tiktoken\n",
    "def num_tokens_from_string(string: str, encoding_name: str) -> int:\n",
    "    \"\"\"Returns the number of tokens in a text string.\"\"\"\n",
    "    encoding = tiktoken.get_encoding(encoding_name)\n",
    "    num_tokens = len(encoding.encode(string))\n",
    "    return num_tokens\n",
    "num_of_tokens=0\n",
    "for doc in similar_docs:\n",
    "    num_of_tokens+=num_tokens_from_string(doc.page_content,\"cl100k_base\")\n",
    "num_of_tokens"
   ]
  },
  {
   "cell_type": "markdown",
   "metadata": {},
   "source": [
    "Load_qa_chain provides the most generic interface for answering questions. It loads a chain that you can do QA for your input documents and uses ALL of the text in the documents."
   ]
  },
  {
   "cell_type": "code",
   "execution_count": 23,
   "metadata": {
    "tags": []
   },
   "outputs": [],
   "source": [
    "#Using chain_type=stuff\n",
    "chain = load_qa_chain(llm=llm,chain_type=\"stuff\")\n",
    "question=\"Generate 10 questions from the context provided.Also provide answers to those questions from the context only.\"\n",
    "result=chain.run(input_documents=similar_docs,question=question)"
   ]
  },
  {
   "cell_type": "code",
   "execution_count": 24,
   "metadata": {
    "tags": []
   },
   "outputs": [
    {
     "name": "stdout",
     "output_type": "stream",
     "text": [
      " Sure, I'd be happy to help! Here are 10 questions generated from the context provided:\n",
      "\n",
      "1. What factors does the manager consider when determining the appropriate amount of leverage for the company?\n",
      "Answer: The manager considers factors such as collateralizable assets, future profitability, and cash generation when determining the appropriate amount of leverage for the company.\n",
      "2. How does the manager actions and decisions impact the performance metrics of the company?\n",
      "Answer: The manager's actions and decisions can impact the performance metrics of the company, such as profitability, turnover, and leverage.\n",
      "3. What is the difference between ROA and ROE, and how do they relate to the company's performance?\n",
      "Answer: ROA (Return on Assets) measures a company's profitability in relation to its total assets, while ROE (Return on Equity) measures a company's profitability in relation to its shareholder equity. A higher ROA and ROE indicates better performance for the company.\n",
      "4. How does the company's leverage affect its performance, and what are the potential risks associated with high leverage?\n",
      "Answer: The company's leverage can affect its performance by impacting its profitability and cash flow. High leverage can increase the company's interest expenses and reduce its cash flow, which can negatively impact its performance.\n",
      "5. What is the significance of the company's gross margins, and how do they relate to its profitability?\n",
      "Answer: Gross margins are a measure of a company's profitability, and a higher gross margin indicates better profitability. A company with high gross margins is likely to be more profitable than a company with low gross margins.\n",
      "6. How does the company's product mix affect its performance, and what are the potential benefits and drawbacks of offering low-margin products?\n",
      "Answer: The company's product mix can affect its performance by impacting its profitability and cash flow. Offering low-margin products can increase sales volume and revenue, but may also reduce profitability.\n",
      "7. What is the significance of the company's inventory turnover and asset turnover, and how do they relate to its performance?\n",
      "Answer: Inventory turnover and asset turnover are measures of a company's efficiency in using its assets and managing its inventory. A higher inventory turnover and asset turnover indicates better performance for the company.\n",
      "8. How does the company's use of working capital affect its performance, and what are the potential benefits and drawbacks of using working capital?\n",
      "Answer: The company's use of working capital can affect its performance by impacting its profitability and cash flow. A company that uses working capital effectively may be able to increase its sales and revenue, while a company that mismanages its working capital may experience cash flow problems.\n",
      "9. What is the significance of the company's sales growth, and how does it relate to its performance?\n",
      "Answer: Sales growth is a measure of a company's ability to increase its revenue and sales volume. A company with high sales growth is likely to be more profitable than a company with low sales growth.\n",
      "10. How does the company's management of costs and expenses affect its performance, and what are the potential benefits and drawbacks of reducing costs?\n",
      "Answer: The company's management of costs and expenses can affect its performance by impacting its profitability and cash flow. Reducing costs can increase profitability, but may also reduce the company's ability to invest in growth and expansion.\n"
     ]
    }
   ],
   "source": [
    "print(result)"
   ]
  },
  {
   "cell_type": "code",
   "execution_count": 128,
   "metadata": {
    "tags": []
   },
   "outputs": [
    {
     "name": "stderr",
     "output_type": "stream",
     "text": [
      "Token indices sequence length is longer than the specified maximum sequence length for this model (7439 > 1024). Running this sequence through the model will result in indexing errors\n",
      "Token indices sequence length is longer than the specified maximum sequence length for this model (1884 > 1024). Running this sequence through the model will result in indexing errors\n",
      "Token indices sequence length is longer than the specified maximum sequence length for this model (2379 > 1024). Running this sequence through the model will result in indexing errors\n",
      "Token indices sequence length is longer than the specified maximum sequence length for this model (3001 > 1024). Running this sequence through the model will result in indexing errors\n",
      "Token indices sequence length is longer than the specified maximum sequence length for this model (2773 > 1024). Running this sequence through the model will result in indexing errors\n",
      "Token indices sequence length is longer than the specified maximum sequence length for this model (3342 > 1024). Running this sequence through the model will result in indexing errors\n",
      "Token indices sequence length is longer than the specified maximum sequence length for this model (2392 > 1024). Running this sequence through the model will result in indexing errors\n",
      "Token indices sequence length is longer than the specified maximum sequence length for this model (2765 > 1024). Running this sequence through the model will result in indexing errors\n",
      "Token indices sequence length is longer than the specified maximum sequence length for this model (2976 > 1024). Running this sequence through the model will result in indexing errors\n",
      "Token indices sequence length is longer than the specified maximum sequence length for this model (3328 > 1024). Running this sequence through the model will result in indexing errors\n",
      "Token indices sequence length is longer than the specified maximum sequence length for this model (2239 > 1024). Running this sequence through the model will result in indexing errors\n",
      "Token indices sequence length is longer than the specified maximum sequence length for this model (2647 > 1024). Running this sequence through the model will result in indexing errors\n",
      "Token indices sequence length is longer than the specified maximum sequence length for this model (3060 > 1024). Running this sequence through the model will result in indexing errors\n",
      "Token indices sequence length is longer than the specified maximum sequence length for this model (1956 > 1024). Running this sequence through the model will result in indexing errors\n",
      "Token indices sequence length is longer than the specified maximum sequence length for this model (2020 > 1024). Running this sequence through the model will result in indexing errors\n",
      "Token indices sequence length is longer than the specified maximum sequence length for this model (2444 > 1024). Running this sequence through the model will result in indexing errors\n",
      "Token indices sequence length is longer than the specified maximum sequence length for this model (3698 > 1024). Running this sequence through the model will result in indexing errors\n",
      "Token indices sequence length is longer than the specified maximum sequence length for this model (1906 > 1024). Running this sequence through the model will result in indexing errors\n",
      "Token indices sequence length is longer than the specified maximum sequence length for this model (2536 > 1024). Running this sequence through the model will result in indexing errors\n",
      "Token indices sequence length is longer than the specified maximum sequence length for this model (2857 > 1024). Running this sequence through the model will result in indexing errors\n",
      "Token indices sequence length is longer than the specified maximum sequence length for this model (3271 > 1024). Running this sequence through the model will result in indexing errors\n",
      "Token indices sequence length is longer than the specified maximum sequence length for this model (2286 > 1024). Running this sequence through the model will result in indexing errors\n",
      "Token indices sequence length is longer than the specified maximum sequence length for this model (2296 > 1024). Running this sequence through the model will result in indexing errors\n"
     ]
    },
    {
     "name": "stdout",
     "output_type": "stream",
     "text": [
      " Great! Here are the answers to the questions you provided:\n",
      "\n",
      "1. The president did not mention Michael Jackson.\n",
      "2. The board of directors has a fiduciary duty of care, loyalty, and candor to their shareholders when it comes to M&A.\n",
      "3. Historical ratio analysis can help guide M&A considerations by providing a framework for evaluating the financial performance of potential targets.\n",
      "4. The board of directors has a critical role in M&A, including evaluating potential targets, negotiating deals, and ensuring that the company is getting the best possible price and terms.\n",
      "5. Some of the risks associated with M&A include the risk of not being able to integrate the target company successfully, the risk of underestimating the costs of the acquisition, and the risk of not being able to achieve the expected synergies.\n",
      "6. To ensure that they are getting the best possible price and terms in an M&A deal, companies can conduct thorough due diligence, negotiate aggressively, and be transparent about their goals and expectations.\n",
      "7. Adding value to a target involves improving the financial performance of the target company, while extracting value from a target involves realizing synergies or cost savings through the acquisition.\n",
      "8. Companies can ensure they are being transparent and honest in their M&A dealings by providing clear and detailed information about their goals and expectations, as well as being open and forthcoming about any potential risks or challenges.\n",
      "9. The board of directors has a critical role in ensuring that a company is being transparent and honest in its M&A dealings, including overseeing the due diligence process and ensuring that all stakeholders are being kept informed.\n",
      "10. To ensure they are getting the best possible deal in an M&A transaction, companies can conduct thorough due diligence, negotiate aggressively, and be transparent about their goals and expectations.\n",
      "\n",
      "I hope these answers help! Let me know if you have any further questions.\n"
     ]
    }
   ],
   "source": [
    "#Using chain_type=map_reduce\n",
    "chain = load_qa_chain(llm=llm,chain_type=\"map_reduce\")\n",
    "question=\"Generate 10 questions and answer pairs from the context provided.\"\n",
    "result=chain.run(input_documents=similar_docs,question=question)\n",
    "print(result)"
   ]
  },
  {
   "cell_type": "code",
   "execution_count": 129,
   "metadata": {
    "tags": []
   },
   "outputs": [
    {
     "name": "stdout",
     "output_type": "stream",
     "text": [
      " Sure, I'd be happy to help! Based on the new context provided, here are some refined answers to the original questions:\n",
      "\n",
      "1. What is the DuPont formula, and how is it used in performance analysis?\n",
      "\n",
      "The DuPont formula is a way of analyzing a company's return on equity (ROE) into three components: net profit margin, asset turnover, and equity multiplier. The formula is used to provide a more comprehensive picture of a company's financial performance and to identify areas for improvement. In the context of Target's acquisition strategy, the DuPont formula can be used to evaluate the financial performance of Target and its potential acquisition targets, and to identify areas where they may be underperforming.\n",
      "\n",
      "2. How does the board's role change during an acquisition bid?\n",
      "\n",
      "During an acquisition bid, the board's role becomes especially emphasized, as the board must carefully evaluate the potential acquisition and its impact on the company. The board must ensure that the acquisition aligns with the company's overall goals and values, and that it will not negatively impact the company's strategy in the long term. In the context of Target's acquisition strategy, the board must carefully evaluate the potential impact of the acquisition on Target and its potential acquisition targets, and ensure that any decisions made are in the best interests of the company and its shareholders.\n",
      "\n",
      "3. What are some other considerations that are important for M&A deals?\n",
      "\n",
      "In addition to the financial considerations of an acquisition, there are several other considerations that are important to consider in M&A deals. These include social issues, such as the impact of the acquisition on local communities and the environment. The board must also consider the potential impact of the acquisition on the company's culture and values, as well as any potential legal or regulatory issues that may arise. In the context of Target's acquisition strategy, the board must consider the potential impact of the acquisition on Target and its potential acquisition targets, as well as any potential legal or regulatory issues that may arise.\n",
      "\n",
      "4. How does the presence of an activist investor on the board impact the acquisition process?\n",
      "\n",
      "The presence of an activist investor on the board can significantly impact the acquisition process. Activist investors often have different priorities and goals for the company than the rest of the board, and they may push for acquisitions or other strategic actions that align with their interests. The board must carefully consider the impact of the activist investor on the acquisition process and ensure that any decisions made are in the best interests of the company and its shareholders. In the context of Target's acquisition strategy, the presence of an activist investor on the board may impact the board's evaluation of the potential acquisition, and the board must consider the potential impact of the activist investor on the acquisition and ensure that any decisions made are in the best interests of the company and its shareholders.\n",
      "\n",
      "5. What is the difference between net profit margin and asset turnover in the DuPont formula?\n",
      "\n",
      "Net profit margin measures a company's profitability, while asset turnover measures how efficiently a company is using its assets to generate revenue. Net profit margin is calculated by dividing net income by revenue, while asset turnover is calculated by dividing revenue by total assets. The DuPont formula breaks down ROE into these two components to provide a more comprehensive picture of a company's financial performance. In the context of Target's acquisition strategy, the DuPont formula can be used to evaluate the financial performance of Target and its potential acquisition targets, and to identify areas where they may be underperforming.\n",
      "\n",
      "6. How does the board ensure that the CEO is selected in a way that aligns with the company's strategy?\n",
      "\n",
      "The board can ensure that the CEO is selected in a way that aligns with the company's strategy by conducting a thorough search process and evaluating potential candidates based on their fit with the company's goals and values. The board must also consider the CEO's experience and track record in implementing the company's strategy, as well as their ability to work effectively with the board and other stakeholders. In the context of Target's acquisition strategy, the board must carefully evaluate the potential impact of the acquisition on Target and its potential acquisition targets, and ensure that the CEO is selected in a way that aligns with the company's goals and values.\n",
      "\n",
      "7. What are some potential challenges that can arise when evaluating the potential impact of an acquisition on a company's social issues?\n",
      "\n",
      "Potential challenges that can arise when evaluating the potential impact of an acquisition on a company's social issues include conflicting values and goals between the companies involved, as well as the potential for negative impacts on local communities and the environment. The board must consider these potential challenges and make recommendations to the company based on their evaluation. In the context of Target's acquisition strategy, the board must consider the potential impact of the acquisition on Target and its potential acquisition targets, as well as any potential legal or regulatory issues that may arise.\n",
      "\n",
      "8. How does the DuPont formula differ from other financial ratios used in performance analysis?\n",
      "\n",
      "The DuPont formula differs from other financial ratios used in performance analysis in that it breaks down ROE into three components, providing a more comprehensive picture of a company's financial performance. Other financial ratios, such as the price-to-earnings ratio (P/E ratio) and the price-to-book ratio (P/B ratio), provide a more limited view of a company's financial performance and do not take into account the underlying components of ROE. In the context of Target's acquisition strategy, the DuPont formula can be used to evaluate the financial performance of Target and its potential acquisition targets, and to identify areas where they may be underperforming.\n"
     ]
    }
   ],
   "source": [
    "#Using chain_type=refine\n",
    "chain = load_qa_chain(llm=llm,chain_type=\"refine\")\n",
    "question=\"Generate 10 questions and answer pairs from the context provided..\"\n",
    "result=chain.run(input_documents=similar_docs,question=question)\n",
    "print(result)"
   ]
  },
  {
   "cell_type": "markdown",
   "metadata": {},
   "source": [
    "### Method 2: RetrievalQA"
   ]
  },
  {
   "cell_type": "markdown",
   "metadata": {},
   "source": [
    "RetrievalQA chain uses load_qa_chain under the hood. We retrieve the most relevant chunk of text and feed those to the language model."
   ]
  },
  {
   "cell_type": "code",
   "execution_count": 27,
   "metadata": {},
   "outputs": [
    {
     "name": "stdout",
     "output_type": "stream",
     "text": [
      " Sure, I'd be happy to help! Here are 10 questions generated from the provided context, along with answers to those questions based on the information provided in the context:\n",
      "\n",
      "1. What factors do you think are critical for driving success in the dollar store industry?\n",
      "\n",
      "Answer: The critical factors for driving success in the dollar store industry include offering competitive prices, maintaining a wide selection of products, providing excellent customer service, and optimizing store operations to maximize efficiency and profitability.\n",
      "\n",
      "2. What is your assessment of Dollar General's performance over time and relative to its competitors?\n",
      "\n",
      "Answer: Based on the financial ratios provided in the context, Dollar General's performance appears to have improved over time, with increases in profitability and asset turnover. However, its return on equity (ROE) has declined relative to its competitors, which may be a concern for investors.\n",
      "\n",
      "3. If you were Rick Dreiling, how do you think an acquisition of Family Dollar adds value to your business?\n",
      "\n",
      "Answer: As CEO of Dollar General, Rick Dreiling may view an acquisition of Family Dollar as a strategic opportunity to expand the company's market share and increase its scale in the dollar store industry. By combining the two companies, Dollar General could potentially achieve cost savings, improve operational efficiency, and gain access to new markets and customers.\n",
      "\n",
      "4. Why do you think the deal failed?\n",
      "\n",
      "Answer: The deal failed due to a combination of factors, including regulatory hurdles, conflicts with Family Dollar's management, and concerns about the potential impact on competition in the retail industry.\n",
      "\n",
      "5. What is your assessment of Ambuja's financial performance, and which number do you think is more representative of the economic reality of the firm?\n",
      "\n",
      "Answer: Based on the financial statements provided in the context, Ambuja's financial performance appears to be strong, with high profitability and asset turnover. However, the True Value of $301 million USD may be more representative of the economic reality of the firm, as it takes into account the social and environmental impact of the company's activities.\n",
      "\n",
      "6. How would a discount strategy and price war affect Souqalmal's financials and financing needs?\n",
      "\n",
      "Answer: A discount strategy and price war could potentially lead to increased sales and revenue for Souqalmal, but may also result in lower profit margins. To finance its operations, Souqalmal may need to raise additional capital, potentially through debt or equity financing.\n",
      "\n",
      "7. What are the implications of Einhorn's analysis for Green Mountain's stock price and valuation?\n",
      "\n",
      "Answer: Einhorn's analysis suggests that Green Mountain's stock price may be overvalued due to the company's high valuation multiples and lack of sustainable growth. This could result in a decrease in the stock price and valuation of the company.\n",
      "\n",
      "8. What are the non-cash effects of transactions for year 2, and how do they impact the income statement and balance sheet?\n",
      "\n",
      "Answer: The non-cash effects of transactions for year 2 include the prepaid cost of $100,000 for brand ambassador fees and the startup cost of $500,000 for Blue Future Contract. These non-cash effects impact the income statement and balance sheet by increasing expenses and reducing assets, respectively.\n",
      "\n",
      "9. How do you think the company's performance will change in year 3, based on the trends observed in year 2?\n",
      "\n",
      "Answer: Based on the trends observed in year 2, it is likely that the company's performance will improve in year 3, with increased profitability and asset turnover. However, the decline in ROE may continue, which could be a concern for investors.\n",
      "\n",
      "10. What are the implications of the company's high goodwill involvement in acquiring licensees for its asset turnover and ROE?\n",
      "\n",
      "Answer: The high goodwill involvement in acquiring licensees may impact the company's asset turnover and ROE by reducing the efficiency of its operations and limiting its ability to generate profits. This could result in a lower valuation for the company.\n"
     ]
    }
   ],
   "source": [
    "# expose the index in a retriever interface\n",
    "retriever = docsearch.as_retriever(search_type=\"similarity\", search_kwargs={\"k\":10})\n",
    "# create a chain to answer questions \n",
    "qa = RetrievalQA.from_chain_type(\n",
    "    llm=llm, chain_type=\"stuff\", retriever=retriever, return_source_documents=True)\n",
    "query = \"\"\"Generate 10 questions from the provided context on these topics: \n",
    "M&A deal, revenues per square foot, revenues/sf, roe, return on equity, dupont, adjusted dupont, ratio analysis.\n",
    "Also provide answers to those questions from the context only.\"\"\"\n",
    "result = qa({\"query\": query})\n",
    "result_text = result['result']\n",
    "print(result_text)"
   ]
  },
  {
   "cell_type": "code",
   "execution_count": 28,
   "metadata": {
    "tags": []
   },
   "outputs": [
    {
     "name": "stdout",
     "output_type": "stream",
     "text": [
      "Patent expiration: lower margins and lower sales  Brand partnerships: lower margins since the brands capture most of the value  Licensee acquisition: lower asset turnover  Goodwill write-offs: losses, book value written off  Revenue recognition: channel stuffing, lower sales growth  Growth in CapEx: lower asset turnover\n",
      "\n",
      "In conclusion, Einhorn exposed management issues and drew attention to inconsistencies between\n",
      "\n",
      "GMCR’s reports and actions. His presentation damaged the company’s credibility and its valuation.\n",
      "\n",
      "Q: How should the company respond to Einhorn, and what challenges does it face?\n",
      "\n",
      "If time permits the instructor can spend some time on this question. The commentary following my fictional case study in the Harvard Business Review, “A Short-Seller Crashes the Party” Harvard Business Review 91, no. 12 (December 2013) addresses this question.\n",
      "\n",
      "What Happened?\n",
      "\n",
      "\n",
      "Source is\n",
      "../accounting_data/GMCR Teaching Note.pdf\n",
      "\n",
      "\n",
      "What factors would you consider in determining the appropriate amount of leverage (factors lenders will require such as collateralizable assets, future profitability and cash generation, factors borrowers considers such as operating risks, tax situation). \n",
      "\n",
      "\n",
      "\n",
      "Repurchase contributed to increase in leverage from 0.59 to 0.96 in 2008.  This enabled stable contribution to ROE from leverage, despite the drop in ROA and spread. Target’s ROE (based on beginning equity) for 2007 was 18.2% and for 2008 was 14.5%.\n",
      "\n",
      "As a manager, how do your actions and decisions impact these performance metrics?\n",
      "\n",
      "Strategic decisions (product differentiation, pricing, customer credit), execution (cost controls, reviews of unprofitable stores, effectiveness of new store locations), financial policies.\n",
      "\n",
      "\n",
      "Source is\n",
      "../accounting_data/Target Teaching Plan 20191002.docx\n",
      "\n",
      "\n",
      "Like the last class, we perform financial analysis using financial ratios to compare performance across different companies, and try to understand how business strategies are reflected in the financial statements.\n",
      "\n",
      "Overview (5 minutes)\n",
      "\n",
      "Opening question: You are an institutional investor – which way will you vote – with Target or with Ackman?\n",
      "\n",
      "This question will highlight several parts of the next pastures. You can go through a few students, no need for any board work, and then take a vote on where the class is thinking.\n",
      "\n",
      "FYI - Target video in Kaltura (~ 12 minutes long), “Zeroing in on Target.” https://courseware.hbs.edu/video/?v=1_68977jai\n",
      "\n",
      "Pasture 1: Link from Strategy to Financial performance (15 mins)\n",
      "\n",
      "Q: If I took you blindfolded into one of the two stores Target or Walmart, would you be able to tell where you are?\n",
      "\n",
      "Use this question to lay out the differences between the two\n",
      "\n",
      "\n",
      "Source is\n",
      "../accounting_data/Target Teaching Plan 20191002.docx\n",
      "\n",
      "\n",
      "Dollar General Teaching Plan\n",
      "\n",
      "Assignment questions\n",
      "\n",
      "1.      What factors do you think are critical for driving success in the dollar store industry? \n",
      "\n",
      "2.      What is your assessment of Dollar General’s performance over time and relative to its competitors? Use the DuPont decomposition framework to support your assessment. What additional ratios or metrics support your assessment? \n",
      "\n",
      "3.      If you were Rick Dreiling, how do you think an acquisition of Family Dollar adds value to your business?\n",
      "\n",
      "4.      Why do you think the deal failed?\n",
      "\n",
      "Introduction\n",
      "\n",
      "Learning objectives:\n",
      "\n",
      "Students learn to analyze performance of firms in the context of an M&A using the DuPont formula and other ratios.\n",
      "\n",
      "Students understand the role of the board in the context of an acquisition bid. During acquisitions two of a board’s core roles (assessing, approving and overseeing corporate strategy; and selecting the CEO) are especially emphasized.\n",
      "\n",
      "\n",
      "Source is\n",
      "../accounting_data/DG FRC 2017.docx\n",
      "\n",
      "\n",
      "Q: Ambuja reported financial profits of $137 million USD and a True Value of $301 million USD. Which number is more representative of the economic reality of the firm? This question might work well as a poll; the instructor can then cold call students and ask them to support their stance. Create two columns on a side board, one for support of financial profits and one for support of True Value.\n",
      "\n",
      "Students might note the following:\n",
      "\n",
      "The business has only a fiduciary responsibility to shareholders. We should not incentivize investments in social and environmental impact. \n",
      "\n",
      "\n",
      "\n",
      "Financial accounting has evolved over hundreds of years and is trusted; CSR measurement and reporting is too new.\n",
      "\n",
      "This is double-counting. The social and environmental activities that Ambuja engage in allow them to operate in the region. If we look at the ‘license to operate’ and we also count the financial value of the social and environmental activities, are we double-counting or somehow inflating the bottom line?\n",
      "\n",
      "\n",
      "Source is\n",
      "../accounting_data/Measuring True Value at Ambuja Cement Teaching Note (003).docx\n",
      "\n",
      "\n",
      "Souqalmal’s management would like your help to analyze their budgeted income statement and cash flow statement (shown in the Souqalmal template on Canvas). The company builds budgeted statements for two purposes: (1) to plan its next round of capital raise, and (2) to conduct sensitivity analysis on its Key Performance Indicators (KPIs). Potential investors may also be interested in the sensitivity analyses. \n",
      "\n",
      "Analyze the budgeted Income and Cash Flow statement and advise Souqalmal on when it will need to raise capital and how much it needs to raise. How would the following scenarios affect Souqalmal’s financials and financing needs?\n",
      "\n",
      "Discount strategy: Discount increases from 4% to 6%, increasing conversion rates by an additional 5% each year (i.e. 25%, 30%, etc), and renewals to 65%.\n",
      "\n",
      "Price war: Discount to customers increases from 4% to 6%, conversion rates constant at 20% each year.\n",
      "\n",
      "\n",
      "Source is\n",
      "../accounting_data/2021-10-03_Souqalmal TP_TS_GS.docx\n",
      "\n",
      "\n",
      "Strong Performance: The company has performed extremely well. ROA and ROE have been stable and high. ROE dipped in 2010, but it appears to have bounced back in 2011. ROA has remained strong in the prior three years.\n",
      "\n",
      "Several of Einhorn’s concerns relate to the business model. The class will revisit many of these ideas again in that context. It is best to keep this section short and not discuss Einhorn’s critique at this point.\n",
      "\n",
      "Green Mountain’s Performance\n",
      "\n",
      "After a discussion about the market for coffee brewing and GMCR’s business model, the instructor may lead the class to examine GMCR’s performance. The instructor may also choose to provide the alternative DuPont ratios to the class to help in this analysis (see TN Exhibit 2).\n",
      "\n",
      "Q: What is your assessment of GMCR’s performance?\n",
      "\n",
      "In this discussion, it would be useful to urge students to provide specific evidence from the\n",
      "\n",
      "financial statements.\n",
      "\n",
      "Revenues: The company has three revenue sources:\n",
      "\n",
      " \n",
      "\n",
      "\n",
      "Source is\n",
      "../accounting_data/GMCR Teaching Note.pdf\n",
      "\n",
      "\n",
      "A comprehensive analysis provides a picture that accounting or financial analysis alone cannot. Einhorn’s analysis follows the BAV framework in conducting the four steps of strategic analysis, accounting analysis, financial analysis and valuation. It will be useful for students if the instructor summarizes the steps using the schematic below (see TN Figure 1). This allows students to see how a systematic process allows investors to create a coherent and convincing thesis about a firm’s prospects and its valuation.\n",
      "\n",
      "TN Figure 1\n",
      "\n",
      "Strategy Analysis\n",
      "\n",
      "Accounting Analysis\n",
      "\n",
      "Disclosure of attachment rate   \n",
      "\n",
      "\n",
      "\n",
      "Loss of patents\n",
      "\n",
      "Licensee acquisition accounting Potential goodwill write-offs Revenue recognition with MBlock Inventory channel stuffing\n",
      "\n",
      "Addressable market size\n",
      "\n",
      "\n",
      "\n",
      "Brand partnerships\n",
      "\n",
      "\n",
      "\n",
      "Valuation Implications\n",
      "\n",
      "Financial Analysis\n",
      "\n",
      "High P/E & P/B predicated on high profits & high sales growth Strategic challenges imply growth and profits unsustainable\n",
      "\n",
      "\n",
      "\n",
      "Overpaying for licensees\n",
      "\n",
      "\n",
      "Source is\n",
      "../accounting_data/GMCR Teaching Note.pdf\n",
      "\n",
      "\n",
      "In preparation for meeting with an HBS alumnus investor, you have to prepare a financial plan, with projected financial statements. Based on the summarized transactions discussed in the case, what would the balance sheet and income statement for the firm look like? \n",
      "\n",
      "Ask student to quickly go through the worksheet numbers – what are non-cash effects of transactions for year 2?\n",
      "\n",
      "Notes:\n",
      "\n",
      "Assumes that marketing expenses are based on net revenues from vendors, not gross. \n",
      "\n",
      "Brand ambassador paid $100,000 at beginning of year 1 for years 1 and 2, leading to prepaid cost\n",
      "\n",
      "Blue Future Contract could be considered a startup cost, in which event it would be expensed in the U.S. and capitalized under IFRS.\n",
      "\n",
      "Then ask students to present the income statement and balance sheets. Given the time required to go through year 2, consider just getting a student to provide the transactions that affect RE and cash in year 3.\n",
      "\n",
      "\n",
      "Source is\n",
      "../accounting_data/Urban Waters TP.docx\n",
      "\n",
      "\n",
      "TN Exhibit 4 shows financial ratios for two years subsequent to the end of the case. These ratios allow students to assess the performance of the company in comparison to the prior period. Profitability levels improved with NOPAT/Sales going up to 10.79% in 2013 from 9% in 2011. However, asset turnover has declined steeply from 2.5 in 2011 to 1.55 in 2013. This results in a significant decline in Operating ROA from 22.6% in 2011 to 16.8% in 2013. This decline is also reflected in a lower ROE of 19.8% in 2013 down from 28.5% in 2011. Students can reflect on the meaning behind these trends. For instance, the lower asset turnover would be expected because of the high goodwill involved in acquiring the licensees.\n",
      "\n",
      "Takeaways and Wrap-Up\n",
      "\n",
      "I provide the following takeaways and use TN Figure 1 below to wrap up the discussion. The\n",
      "\n",
      "instructor could use the slides in TN Exhibit 6.\n",
      "\n",
      "1. Assess if market valuation is consistent with expected growth and profitability\n",
      "\n",
      "\n",
      "Source is\n",
      "../accounting_data/GMCR Teaching Note.pdf\n",
      "\n",
      "\n"
     ]
    }
   ],
   "source": [
    "for i in range(len(result['source_documents'])):\n",
    "    print (result['source_documents'][i].page_content)\n",
    "    print('\\n')\n",
    "    print('Source is')\n",
    "    print (result['source_documents'][i].metadata['source'])\n",
    "    print('\\n')"
   ]
  },
  {
   "cell_type": "code",
   "execution_count": 29,
   "metadata": {
    "tags": []
   },
   "outputs": [
    {
     "name": "stdout",
     "output_type": "stream",
     "text": [
      " Sure, here are 10 questions that could be generated from the provided context:\n",
      "\n",
      "1. How does the company's M&A deal impact its financial performance, particularly in terms of ROE and return on equity?\n",
      "2. What is the significance of the company's revenue per square foot, and how does it compare to its competitors?\n",
      "3. How does the company's use of adjusted Dupont analysis affect its financial ratios and overall financial performance?\n",
      "4. What is the impact of the company's high levels of debt on its financial ratios and overall financial health?\n",
      "5. How does the company's ratio analysis compare to that of its competitors, and what insights can be gained from this comparison?\n",
      "6. What is the significance of the company's negative net debt ratio, and how does it impact its financial performance?\n",
      "7. How does the company's cash flow situation impact its ability to invest in growth opportunities and meet its financial obligations?\n",
      "8. What is the impact of the company's acquisition of licensees on its financial ratios and overall financial performance?\n",
      "9. How does the company's use of equity and debt financing affect its financial ratios and overall financial health?\n",
      "10. What are the potential implications of the company's high levels of debt and cash flow constraints on its long-term financial prospects?\n"
     ]
    }
   ],
   "source": [
    "# expose the index in a retriever interface\n",
    "retriever = docsearch.as_retriever(search_type=\"similarity\", search_kwargs={\"k\":10})\n",
    "# create a chain to answer questions \n",
    "qa = RetrievalQA.from_chain_type(\n",
    "    llm=llm, chain_type=\"stuff\", retriever=retriever, return_source_documents=True)\n",
    "query = \"\"\"Generate 10 questions from the provided context on these topics: \n",
    "M&A deal, revenues per square foot, revenues/sf, roe, return on equity, dupont, adjusted dupont, ratio analysis.\"\"\"\n",
    "result = qa({\"query\": query})\n",
    "result_text = result['result']\n",
    "print(result_text)"
   ]
  },
  {
   "cell_type": "code",
   "execution_count": 43,
   "metadata": {
    "tags": []
   },
   "outputs": [],
   "source": [
    "import csv\n",
    "\n",
    "def slice_string_to_csv(s, filename):\n",
    "    with open(filename, 'w', newline='') as file:\n",
    "        writer = csv.writer(file)\n",
    "        for line in s.split('\\n'):\n",
    "            # Check if the line starts with a numbered bullet point\n",
    "            if line.strip() and line.split(' ')[0].replace('.', '').isdigit():\n",
    "                writer.writerow([line])"
   ]
  },
  {
   "cell_type": "code",
   "execution_count": 42,
   "metadata": {},
   "outputs": [],
   "source": [
    "filename=\"questions.csv\"\n",
    "slice_string_to_csv(result_text,filename)"
   ]
  }
 ],
 "metadata": {
  "availableInstances": [
   {
    "_defaultOrder": 0,
    "_isFastLaunch": true,
    "category": "General purpose",
    "gpuNum": 0,
    "hideHardwareSpecs": false,
    "memoryGiB": 4,
    "name": "ml.t3.medium",
    "vcpuNum": 2
   },
   {
    "_defaultOrder": 1,
    "_isFastLaunch": false,
    "category": "General purpose",
    "gpuNum": 0,
    "hideHardwareSpecs": false,
    "memoryGiB": 8,
    "name": "ml.t3.large",
    "vcpuNum": 2
   },
   {
    "_defaultOrder": 2,
    "_isFastLaunch": false,
    "category": "General purpose",
    "gpuNum": 0,
    "hideHardwareSpecs": false,
    "memoryGiB": 16,
    "name": "ml.t3.xlarge",
    "vcpuNum": 4
   },
   {
    "_defaultOrder": 3,
    "_isFastLaunch": false,
    "category": "General purpose",
    "gpuNum": 0,
    "hideHardwareSpecs": false,
    "memoryGiB": 32,
    "name": "ml.t3.2xlarge",
    "vcpuNum": 8
   },
   {
    "_defaultOrder": 4,
    "_isFastLaunch": true,
    "category": "General purpose",
    "gpuNum": 0,
    "hideHardwareSpecs": false,
    "memoryGiB": 8,
    "name": "ml.m5.large",
    "vcpuNum": 2
   },
   {
    "_defaultOrder": 5,
    "_isFastLaunch": false,
    "category": "General purpose",
    "gpuNum": 0,
    "hideHardwareSpecs": false,
    "memoryGiB": 16,
    "name": "ml.m5.xlarge",
    "vcpuNum": 4
   },
   {
    "_defaultOrder": 6,
    "_isFastLaunch": false,
    "category": "General purpose",
    "gpuNum": 0,
    "hideHardwareSpecs": false,
    "memoryGiB": 32,
    "name": "ml.m5.2xlarge",
    "vcpuNum": 8
   },
   {
    "_defaultOrder": 7,
    "_isFastLaunch": false,
    "category": "General purpose",
    "gpuNum": 0,
    "hideHardwareSpecs": false,
    "memoryGiB": 64,
    "name": "ml.m5.4xlarge",
    "vcpuNum": 16
   },
   {
    "_defaultOrder": 8,
    "_isFastLaunch": false,
    "category": "General purpose",
    "gpuNum": 0,
    "hideHardwareSpecs": false,
    "memoryGiB": 128,
    "name": "ml.m5.8xlarge",
    "vcpuNum": 32
   },
   {
    "_defaultOrder": 9,
    "_isFastLaunch": false,
    "category": "General purpose",
    "gpuNum": 0,
    "hideHardwareSpecs": false,
    "memoryGiB": 192,
    "name": "ml.m5.12xlarge",
    "vcpuNum": 48
   },
   {
    "_defaultOrder": 10,
    "_isFastLaunch": false,
    "category": "General purpose",
    "gpuNum": 0,
    "hideHardwareSpecs": false,
    "memoryGiB": 256,
    "name": "ml.m5.16xlarge",
    "vcpuNum": 64
   },
   {
    "_defaultOrder": 11,
    "_isFastLaunch": false,
    "category": "General purpose",
    "gpuNum": 0,
    "hideHardwareSpecs": false,
    "memoryGiB": 384,
    "name": "ml.m5.24xlarge",
    "vcpuNum": 96
   },
   {
    "_defaultOrder": 12,
    "_isFastLaunch": false,
    "category": "General purpose",
    "gpuNum": 0,
    "hideHardwareSpecs": false,
    "memoryGiB": 8,
    "name": "ml.m5d.large",
    "vcpuNum": 2
   },
   {
    "_defaultOrder": 13,
    "_isFastLaunch": false,
    "category": "General purpose",
    "gpuNum": 0,
    "hideHardwareSpecs": false,
    "memoryGiB": 16,
    "name": "ml.m5d.xlarge",
    "vcpuNum": 4
   },
   {
    "_defaultOrder": 14,
    "_isFastLaunch": false,
    "category": "General purpose",
    "gpuNum": 0,
    "hideHardwareSpecs": false,
    "memoryGiB": 32,
    "name": "ml.m5d.2xlarge",
    "vcpuNum": 8
   },
   {
    "_defaultOrder": 15,
    "_isFastLaunch": false,
    "category": "General purpose",
    "gpuNum": 0,
    "hideHardwareSpecs": false,
    "memoryGiB": 64,
    "name": "ml.m5d.4xlarge",
    "vcpuNum": 16
   },
   {
    "_defaultOrder": 16,
    "_isFastLaunch": false,
    "category": "General purpose",
    "gpuNum": 0,
    "hideHardwareSpecs": false,
    "memoryGiB": 128,
    "name": "ml.m5d.8xlarge",
    "vcpuNum": 32
   },
   {
    "_defaultOrder": 17,
    "_isFastLaunch": false,
    "category": "General purpose",
    "gpuNum": 0,
    "hideHardwareSpecs": false,
    "memoryGiB": 192,
    "name": "ml.m5d.12xlarge",
    "vcpuNum": 48
   },
   {
    "_defaultOrder": 18,
    "_isFastLaunch": false,
    "category": "General purpose",
    "gpuNum": 0,
    "hideHardwareSpecs": false,
    "memoryGiB": 256,
    "name": "ml.m5d.16xlarge",
    "vcpuNum": 64
   },
   {
    "_defaultOrder": 19,
    "_isFastLaunch": false,
    "category": "General purpose",
    "gpuNum": 0,
    "hideHardwareSpecs": false,
    "memoryGiB": 384,
    "name": "ml.m5d.24xlarge",
    "vcpuNum": 96
   },
   {
    "_defaultOrder": 20,
    "_isFastLaunch": false,
    "category": "General purpose",
    "gpuNum": 0,
    "hideHardwareSpecs": true,
    "memoryGiB": 0,
    "name": "ml.geospatial.interactive",
    "supportedImageNames": [
     "sagemaker-geospatial-v1-0"
    ],
    "vcpuNum": 0
   },
   {
    "_defaultOrder": 21,
    "_isFastLaunch": true,
    "category": "Compute optimized",
    "gpuNum": 0,
    "hideHardwareSpecs": false,
    "memoryGiB": 4,
    "name": "ml.c5.large",
    "vcpuNum": 2
   },
   {
    "_defaultOrder": 22,
    "_isFastLaunch": false,
    "category": "Compute optimized",
    "gpuNum": 0,
    "hideHardwareSpecs": false,
    "memoryGiB": 8,
    "name": "ml.c5.xlarge",
    "vcpuNum": 4
   },
   {
    "_defaultOrder": 23,
    "_isFastLaunch": false,
    "category": "Compute optimized",
    "gpuNum": 0,
    "hideHardwareSpecs": false,
    "memoryGiB": 16,
    "name": "ml.c5.2xlarge",
    "vcpuNum": 8
   },
   {
    "_defaultOrder": 24,
    "_isFastLaunch": false,
    "category": "Compute optimized",
    "gpuNum": 0,
    "hideHardwareSpecs": false,
    "memoryGiB": 32,
    "name": "ml.c5.4xlarge",
    "vcpuNum": 16
   },
   {
    "_defaultOrder": 25,
    "_isFastLaunch": false,
    "category": "Compute optimized",
    "gpuNum": 0,
    "hideHardwareSpecs": false,
    "memoryGiB": 72,
    "name": "ml.c5.9xlarge",
    "vcpuNum": 36
   },
   {
    "_defaultOrder": 26,
    "_isFastLaunch": false,
    "category": "Compute optimized",
    "gpuNum": 0,
    "hideHardwareSpecs": false,
    "memoryGiB": 96,
    "name": "ml.c5.12xlarge",
    "vcpuNum": 48
   },
   {
    "_defaultOrder": 27,
    "_isFastLaunch": false,
    "category": "Compute optimized",
    "gpuNum": 0,
    "hideHardwareSpecs": false,
    "memoryGiB": 144,
    "name": "ml.c5.18xlarge",
    "vcpuNum": 72
   },
   {
    "_defaultOrder": 28,
    "_isFastLaunch": false,
    "category": "Compute optimized",
    "gpuNum": 0,
    "hideHardwareSpecs": false,
    "memoryGiB": 192,
    "name": "ml.c5.24xlarge",
    "vcpuNum": 96
   },
   {
    "_defaultOrder": 29,
    "_isFastLaunch": true,
    "category": "Accelerated computing",
    "gpuNum": 1,
    "hideHardwareSpecs": false,
    "memoryGiB": 16,
    "name": "ml.g4dn.xlarge",
    "vcpuNum": 4
   },
   {
    "_defaultOrder": 30,
    "_isFastLaunch": false,
    "category": "Accelerated computing",
    "gpuNum": 1,
    "hideHardwareSpecs": false,
    "memoryGiB": 32,
    "name": "ml.g4dn.2xlarge",
    "vcpuNum": 8
   },
   {
    "_defaultOrder": 31,
    "_isFastLaunch": false,
    "category": "Accelerated computing",
    "gpuNum": 1,
    "hideHardwareSpecs": false,
    "memoryGiB": 64,
    "name": "ml.g4dn.4xlarge",
    "vcpuNum": 16
   },
   {
    "_defaultOrder": 32,
    "_isFastLaunch": false,
    "category": "Accelerated computing",
    "gpuNum": 1,
    "hideHardwareSpecs": false,
    "memoryGiB": 128,
    "name": "ml.g4dn.8xlarge",
    "vcpuNum": 32
   },
   {
    "_defaultOrder": 33,
    "_isFastLaunch": false,
    "category": "Accelerated computing",
    "gpuNum": 4,
    "hideHardwareSpecs": false,
    "memoryGiB": 192,
    "name": "ml.g4dn.12xlarge",
    "vcpuNum": 48
   },
   {
    "_defaultOrder": 34,
    "_isFastLaunch": false,
    "category": "Accelerated computing",
    "gpuNum": 1,
    "hideHardwareSpecs": false,
    "memoryGiB": 256,
    "name": "ml.g4dn.16xlarge",
    "vcpuNum": 64
   },
   {
    "_defaultOrder": 35,
    "_isFastLaunch": false,
    "category": "Accelerated computing",
    "gpuNum": 1,
    "hideHardwareSpecs": false,
    "memoryGiB": 61,
    "name": "ml.p3.2xlarge",
    "vcpuNum": 8
   },
   {
    "_defaultOrder": 36,
    "_isFastLaunch": false,
    "category": "Accelerated computing",
    "gpuNum": 4,
    "hideHardwareSpecs": false,
    "memoryGiB": 244,
    "name": "ml.p3.8xlarge",
    "vcpuNum": 32
   },
   {
    "_defaultOrder": 37,
    "_isFastLaunch": false,
    "category": "Accelerated computing",
    "gpuNum": 8,
    "hideHardwareSpecs": false,
    "memoryGiB": 488,
    "name": "ml.p3.16xlarge",
    "vcpuNum": 64
   },
   {
    "_defaultOrder": 38,
    "_isFastLaunch": false,
    "category": "Accelerated computing",
    "gpuNum": 8,
    "hideHardwareSpecs": false,
    "memoryGiB": 768,
    "name": "ml.p3dn.24xlarge",
    "vcpuNum": 96
   },
   {
    "_defaultOrder": 39,
    "_isFastLaunch": false,
    "category": "Memory Optimized",
    "gpuNum": 0,
    "hideHardwareSpecs": false,
    "memoryGiB": 16,
    "name": "ml.r5.large",
    "vcpuNum": 2
   },
   {
    "_defaultOrder": 40,
    "_isFastLaunch": false,
    "category": "Memory Optimized",
    "gpuNum": 0,
    "hideHardwareSpecs": false,
    "memoryGiB": 32,
    "name": "ml.r5.xlarge",
    "vcpuNum": 4
   },
   {
    "_defaultOrder": 41,
    "_isFastLaunch": false,
    "category": "Memory Optimized",
    "gpuNum": 0,
    "hideHardwareSpecs": false,
    "memoryGiB": 64,
    "name": "ml.r5.2xlarge",
    "vcpuNum": 8
   },
   {
    "_defaultOrder": 42,
    "_isFastLaunch": false,
    "category": "Memory Optimized",
    "gpuNum": 0,
    "hideHardwareSpecs": false,
    "memoryGiB": 128,
    "name": "ml.r5.4xlarge",
    "vcpuNum": 16
   },
   {
    "_defaultOrder": 43,
    "_isFastLaunch": false,
    "category": "Memory Optimized",
    "gpuNum": 0,
    "hideHardwareSpecs": false,
    "memoryGiB": 256,
    "name": "ml.r5.8xlarge",
    "vcpuNum": 32
   },
   {
    "_defaultOrder": 44,
    "_isFastLaunch": false,
    "category": "Memory Optimized",
    "gpuNum": 0,
    "hideHardwareSpecs": false,
    "memoryGiB": 384,
    "name": "ml.r5.12xlarge",
    "vcpuNum": 48
   },
   {
    "_defaultOrder": 45,
    "_isFastLaunch": false,
    "category": "Memory Optimized",
    "gpuNum": 0,
    "hideHardwareSpecs": false,
    "memoryGiB": 512,
    "name": "ml.r5.16xlarge",
    "vcpuNum": 64
   },
   {
    "_defaultOrder": 46,
    "_isFastLaunch": false,
    "category": "Memory Optimized",
    "gpuNum": 0,
    "hideHardwareSpecs": false,
    "memoryGiB": 768,
    "name": "ml.r5.24xlarge",
    "vcpuNum": 96
   },
   {
    "_defaultOrder": 47,
    "_isFastLaunch": false,
    "category": "Accelerated computing",
    "gpuNum": 1,
    "hideHardwareSpecs": false,
    "memoryGiB": 16,
    "name": "ml.g5.xlarge",
    "vcpuNum": 4
   },
   {
    "_defaultOrder": 48,
    "_isFastLaunch": false,
    "category": "Accelerated computing",
    "gpuNum": 1,
    "hideHardwareSpecs": false,
    "memoryGiB": 32,
    "name": "ml.g5.2xlarge",
    "vcpuNum": 8
   },
   {
    "_defaultOrder": 49,
    "_isFastLaunch": false,
    "category": "Accelerated computing",
    "gpuNum": 1,
    "hideHardwareSpecs": false,
    "memoryGiB": 64,
    "name": "ml.g5.4xlarge",
    "vcpuNum": 16
   },
   {
    "_defaultOrder": 50,
    "_isFastLaunch": false,
    "category": "Accelerated computing",
    "gpuNum": 1,
    "hideHardwareSpecs": false,
    "memoryGiB": 128,
    "name": "ml.g5.8xlarge",
    "vcpuNum": 32
   },
   {
    "_defaultOrder": 51,
    "_isFastLaunch": false,
    "category": "Accelerated computing",
    "gpuNum": 1,
    "hideHardwareSpecs": false,
    "memoryGiB": 256,
    "name": "ml.g5.16xlarge",
    "vcpuNum": 64
   },
   {
    "_defaultOrder": 52,
    "_isFastLaunch": false,
    "category": "Accelerated computing",
    "gpuNum": 4,
    "hideHardwareSpecs": false,
    "memoryGiB": 192,
    "name": "ml.g5.12xlarge",
    "vcpuNum": 48
   },
   {
    "_defaultOrder": 53,
    "_isFastLaunch": false,
    "category": "Accelerated computing",
    "gpuNum": 4,
    "hideHardwareSpecs": false,
    "memoryGiB": 384,
    "name": "ml.g5.24xlarge",
    "vcpuNum": 96
   },
   {
    "_defaultOrder": 54,
    "_isFastLaunch": false,
    "category": "Accelerated computing",
    "gpuNum": 8,
    "hideHardwareSpecs": false,
    "memoryGiB": 768,
    "name": "ml.g5.48xlarge",
    "vcpuNum": 192
   },
   {
    "_defaultOrder": 55,
    "_isFastLaunch": false,
    "category": "Accelerated computing",
    "gpuNum": 8,
    "hideHardwareSpecs": false,
    "memoryGiB": 1152,
    "name": "ml.p4d.24xlarge",
    "vcpuNum": 96
   },
   {
    "_defaultOrder": 56,
    "_isFastLaunch": false,
    "category": "Accelerated computing",
    "gpuNum": 8,
    "hideHardwareSpecs": false,
    "memoryGiB": 1152,
    "name": "ml.p4de.24xlarge",
    "vcpuNum": 96
   }
  ],
  "instance_type": "ml.t3.medium",
  "kernelspec": {
   "display_name": "Python 3 (Data Science 2.0)",
   "language": "python",
   "name": "python3__SAGEMAKER_INTERNAL__arn:aws:sagemaker:us-east-1:081325390199:image/sagemaker-data-science-38"
  },
  "language_info": {
   "codemirror_mode": {
    "name": "ipython",
    "version": 3
   },
   "file_extension": ".py",
   "mimetype": "text/x-python",
   "name": "python",
   "nbconvert_exporter": "python",
   "pygments_lexer": "ipython3",
   "version": "3.8.13"
  }
 },
 "nbformat": 4,
 "nbformat_minor": 4
}
