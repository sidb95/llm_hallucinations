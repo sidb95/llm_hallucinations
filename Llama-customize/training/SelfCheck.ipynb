{
 "cells": [
  {
   "cell_type": "code",
   "execution_count": 3,
   "id": "301239ca-10df-4c1a-88ce-240125bbd24d",
   "metadata": {},
   "outputs": [
    {
     "name": "stdout",
     "output_type": "stream",
     "text": [
      "Collecting selfcheckgpt\n",
      "  Using cached selfcheckgpt-0.1.4-py3-none-any.whl\n",
      "Collecting datasets\n",
      "  Using cached datasets-2.16.1-py3-none-any.whl (507 kB)\n",
      "Collecting sentencepiece\n",
      "  Using cached sentencepiece-0.1.99-cp310-cp310-manylinux_2_17_x86_64.manylinux2014_x86_64.whl (1.3 MB)\n",
      "Collecting transformers>=4.11.3 (from selfcheckgpt)\n",
      "  Using cached transformers-4.36.2-py3-none-any.whl (8.2 MB)\n",
      "Requirement already satisfied: torch>=1.10 in /opt/conda/lib/python3.10/site-packages (from selfcheckgpt) (2.0.0)\n",
      "Requirement already satisfied: numpy in /opt/conda/lib/python3.10/site-packages (from selfcheckgpt) (1.23.5)\n",
      "Collecting bert-score (from selfcheckgpt)\n",
      "  Using cached bert_score-0.3.13-py3-none-any.whl (61 kB)\n",
      "Requirement already satisfied: spacy in /opt/conda/lib/python3.10/site-packages (from selfcheckgpt) (3.5.2)\n",
      "Collecting nltk (from selfcheckgpt)\n",
      "  Using cached nltk-3.8.1-py3-none-any.whl (1.5 MB)\n",
      "Requirement already satisfied: filelock in /opt/conda/lib/python3.10/site-packages (from datasets) (3.12.0)\n",
      "Requirement already satisfied: pyarrow>=8.0.0 in /opt/conda/lib/python3.10/site-packages (from datasets) (12.0.0)\n",
      "Collecting pyarrow-hotfix (from datasets)\n",
      "  Using cached pyarrow_hotfix-0.6-py3-none-any.whl (7.9 kB)\n",
      "Requirement already satisfied: dill<0.3.8,>=0.3.0 in /opt/conda/lib/python3.10/site-packages (from datasets) (0.3.6)\n",
      "Requirement already satisfied: pandas in /opt/conda/lib/python3.10/site-packages (from datasets) (2.0.1)\n",
      "Requirement already satisfied: requests>=2.19.0 in /opt/conda/lib/python3.10/site-packages (from datasets) (2.28.2)\n",
      "Requirement already satisfied: tqdm>=4.62.1 in /opt/conda/lib/python3.10/site-packages (from datasets) (4.65.0)\n",
      "Collecting xxhash (from datasets)\n",
      "  Using cached xxhash-3.4.1-cp310-cp310-manylinux_2_17_x86_64.manylinux2014_x86_64.whl (194 kB)\n",
      "Requirement already satisfied: multiprocess in /opt/conda/lib/python3.10/site-packages (from datasets) (0.70.14)\n",
      "Requirement already satisfied: fsspec[http]<=2023.10.0,>=2023.1.0 in /opt/conda/lib/python3.10/site-packages (from datasets) (2023.5.0)\n",
      "Collecting aiohttp (from datasets)\n",
      "  Using cached aiohttp-3.9.1-cp310-cp310-manylinux_2_17_x86_64.manylinux2014_x86_64.whl (1.2 MB)\n",
      "Collecting huggingface-hub>=0.19.4 (from datasets)\n",
      "  Using cached huggingface_hub-0.20.1-py3-none-any.whl (330 kB)\n",
      "Requirement already satisfied: packaging in /opt/conda/lib/python3.10/site-packages (from datasets) (23.1)\n",
      "Requirement already satisfied: pyyaml>=5.1 in /opt/conda/lib/python3.10/site-packages (from datasets) (5.4.1)\n",
      "Requirement already satisfied: attrs>=17.3.0 in /opt/conda/lib/python3.10/site-packages (from aiohttp->datasets) (22.2.0)\n",
      "Collecting multidict<7.0,>=4.5 (from aiohttp->datasets)\n",
      "  Using cached multidict-6.0.4-cp310-cp310-manylinux_2_17_x86_64.manylinux2014_x86_64.whl (114 kB)\n",
      "Collecting yarl<2.0,>=1.0 (from aiohttp->datasets)\n",
      "  Using cached yarl-1.9.4-cp310-cp310-manylinux_2_17_x86_64.manylinux2014_x86_64.whl (301 kB)\n",
      "Collecting frozenlist>=1.1.1 (from aiohttp->datasets)\n",
      "  Using cached frozenlist-1.4.1-cp310-cp310-manylinux_2_5_x86_64.manylinux1_x86_64.manylinux_2_17_x86_64.manylinux2014_x86_64.whl (239 kB)\n",
      "Collecting aiosignal>=1.1.2 (from aiohttp->datasets)\n",
      "  Using cached aiosignal-1.3.1-py3-none-any.whl (7.6 kB)\n",
      "Collecting async-timeout<5.0,>=4.0 (from aiohttp->datasets)\n",
      "  Using cached async_timeout-4.0.3-py3-none-any.whl (5.7 kB)\n",
      "Requirement already satisfied: typing-extensions>=3.7.4.3 in /opt/conda/lib/python3.10/site-packages (from huggingface-hub>=0.19.4->datasets) (4.5.0)\n",
      "Requirement already satisfied: charset-normalizer<4,>=2 in /opt/conda/lib/python3.10/site-packages (from requests>=2.19.0->datasets) (3.1.0)\n",
      "Requirement already satisfied: idna<4,>=2.5 in /opt/conda/lib/python3.10/site-packages (from requests>=2.19.0->datasets) (3.4)\n",
      "Requirement already satisfied: urllib3<1.27,>=1.21.1 in /opt/conda/lib/python3.10/site-packages (from requests>=2.19.0->datasets) (1.26.15)\n",
      "Requirement already satisfied: certifi>=2017.4.17 in /opt/conda/lib/python3.10/site-packages (from requests>=2.19.0->datasets) (2023.5.7)\n",
      "Requirement already satisfied: sympy in /opt/conda/lib/python3.10/site-packages (from torch>=1.10->selfcheckgpt) (1.11.1)\n",
      "Requirement already satisfied: networkx in /opt/conda/lib/python3.10/site-packages (from torch>=1.10->selfcheckgpt) (3.1)\n",
      "Requirement already satisfied: jinja2 in /opt/conda/lib/python3.10/site-packages (from torch>=1.10->selfcheckgpt) (3.1.2)\n",
      "Collecting regex!=2019.12.17 (from transformers>=4.11.3->selfcheckgpt)\n",
      "  Using cached regex-2023.12.25-cp310-cp310-manylinux_2_17_x86_64.manylinux2014_x86_64.whl (773 kB)\n",
      "Collecting tokenizers<0.19,>=0.14 (from transformers>=4.11.3->selfcheckgpt)\n",
      "  Using cached tokenizers-0.15.0-cp310-cp310-manylinux_2_17_x86_64.manylinux2014_x86_64.whl (3.8 MB)\n",
      "Collecting safetensors>=0.3.1 (from transformers>=4.11.3->selfcheckgpt)\n",
      "  Using cached safetensors-0.4.1-cp310-cp310-manylinux_2_17_x86_64.manylinux2014_x86_64.whl (1.3 MB)\n",
      "Requirement already satisfied: matplotlib in /opt/conda/lib/python3.10/site-packages (from bert-score->selfcheckgpt) (3.7.1)\n",
      "Requirement already satisfied: python-dateutil>=2.8.2 in /opt/conda/lib/python3.10/site-packages (from pandas->datasets) (2.8.2)\n",
      "Requirement already satisfied: pytz>=2020.1 in /opt/conda/lib/python3.10/site-packages (from pandas->datasets) (2023.3)\n",
      "Requirement already satisfied: tzdata>=2022.1 in /opt/conda/lib/python3.10/site-packages (from pandas->datasets) (2023.3)\n",
      "Requirement already satisfied: click in /opt/conda/lib/python3.10/site-packages (from nltk->selfcheckgpt) (8.1.3)\n",
      "Requirement already satisfied: joblib in /opt/conda/lib/python3.10/site-packages (from nltk->selfcheckgpt) (1.2.0)\n",
      "Requirement already satisfied: spacy-legacy<3.1.0,>=3.0.11 in /opt/conda/lib/python3.10/site-packages (from spacy->selfcheckgpt) (3.0.12)\n",
      "Requirement already satisfied: spacy-loggers<2.0.0,>=1.0.0 in /opt/conda/lib/python3.10/site-packages (from spacy->selfcheckgpt) (1.0.4)\n",
      "Requirement already satisfied: murmurhash<1.1.0,>=0.28.0 in /opt/conda/lib/python3.10/site-packages (from spacy->selfcheckgpt) (1.0.9)\n",
      "Requirement already satisfied: cymem<2.1.0,>=2.0.2 in /opt/conda/lib/python3.10/site-packages (from spacy->selfcheckgpt) (2.0.7)\n",
      "Requirement already satisfied: preshed<3.1.0,>=3.0.2 in /opt/conda/lib/python3.10/site-packages (from spacy->selfcheckgpt) (3.0.8)\n",
      "Requirement already satisfied: thinc<8.2.0,>=8.1.8 in /opt/conda/lib/python3.10/site-packages (from spacy->selfcheckgpt) (8.1.10)\n",
      "Requirement already satisfied: wasabi<1.2.0,>=0.9.1 in /opt/conda/lib/python3.10/site-packages (from spacy->selfcheckgpt) (1.1.1)\n",
      "Requirement already satisfied: srsly<3.0.0,>=2.4.3 in /opt/conda/lib/python3.10/site-packages (from spacy->selfcheckgpt) (2.4.6)\n",
      "Requirement already satisfied: catalogue<2.1.0,>=2.0.6 in /opt/conda/lib/python3.10/site-packages (from spacy->selfcheckgpt) (2.0.8)\n",
      "Requirement already satisfied: typer<0.8.0,>=0.3.0 in /opt/conda/lib/python3.10/site-packages (from spacy->selfcheckgpt) (0.7.0)\n",
      "Requirement already satisfied: pathy>=0.10.0 in /opt/conda/lib/python3.10/site-packages (from spacy->selfcheckgpt) (0.10.1)\n",
      "Requirement already satisfied: smart-open<7.0.0,>=5.2.1 in /opt/conda/lib/python3.10/site-packages (from spacy->selfcheckgpt) (5.2.1)\n",
      "Requirement already satisfied: pydantic!=1.8,!=1.8.1,<1.11.0,>=1.7.4 in /opt/conda/lib/python3.10/site-packages (from spacy->selfcheckgpt) (1.10.7)\n",
      "Requirement already satisfied: setuptools in /opt/conda/lib/python3.10/site-packages (from spacy->selfcheckgpt) (65.6.3)\n",
      "Requirement already satisfied: langcodes<4.0.0,>=3.2.0 in /opt/conda/lib/python3.10/site-packages (from spacy->selfcheckgpt) (3.3.0)\n",
      "Requirement already satisfied: six>=1.5 in /opt/conda/lib/python3.10/site-packages (from python-dateutil>=2.8.2->pandas->datasets) (1.16.0)\n",
      "Requirement already satisfied: blis<0.8.0,>=0.7.8 in /opt/conda/lib/python3.10/site-packages (from thinc<8.2.0,>=8.1.8->spacy->selfcheckgpt) (0.7.9)\n",
      "Requirement already satisfied: confection<1.0.0,>=0.0.1 in /opt/conda/lib/python3.10/site-packages (from thinc<8.2.0,>=8.1.8->spacy->selfcheckgpt) (0.0.4)\n",
      "Requirement already satisfied: MarkupSafe>=2.0 in /opt/conda/lib/python3.10/site-packages (from jinja2->torch>=1.10->selfcheckgpt) (2.1.2)\n",
      "Requirement already satisfied: contourpy>=1.0.1 in /opt/conda/lib/python3.10/site-packages (from matplotlib->bert-score->selfcheckgpt) (1.0.7)\n",
      "Requirement already satisfied: cycler>=0.10 in /opt/conda/lib/python3.10/site-packages (from matplotlib->bert-score->selfcheckgpt) (0.11.0)\n",
      "Requirement already satisfied: fonttools>=4.22.0 in /opt/conda/lib/python3.10/site-packages (from matplotlib->bert-score->selfcheckgpt) (4.39.4)\n",
      "Requirement already satisfied: kiwisolver>=1.0.1 in /opt/conda/lib/python3.10/site-packages (from matplotlib->bert-score->selfcheckgpt) (1.4.4)\n",
      "Requirement already satisfied: pillow>=6.2.0 in /opt/conda/lib/python3.10/site-packages (from matplotlib->bert-score->selfcheckgpt) (9.4.0)\n",
      "Requirement already satisfied: pyparsing>=2.3.1 in /opt/conda/lib/python3.10/site-packages (from matplotlib->bert-score->selfcheckgpt) (3.0.9)\n",
      "Requirement already satisfied: mpmath>=0.19 in /opt/conda/lib/python3.10/site-packages (from sympy->torch>=1.10->selfcheckgpt) (1.3.0)\n",
      "Installing collected packages: sentencepiece, xxhash, safetensors, regex, pyarrow-hotfix, multidict, frozenlist, async-timeout, yarl, nltk, huggingface-hub, aiosignal, tokenizers, aiohttp, transformers, datasets, bert-score, selfcheckgpt\n",
      "Successfully installed aiohttp-3.9.1 aiosignal-1.3.1 async-timeout-4.0.3 bert-score-0.3.13 datasets-2.16.1 frozenlist-1.4.1 huggingface-hub-0.20.1 multidict-6.0.4 nltk-3.8.1 pyarrow-hotfix-0.6 regex-2023.12.25 safetensors-0.4.1 selfcheckgpt-0.1.4 sentencepiece-0.1.99 tokenizers-0.15.0 transformers-4.36.2 xxhash-3.4.1 yarl-1.9.4\n",
      "\u001b[33mWARNING: Running pip as the 'root' user can result in broken permissions and conflicting behaviour with the system package manager. It is recommended to use a virtual environment instead: https://pip.pypa.io/warnings/venv\u001b[0m\u001b[33m\n",
      "\u001b[0m\u001b[33mWARNING: There was an error checking the latest version of pip.\u001b[0m\u001b[33m\n",
      "\u001b[0m"
     ]
    }
   ],
   "source": [
    "!pip install selfcheckgpt datasets sentencepiece"
   ]
  },
  {
   "cell_type": "markdown",
   "id": "7630c106-625e-4d70-8b3d-6f8c5632a5ce",
   "metadata": {},
   "source": [
    "## Based on official SelfCheckGPT documentation"
   ]
  },
  {
   "cell_type": "code",
   "execution_count": 4,
   "id": "bc96c4b7-6f5b-463d-a9ab-8c939ffb8c14",
   "metadata": {
    "tags": []
   },
   "outputs": [
    {
     "name": "stderr",
     "output_type": "stream",
     "text": [
      "/opt/conda/lib/python3.10/site-packages/tqdm/auto.py:21: TqdmWarning: IProgress not found. Please update jupyter and ipywidgets. See https://ipywidgets.readthedocs.io/en/stable/user_install.html\n",
      "  from .autonotebook import tqdm as notebook_tqdm\n"
     ]
    }
   ],
   "source": [
    "import torch\n",
    "import spacy\n",
    "\n",
    "from datasets import load_dataset\n",
    "from sklearn.metrics import precision_recall_curve, auc\n",
    "\n",
    "from selfcheckgpt.modeling_selfcheck import SelfCheckBERTScore, SelfCheckNgram, SelfCheckNLI"
   ]
  },
  {
   "cell_type": "code",
   "execution_count": 5,
   "id": "d5a8e15e-fb97-459b-a649-fd807b8613b5",
   "metadata": {
    "tags": []
   },
   "outputs": [
    {
     "name": "stdout",
     "output_type": "stream",
     "text": [
      "Requirement already satisfied: spacy in /opt/conda/lib/python3.10/site-packages (3.5.2)\n",
      "Requirement already satisfied: spacy-legacy<3.1.0,>=3.0.11 in /opt/conda/lib/python3.10/site-packages (from spacy) (3.0.12)\n",
      "Requirement already satisfied: spacy-loggers<2.0.0,>=1.0.0 in /opt/conda/lib/python3.10/site-packages (from spacy) (1.0.4)\n",
      "Requirement already satisfied: murmurhash<1.1.0,>=0.28.0 in /opt/conda/lib/python3.10/site-packages (from spacy) (1.0.9)\n",
      "Requirement already satisfied: cymem<2.1.0,>=2.0.2 in /opt/conda/lib/python3.10/site-packages (from spacy) (2.0.7)\n",
      "Requirement already satisfied: preshed<3.1.0,>=3.0.2 in /opt/conda/lib/python3.10/site-packages (from spacy) (3.0.8)\n",
      "Requirement already satisfied: thinc<8.2.0,>=8.1.8 in /opt/conda/lib/python3.10/site-packages (from spacy) (8.1.10)\n",
      "Requirement already satisfied: wasabi<1.2.0,>=0.9.1 in /opt/conda/lib/python3.10/site-packages (from spacy) (1.1.1)\n",
      "Requirement already satisfied: srsly<3.0.0,>=2.4.3 in /opt/conda/lib/python3.10/site-packages (from spacy) (2.4.6)\n",
      "Requirement already satisfied: catalogue<2.1.0,>=2.0.6 in /opt/conda/lib/python3.10/site-packages (from spacy) (2.0.8)\n",
      "Requirement already satisfied: typer<0.8.0,>=0.3.0 in /opt/conda/lib/python3.10/site-packages (from spacy) (0.7.0)\n",
      "Requirement already satisfied: pathy>=0.10.0 in /opt/conda/lib/python3.10/site-packages (from spacy) (0.10.1)\n",
      "Requirement already satisfied: smart-open<7.0.0,>=5.2.1 in /opt/conda/lib/python3.10/site-packages (from spacy) (5.2.1)\n",
      "Requirement already satisfied: tqdm<5.0.0,>=4.38.0 in /opt/conda/lib/python3.10/site-packages (from spacy) (4.65.0)\n",
      "Requirement already satisfied: numpy>=1.15.0 in /opt/conda/lib/python3.10/site-packages (from spacy) (1.23.5)\n",
      "Requirement already satisfied: requests<3.0.0,>=2.13.0 in /opt/conda/lib/python3.10/site-packages (from spacy) (2.28.2)\n",
      "Requirement already satisfied: pydantic!=1.8,!=1.8.1,<1.11.0,>=1.7.4 in /opt/conda/lib/python3.10/site-packages (from spacy) (1.10.7)\n",
      "Requirement already satisfied: jinja2 in /opt/conda/lib/python3.10/site-packages (from spacy) (3.1.2)\n",
      "Requirement already satisfied: setuptools in /opt/conda/lib/python3.10/site-packages (from spacy) (65.6.3)\n",
      "Requirement already satisfied: packaging>=20.0 in /opt/conda/lib/python3.10/site-packages (from spacy) (23.1)\n",
      "Requirement already satisfied: langcodes<4.0.0,>=3.2.0 in /opt/conda/lib/python3.10/site-packages (from spacy) (3.3.0)\n",
      "Requirement already satisfied: typing-extensions>=4.2.0 in /opt/conda/lib/python3.10/site-packages (from pydantic!=1.8,!=1.8.1,<1.11.0,>=1.7.4->spacy) (4.5.0)\n",
      "Requirement already satisfied: charset-normalizer<4,>=2 in /opt/conda/lib/python3.10/site-packages (from requests<3.0.0,>=2.13.0->spacy) (3.1.0)\n",
      "Requirement already satisfied: idna<4,>=2.5 in /opt/conda/lib/python3.10/site-packages (from requests<3.0.0,>=2.13.0->spacy) (3.4)\n",
      "Requirement already satisfied: urllib3<1.27,>=1.21.1 in /opt/conda/lib/python3.10/site-packages (from requests<3.0.0,>=2.13.0->spacy) (1.26.15)\n",
      "Requirement already satisfied: certifi>=2017.4.17 in /opt/conda/lib/python3.10/site-packages (from requests<3.0.0,>=2.13.0->spacy) (2023.5.7)\n",
      "Requirement already satisfied: blis<0.8.0,>=0.7.8 in /opt/conda/lib/python3.10/site-packages (from thinc<8.2.0,>=8.1.8->spacy) (0.7.9)\n",
      "Requirement already satisfied: confection<1.0.0,>=0.0.1 in /opt/conda/lib/python3.10/site-packages (from thinc<8.2.0,>=8.1.8->spacy) (0.0.4)\n",
      "Requirement already satisfied: click<9.0.0,>=7.1.1 in /opt/conda/lib/python3.10/site-packages (from typer<0.8.0,>=0.3.0->spacy) (8.1.3)\n",
      "Requirement already satisfied: MarkupSafe>=2.0 in /opt/conda/lib/python3.10/site-packages (from jinja2->spacy) (2.1.2)\n",
      "\u001b[33mWARNING: Running pip as the 'root' user can result in broken permissions and conflicting behaviour with the system package manager. It is recommended to use a virtual environment instead: https://pip.pypa.io/warnings/venv\u001b[0m\u001b[33m\n",
      "\u001b[0m\u001b[33mWARNING: There was an error checking the latest version of pip.\u001b[0m\u001b[33m\n",
      "\u001b[0mCollecting en-core-web-sm==3.5.0\n",
      "  Downloading https://github.com/explosion/spacy-models/releases/download/en_core_web_sm-3.5.0/en_core_web_sm-3.5.0-py3-none-any.whl (12.8 MB)\n",
      "\u001b[2K     \u001b[90m━━━━━━━━━━━━━━━━━━━━━━━━━━━━━━━━━━━━━━━━\u001b[0m \u001b[32m12.8/12.8 MB\u001b[0m \u001b[31m40.5 MB/s\u001b[0m eta \u001b[36m0:00:00\u001b[0m00:01\u001b[0m00:01\u001b[0m\n",
      "\u001b[?25hRequirement already satisfied: spacy<3.6.0,>=3.5.0 in /opt/conda/lib/python3.10/site-packages (from en-core-web-sm==3.5.0) (3.5.2)\n",
      "Requirement already satisfied: spacy-legacy<3.1.0,>=3.0.11 in /opt/conda/lib/python3.10/site-packages (from spacy<3.6.0,>=3.5.0->en-core-web-sm==3.5.0) (3.0.12)\n",
      "Requirement already satisfied: spacy-loggers<2.0.0,>=1.0.0 in /opt/conda/lib/python3.10/site-packages (from spacy<3.6.0,>=3.5.0->en-core-web-sm==3.5.0) (1.0.4)\n",
      "Requirement already satisfied: murmurhash<1.1.0,>=0.28.0 in /opt/conda/lib/python3.10/site-packages (from spacy<3.6.0,>=3.5.0->en-core-web-sm==3.5.0) (1.0.9)\n",
      "Requirement already satisfied: cymem<2.1.0,>=2.0.2 in /opt/conda/lib/python3.10/site-packages (from spacy<3.6.0,>=3.5.0->en-core-web-sm==3.5.0) (2.0.7)\n",
      "Requirement already satisfied: preshed<3.1.0,>=3.0.2 in /opt/conda/lib/python3.10/site-packages (from spacy<3.6.0,>=3.5.0->en-core-web-sm==3.5.0) (3.0.8)\n",
      "Requirement already satisfied: thinc<8.2.0,>=8.1.8 in /opt/conda/lib/python3.10/site-packages (from spacy<3.6.0,>=3.5.0->en-core-web-sm==3.5.0) (8.1.10)\n",
      "Requirement already satisfied: wasabi<1.2.0,>=0.9.1 in /opt/conda/lib/python3.10/site-packages (from spacy<3.6.0,>=3.5.0->en-core-web-sm==3.5.0) (1.1.1)\n",
      "Requirement already satisfied: srsly<3.0.0,>=2.4.3 in /opt/conda/lib/python3.10/site-packages (from spacy<3.6.0,>=3.5.0->en-core-web-sm==3.5.0) (2.4.6)\n",
      "Requirement already satisfied: catalogue<2.1.0,>=2.0.6 in /opt/conda/lib/python3.10/site-packages (from spacy<3.6.0,>=3.5.0->en-core-web-sm==3.5.0) (2.0.8)\n",
      "Requirement already satisfied: typer<0.8.0,>=0.3.0 in /opt/conda/lib/python3.10/site-packages (from spacy<3.6.0,>=3.5.0->en-core-web-sm==3.5.0) (0.7.0)\n",
      "Requirement already satisfied: pathy>=0.10.0 in /opt/conda/lib/python3.10/site-packages (from spacy<3.6.0,>=3.5.0->en-core-web-sm==3.5.0) (0.10.1)\n",
      "Requirement already satisfied: smart-open<7.0.0,>=5.2.1 in /opt/conda/lib/python3.10/site-packages (from spacy<3.6.0,>=3.5.0->en-core-web-sm==3.5.0) (5.2.1)\n",
      "Requirement already satisfied: tqdm<5.0.0,>=4.38.0 in /opt/conda/lib/python3.10/site-packages (from spacy<3.6.0,>=3.5.0->en-core-web-sm==3.5.0) (4.65.0)\n",
      "Requirement already satisfied: numpy>=1.15.0 in /opt/conda/lib/python3.10/site-packages (from spacy<3.6.0,>=3.5.0->en-core-web-sm==3.5.0) (1.23.5)\n",
      "Requirement already satisfied: requests<3.0.0,>=2.13.0 in /opt/conda/lib/python3.10/site-packages (from spacy<3.6.0,>=3.5.0->en-core-web-sm==3.5.0) (2.28.2)\n",
      "Requirement already satisfied: pydantic!=1.8,!=1.8.1,<1.11.0,>=1.7.4 in /opt/conda/lib/python3.10/site-packages (from spacy<3.6.0,>=3.5.0->en-core-web-sm==3.5.0) (1.10.7)\n",
      "Requirement already satisfied: jinja2 in /opt/conda/lib/python3.10/site-packages (from spacy<3.6.0,>=3.5.0->en-core-web-sm==3.5.0) (3.1.2)\n",
      "Requirement already satisfied: setuptools in /opt/conda/lib/python3.10/site-packages (from spacy<3.6.0,>=3.5.0->en-core-web-sm==3.5.0) (65.6.3)\n",
      "Requirement already satisfied: packaging>=20.0 in /opt/conda/lib/python3.10/site-packages (from spacy<3.6.0,>=3.5.0->en-core-web-sm==3.5.0) (23.1)\n",
      "Requirement already satisfied: langcodes<4.0.0,>=3.2.0 in /opt/conda/lib/python3.10/site-packages (from spacy<3.6.0,>=3.5.0->en-core-web-sm==3.5.0) (3.3.0)\n",
      "Requirement already satisfied: typing-extensions>=4.2.0 in /opt/conda/lib/python3.10/site-packages (from pydantic!=1.8,!=1.8.1,<1.11.0,>=1.7.4->spacy<3.6.0,>=3.5.0->en-core-web-sm==3.5.0) (4.5.0)\n",
      "Requirement already satisfied: charset-normalizer<4,>=2 in /opt/conda/lib/python3.10/site-packages (from requests<3.0.0,>=2.13.0->spacy<3.6.0,>=3.5.0->en-core-web-sm==3.5.0) (3.1.0)\n",
      "Requirement already satisfied: idna<4,>=2.5 in /opt/conda/lib/python3.10/site-packages (from requests<3.0.0,>=2.13.0->spacy<3.6.0,>=3.5.0->en-core-web-sm==3.5.0) (3.4)\n",
      "Requirement already satisfied: urllib3<1.27,>=1.21.1 in /opt/conda/lib/python3.10/site-packages (from requests<3.0.0,>=2.13.0->spacy<3.6.0,>=3.5.0->en-core-web-sm==3.5.0) (1.26.15)\n",
      "Requirement already satisfied: certifi>=2017.4.17 in /opt/conda/lib/python3.10/site-packages (from requests<3.0.0,>=2.13.0->spacy<3.6.0,>=3.5.0->en-core-web-sm==3.5.0) (2023.5.7)\n",
      "Requirement already satisfied: blis<0.8.0,>=0.7.8 in /opt/conda/lib/python3.10/site-packages (from thinc<8.2.0,>=8.1.8->spacy<3.6.0,>=3.5.0->en-core-web-sm==3.5.0) (0.7.9)\n",
      "Requirement already satisfied: confection<1.0.0,>=0.0.1 in /opt/conda/lib/python3.10/site-packages (from thinc<8.2.0,>=8.1.8->spacy<3.6.0,>=3.5.0->en-core-web-sm==3.5.0) (0.0.4)\n",
      "Requirement already satisfied: click<9.0.0,>=7.1.1 in /opt/conda/lib/python3.10/site-packages (from typer<0.8.0,>=0.3.0->spacy<3.6.0,>=3.5.0->en-core-web-sm==3.5.0) (8.1.3)\n",
      "Requirement already satisfied: MarkupSafe>=2.0 in /opt/conda/lib/python3.10/site-packages (from jinja2->spacy<3.6.0,>=3.5.0->en-core-web-sm==3.5.0) (2.1.2)\n",
      "Installing collected packages: en-core-web-sm\n",
      "Successfully installed en-core-web-sm-3.5.0\n",
      "\u001b[33mWARNING: Running pip as the 'root' user can result in broken permissions and conflicting behaviour with the system package manager. It is recommended to use a virtual environment instead: https://pip.pypa.io/warnings/venv\u001b[0m\u001b[33m\n",
      "\u001b[0m\u001b[33mWARNING: There was an error checking the latest version of pip.\u001b[0m\u001b[33m\n",
      "\u001b[0m\u001b[38;5;2m✔ Download and installation successful\u001b[0m\n",
      "You can now load the package via spacy.load('en_core_web_sm')\n"
     ]
    }
   ],
   "source": [
    "!pip install spacy\n",
    "!python -m spacy download en_core_web_sm"
   ]
  },
  {
   "cell_type": "code",
   "execution_count": 6,
   "id": "fa175bfa-784c-4eb1-9dea-38a029934ab0",
   "metadata": {
    "tags": []
   },
   "outputs": [],
   "source": [
    "device = torch.device(\"cuda\" if torch.cuda.is_available() else \"cpu\")"
   ]
  },
  {
   "cell_type": "markdown",
   "id": "cfecbf36-1ec8-4ff3-bb3d-64bb71810474",
   "metadata": {},
   "source": [
    "## Passage Example"
   ]
  },
  {
   "cell_type": "code",
   "execution_count": 7,
   "id": "251f9cfd-d8aa-4cf3-82a5-1ea798a802f3",
   "metadata": {
    "tags": []
   },
   "outputs": [
    {
     "name": "stdout",
     "output_type": "stream",
     "text": [
      "['Michael Alan Weiner (born March 31, 1942) is an American radio host.', 'He is the host of The Savage Nation.']\n"
     ]
    }
   ],
   "source": [
    "# LLM's text (e.g. GPT-3 response) to be evaluated at the sentence level  & Split it into sentences\n",
    "nlp = spacy.load(\"en_core_web_sm\")\n",
    "passage = \"Michael Alan Weiner (born March 31, 1942) is an American radio host. He is the host of The Savage Nation.\"\n",
    "sentences = [sent.text.strip() for sent in nlp(passage).sents] # spacy sentence tokenization\n",
    "print(sentences)\n",
    "['Michael Alan Weiner (born March 31, 1942) is an American radio host.', 'He is the host of The Savage Nation.']\n",
    "\n",
    "# Other samples generated by the same LLM to perform self-check for consistency\n",
    "sample1 = \"Michael Alan Weiner (born March 31, 1942) is an American radio host. He is the host of The Savage Country.\"\n",
    "sample2 = \"Michael Alan Weiner (born January 13, 1960) is a Canadian radio host. He works at The New York Times.\"\n",
    "sample3 = \"Michael Alan Weiner (born March 31, 1942) is an American radio host. He obtained his PhD from MIT.\""
   ]
  },
  {
   "cell_type": "markdown",
   "id": "e4edb738-b01c-4f82-bc01-be1439568fe2",
   "metadata": {
    "tags": []
   },
   "source": [
    "### SelfCheck ngram model"
   ]
  },
  {
   "cell_type": "code",
   "execution_count": 8,
   "id": "cf7bdefb-03e8-49cd-8d2f-96928628cf99",
   "metadata": {
    "tags": []
   },
   "outputs": [
    {
     "name": "stdout",
     "output_type": "stream",
     "text": [
      "SelfCheck-1gram initialized\n",
      "{'sent_level': {'avg_neg_logprob': [3.184312427726156, 3.279774864365169], 'max_neg_logprob': [3.476098689835273, 4.574710978503383]}, 'doc_level': {'avg_neg_logprob': 3.218678904916201, 'avg_max_neg_logprob': 4.025404834169327}}\n"
     ]
    }
   ],
   "source": [
    "selfcheck_ngram = SelfCheckNgram(n=1) # n=1 means Unigram, n=2 means Bigram, etc.\n",
    "# SelfCheck-Ngram: Score at sentence- and document-level where value is in [0.0, +inf) and high value means non-factual\n",
    "# as opposed to SelfCheck-MQAG and SelfCheck-BERTScore, SelfCheck-Ngram's score is not bounded\n",
    "sent_scores_ngram = selfcheck_ngram.predict(\n",
    "    sentences = sentences,\n",
    "    passage = passage,\n",
    "    sampled_passages = [sample1, sample2, sample3],\n",
    ")\n",
    "print(sent_scores_ngram)"
   ]
  },
  {
   "cell_type": "markdown",
   "id": "5499e1c9-580f-4115-ae6f-4e68a540f0ad",
   "metadata": {},
   "source": [
    "### SelfCheck BERT score model"
   ]
  },
  {
   "cell_type": "code",
   "execution_count": 9,
   "id": "7f23126f-9665-4154-905d-616aa0de69f7",
   "metadata": {
    "tags": []
   },
   "outputs": [
    {
     "name": "stdout",
     "output_type": "stream",
     "text": [
      "SelfCheck-BERTScore initialized\n",
      "[0.05884961 0.53198812]\n"
     ]
    }
   ],
   "source": [
    "selfcheck_bertscore = SelfCheckBERTScore(rescale_with_baseline=True)\n",
    "# --------------------------------------------------------------------------------------------------------------- #\n",
    "# SelfCheck-BERTScore: Score for each sentence where value is in [0.0, 1.0] and high value means non-factual\n",
    "sent_scores_bertscore = selfcheck_bertscore.predict(\n",
    "    sentences = sentences,                          # list of sentences\n",
    "    sampled_passages = [sample1, sample2, sample3], # list of sampled passages\n",
    ")\n",
    "print(sent_scores_bertscore)\n",
    "# [0.0695562  0.45590915]"
   ]
  },
  {
   "cell_type": "code",
   "execution_count": null,
   "id": "05c45b53-b378-4b43-b56d-bd47c3903ad2",
   "metadata": {
    "tags": []
   },
   "outputs": [],
   "source": [
    "### SelfCheck NLI model"
   ]
  },
  {
   "cell_type": "code",
   "execution_count": 10,
   "id": "42560ff9-0bd9-448f-99fb-c38caba48a71",
   "metadata": {
    "tags": []
   },
   "outputs": [
    {
     "name": "stdout",
     "output_type": "stream",
     "text": [
      "SelfCheck-NLI initialized to device cuda\n",
      "[0.33401403 0.97510584]\n"
     ]
    }
   ],
   "source": [
    "selfcheck_nli = SelfCheckNLI(device=device) # set device to 'cuda' if GPU is available\n",
    "\n",
    "sent_scores_nli = selfcheck_nli.predict(\n",
    "    sentences = sentences,                          # list of sentences\n",
    "    sampled_passages = [sample1, sample2, sample3], # list of sampled passages\n",
    ")\n",
    "print(sent_scores_nli)\n",
    "# [0.334014 0.975106 ] -- based on the example above"
   ]
  },
  {
   "cell_type": "markdown",
   "id": "017f63cb-c0c0-451c-a11d-4f96fb8da792",
   "metadata": {},
   "source": [
    "# Amazon Products Test dataset (20 rows)"
   ]
  },
  {
   "cell_type": "code",
   "execution_count": 14,
   "id": "4a06c428-9e42-4150-961a-e78a300087a5",
   "metadata": {
    "tags": []
   },
   "outputs": [],
   "source": [
    "import pandas as pd\n",
    "data = pd.read_csv('s3://d3-data-bucket/labs/trustworthy_ai/data/test.csv')"
   ]
  },
  {
   "cell_type": "code",
   "execution_count": 16,
   "id": "14c6f7ba-a601-4848-a8a9-6880deddb584",
   "metadata": {},
   "outputs": [],
   "source": [
    "from datasets import load_dataset, Dataset\n",
    "amazon_dataset = Dataset.from_pandas(data)"
   ]
  },
  {
   "cell_type": "code",
   "execution_count": null,
   "id": "e55be65d-003e-43a7-9ffb-d876caa87aa3",
   "metadata": {},
   "outputs": [],
   "source": [
    "amazon_dataset"
   ]
  },
  {
   "cell_type": "code",
   "execution_count": 18,
   "id": "ad0a3be3-a5c6-4da8-bd81-68c1ecd5055b",
   "metadata": {},
   "outputs": [],
   "source": [
    "amazon_dataset_iter = amazon_dataset.to_iterable_dataset()"
   ]
  },
  {
   "cell_type": "code",
   "execution_count": 20,
   "id": "4cea6e02-3045-41e8-a731-4dc8ac782aa6",
   "metadata": {},
   "outputs": [
    {
     "name": "stdout",
     "output_type": "stream",
     "text": [
      "{'title': 'X. L. Carbon Fiber Money Clip, made in the USA', 'brand': 'Roar Carbon', 'feature': \"['Real Carbon Fiber', 'Made in USA', '5 year warranty against delamination', 'Holds Cash and Cards', 'You can return this item for any reason and get a full refund: no shipping charges. The item must be returned in new and unused condition.', 'Read the full returns policy', 'Go to Your Orders to start the return', 'Print the return shipping label', 'Ship it!', 'Package Dimensions:\\\\n                    \\\\n2.5 x 2.2 x 0.6 inches', 'Shipping Weight:\\\\n                    \\\\n0.32 ounces (View shipping rates and policies)']\", 'description': \"['When you pull out your extra large carbon fiber money clip it gives you that status as you know whats new and has people asking what it is and where did you get it? Each carbon fiber money clip is made from the highest quality Carbon Fiber in America. Each money clip is infused with an epoxy resin giving you a strong and light weight money clip. This gives you the ability to walk through airport detectors with out having to put your money into a plastic tray. Each money clip comes with a 5 year warranty against de-lamination. Carbon fiber money clips very similar to these sell for up to 4 times what you can buy it for here. The reason for why the price is so exceptional is do the number on money clips that are manufactured at a time.']\", 'price': '$14.99', 'generated_description': \"Introducing the Schaefer Outfitters Ranger Vest - the ultimate adventure companion for the modern-day explorer! 🌄🏕️\\n\\nAre you tired of boring, bulky, and uncomfortable outdoor gear? Look no further! Our Ranger Vest is designed to keep you comfortable and stylish on all your outdoor adventures. 💪👕\\n\\nCrafted with premium materials and built to last, this vest is perfect for hiking, camping, fishing, or simply enjoying the great outdoors. The adjustable waist and hem allow for a customized fit, while the multiple pockets provide ample storage for all your gear. 🎣📦\\n\\nBut that's not all! Our Ranger Vest also features:\\n\\n🌟 Water-resistant and breathable material to keep you dry and comfortable\\n🌟 Reflective details for increased visibility in low light conditions\\n🌟 Adjustable cuffs and hem for a customized fit\\n🌟 Multiple pockets for storing your g\", 'sample_generated_description': '[\"Introducing the X. L. Carbon Fiber Money Clip, the ultimate accessory for the modern gent who demands style, quality, and practicality. Crafted from real carbon fiber, this sleek and lightweight money clip is made in the USA and boasts a 5-year warranty against delamination, ensuring that it will stand the test of time.\\\\n\\\\nWith its slim and compact design, the X. L. Carbon Fiber Money Clip easily fits in your pocket or wallet, and its generous size can hold a significant amount of cash and cards. Its durable carbon fiber construction ensures that it will withstand the rigors of daily use, and its polished finish gives it a sophisticated and high-end look that\\'s perfect for both business and leisure.\\\\n\\\\nBut what really sets this money clip apart is the unique return policy. Unlike other products on the market, Roar Carbon offers a risk-free purchase experience - if you\\'re not completely satisfied with your X. L. Carbon Fiber Money Clip, you can return it for any reason and receive a full refund,\", \"Introducing the X. L. Carbon Fiber Money Clip, a game-changing wallet revolutionizing the way you carry your cash and cards. Crafted from high-quality, genuine carbon fiber, this sleek and durable money clip is designed to last. Made in the USA and backed by a 5-year warranty against delamination, this investment piece is built to withstand the test of time.\\\\n\\\\nThe X. L. Carbon Fiber Money Clip is not just a practical accessory, it\\'s a statement piece. Its slim and lightweight design makes it easy to carry, and the carbon fiber material gives it a unique and luxurious look that\\'s sure to turn heads. Whether you\\'re dressing up for a special occasion or just want to add a touch of sophistication to your everyday look, this money clip has got you covered.\\\\n\\\\nBut practicality isn\\'t sacrificed for style - the X. L. Carbon Fiber Money Clip holds up to 6 cards and a wad of cash, keeping your valuables secure and organized. And with a 5-year\", \"Introducing the X. L. Carbon Fiber Money Clip, the ultimate accessory for the modern gentleman (or lady) on the go! Crafted from real carbon fiber, this sleek and durable money clip is made in the USA and backed by a 5-year warranty against delamination.\\\\n\\\\nWith its slim and lightweight design, this money clip is perfect for carrying cash and cards with ease. The unique carbon fiber material not only looks and feels premium, but it also provides unparalleled durability and strength. Plus, with the included 5-year warranty, you can have peace of mind knowing that your investment is protected.\\\\n\\\\nBut what really sets this money clip apart is its practicality. It\\'s designed to fit perfectly in your pocket or wallet, and the slim profile ensures that it won\\'t add bulk or weigh you down. And with the ability to hold both cash and cards, you\\'ll have everything you need in one convenient place.\\\\n\\\\nBut don\\'t just take our word for it - the X. L. Carbon Fiber Money Clip has received rave reviews\", \"Introducing the X. L. Carbon Fiber Money Clip, a game-changing accessory that\\'s about to revolutionize the way you carry your cash and cards. Crafted from high-quality, real carbon fiber, this money clip is not only stylish but also durable and built to last.\\\\n\\\\nImagine having a sleek and sophisticated wallet that fits perfectly in your pocket, without the bulk. The X. L. Carbon Fiber Money Clip does just that, storing your cash and cards in a slim, lightweight design that\\'s both practical and stylish. Whether you\\'re dressing up for a special occasion or just need a reliable everyday accessory, this money clip has got you covered.\\\\n\\\\nBut what really sets this product apart is its exceptional quality and dedication to durability. Roar Carbon, the brand behind this innovative accessory, is committed to providing the best possible product for their customers. That\\'s why they offer an impressive 5-year warranty against delamination, ensuring that your money clip will remain in pristine condition for years to come.\\\\n\\\\nIn addition\", \"Introducing the X.L. Carbon Fiber Money Clip, the epitome of style and sophistication, crafted with the highest quality materials and built to last. This marvel of engineering is made from real carbon fiber, a material so strong and lightweight, it\\'s used in high-performance racing cars and luxury sports equipment.\\\\n\\\\nImagine having all your cash and cards at your fingertips, securely held in place by the strong yet flexible carbon fiber mechanism. The sleek and slim design fits comfortably in your pocket or purse, ensuring you\\'re always ready to make a statement.\\\\n\\\\nBut what truly sets this money clip apart is the unparalleled craftsmanship and attention to detail. Every aspect of its construction, from the stitching to the finish, exudes excellence. The result is a product that not only looks and feels premium, but is built to endure the test of time.\\\\n\\\\nThe X.L. Carbon Fiber Money Clip is made in the USA, ensuring the highest quality standards and a 5-year warranty against delamination. This unbeatable\", \"Introducing the X. L. Carbon Fiber Money Clip, the sleek and stylish solution for keeping your cash and cards in check. Crafted from genuine carbon fiber, this premium accessory is not only aesthetically pleasing but also built to last. As a proudly made-in-the-USA product, you can trust in the exceptional quality that goes into every stitch.\\\\n\\\\nThe X. L. Carbon Fiber Money Clip boasts a 5-year warranty against delamination, ensuring your purchase will remain in pristine condition for years to come. And, with the ability to hold both cash and cards, this money clip is the perfect companion for any occasion.\\\\n\\\\nBut, don\\'t just take our word for it - our 100% satisfaction guarantee means that you can try the X. L. Carbon Fiber Money Clip risk-free. If for any reason you\\'re not completely satisfied, simply return the item in new and unused condition and receive a full refund, no shipping charges applied.\\\\n\\\\nWith its compact dimensions (2.5 x 2.2 x\", \\'Introducing the X. L. Carbon Fiber Money Clip, the ultimate accessory for the modern gentleman. Crafted from real carbon fiber, this sleek and stylish wallet is not only lightweight but also incredibly durable, ensuring that your cash and cards are safe and secure.\\\\n\\\\nDesigned and made in the USA, this money clip boasts a 5-year warranty against delamination, giving you unparalleled peace of mind. Plus, with its slim profile and compact design, it effortlessly fits in your pocket, making it the perfect accessory for every occasion.\\\\n\\\\nThe X. L. Carbon Fiber Money Clip is not just practical but also exudes a sense of sophistication and style. Its sleek carbon fiber finish adds a touch of sophistication to any outfit, making it an essential accessory for the modern gentleman.\\\\n\\\\nBut what truly sets this money clip apart is the exceptional quality and craftsmanship that goes into each and every one. The attention to detail and the commitment to excellence are evident in every aspect of the design, from the stitching to the materials\\', \"Introducing the X. L. Carbon Fiber Money Clip, the ultimate accessory for the modern gentleman (or lady) who demands both style and substance. Crafted from genuine carbon fiber, this sleek and sophisticated money clip is not only a stunning statement piece, but also a testament to the exceptional quality and craftsmanship of Roar Carbon.\\\\n\\\\nMade in the USA and backed by a comprehensive 5-year warranty against delamination, the X. L. Carbon Fiber Money Clip is designed to last. With its durable construction and lightweight design, you\\'ll be able to carry your cash and cards with ease, without weighing yourself down. Plus, the money clip\\'s slim profile ensures that it fits seamlessly into your pocket or wallet, making it the perfect accessory for both formal and casual attire.\\\\n\\\\nBut what really sets the X. L. Carbon Fiber Money Clip apart is its unparalleled commitment to quality and customer satisfaction. Not only does Roar Carbon offer a 30-day money-back\", \"Introducing the X. L. Carbon Fiber Money Clip, the ultimate accessory for the modern gentleman (or lady) who demands both style and substance. Crafted from high-quality real carbon fiber, this sleek and sophisticated money clip is not only a statement piece, but a testament to the unparalleled craftsmanship of Roar Carbon.\\\\n\\\\nExperience the unmatched durability and practicality of a carbon fiber money clip that\\'s built to last. With a 5-year warranty against delamination, you can trust that your investment will remain secure and intact for years to come. Plus, with the option to return the item for any reason and receive a full refund (no shipping charges!), you can feel confident in your purchase.\\\\n\\\\nBut it\\'s not just about the durability - the X. L. Carbon Fiber Money Clip is also a stylish addition to your everyday carry. Its slim and lightweight design makes it easy to tuck into your pocket, while the sleek carbon fiber finish gives it a premium look and feel that\\'s sure\", \\'Introducing the X. L. Carbon Fiber Money Clip, the ultimate accessory for the modern gentleman (or lady) on the go! Crafted from high-quality, real carbon fiber, this sleek and durable money clip is made in the USA and boasts a 5-year warranty against delamination.\\\\n\\\\nNot only does this money clip look sleek and sophisticated, but it\\\\\\'s also built to last. The carbon fiber material is lightweight and strong, ensuring that your cash and cards will be safe and secure for years to come. And with a 5-year warranty, you can have peace of mind knowing that your investment will be protected.\\\\n\\\\nBut don\\\\\\'t just take our word for it - the X. L. Carbon Fiber Money Clip has received rave reviews from satisfied customers who love its practicality and unique design. One reviewer raved, \"I\\\\\\'ve been using this money clip for months now and it still looks and feels like new. The carbon fiber is so durable and the design is sleek and sophisticated. I get compliments every time I use it\\', \"Introducing the X. L. Carbon Fiber Money Clip - a sleek, durable, and stylish accessory that is sure to turn heads. Crafted from authentic carbon fiber, this money clip is not only visually stunning but also built to last. With a 5-year warranty against delamination, you can trust that your investment will remain secure for years to come.\\\\n\\\\nThe X. L. Carbon Fiber Money Clip is proudly made in the USA, ensuring that every detail is crafted with precision and care. The slim design holds cash and cards with ease, providing a convenient and secure way to carry your essentials. Plus, with the option to return the item for any reason and receive a full refund, you can try it risk-free.\\\\n\\\\nNot only is this money clip practical and reliable, but it\\'s also a statement piece that exudes sophistication and style. The matte finish and sleek lines give it a high-end look that\\'s perfect for both formal and casual occasions. Whether you\\'re heading to the office or a night out on the town, the X. L. Car\", \"Introducing the X. L. Carbon Fiber Money Clip, the sleek and sophisticated way to keep your cash and cards organized and within reach. Crafted from high-quality, genuine carbon fiber, this money clip is not only durable and long-lasting, but also exudes style and sophistication.\\\\n\\\\nMade in the USA and backed by a 5-year warranty against delamination, this money clip is built to last. The sturdy carbon fiber construction ensures that it can withstand the rigors of daily use, while the slim and lightweight design makes it easy to carry in your pocket or purse.\\\\n\\\\nBut it\\'s not just about looks - this money clip is also practical and functional. It securely holds cash and cards, keeping them safe and organized, and the unique design allows for easy one-handed access. Plus, with the included 5-year warranty, you can have peace of mind knowing that your investment is protected.\\\\n\\\\nWhat really sets this money clip apart, however, is the exceptional craftsmanship and attention to detail. Every aspect of the design\", \\'Introducing the X. L. Carbon Fiber Money Clip, the ultimate accessory for the modern gentleman (or lady) looking to elevate their style and organization. Crafted from high-quality real carbon fiber, this sleek and durable money clip is made in the USA and backed by a 5-year warranty against delamination, ensuring that it will stand the test of time and continue to look great.\\\\n\\\\nNot only does this money clip boast an impressive 5-year warranty, but it also offers the practicality of holding both cash and cards, keeping your essentials secure and within reach. And with the option to return the item for any reason and receive a full refund, including free shipping, you can trust that your purchase is a risk-free investment.\\\\n\\\\nBut what truly sets this money clip apart is its unique blend of style and functionality. The slim and lightweight design, measuring just 2.5 x 2.2 x 0.6 inches and weighing only 0.32 ounces, makes it easy to carry in your pocket or wallet, while the durable carbon\\', \"Sure, here\\'s a vibrant and engaging product description for the X. L. Carbon Fiber Money Clip, made in the USA:\\\\n\\\\nIntroducing the sleek and sophisticated X. L. Carbon Fiber Money Clip, crafted with real carbon fiber and made in the USA. This stylish accessory is not only a statement piece, but also a functional and durable addition to your everyday carry. With its slim and lightweight design, you\\'ll barely notice it in your pocket, yet it will hold all your cash and cards securely in place.\\\\n\\\\nCrafted with the highest quality materials and a 5-year warranty against delamination, this money clip is built to last. The carbon fiber material provides a sleek and modern look that\\'s sure to turn heads, while the sturdy design ensures that your valuables will remain safe and secure. And with the option to return the item for any reason and receive a full refund, you can rest assured that your purchase is risk-free.\\\\n\\\\nBut what really sets this money clip apart is the attention to detail and craftsmanship that goes\", \"Introducing the X. L. Carbon Fiber Money Clip, a game-changing wallet that\\'s as stylish as it is practical! Crafted from real carbon fiber, this sleek accessory is made in the USA and boasts a 5-year warranty against delamination.\\\\n\\\\nSay goodbye to bulky wallets and hello to the slimmest, most versatile money clip on the market. The X. L. Carbon Fiber Money Clip effortlessly holds cash and cards, keeping them secure and organized. Its lightweight design makes it easy to slip into your pocket or purse, ensuring you\\'ll never be weighed down by your wallet again.\\\\n\\\\nBut what really sets this money clip apart is its commitment to quality and durability. With a 5-year warranty against delamination, you can trust that your investment will last for years to come. Plus, the return policy is so confident that you can try it risk-free - simply return it for any reason and receive a full refund, no shipping charges applied!\\\\n\\\\nThe X. L. Carbon Fiber Money C\", \"Introducing the X. L. Carbon Fiber Money Clip, the epitome of sleek, modern finesse and unparalleled quality. Crafted with real carbon fiber, this money clip is not just a stylish accessory, but a testament to the innovative craftsmanship of Roar Carbon. Made in the USA, this money clip boasts a 5-year warranty against delamination, ensuring that your investment will stand the test of time.\\\\n\\\\nImagine the envy-inducing looks you\\'ll get when you slide this money clip into your pocket, knowing that you\\'re carrying more than just cash - you\\'re carrying a piece of American ingenuity. The X. L. Carbon Fiber Money Clip is designed to hold cash and cards with ease, so you can leave your bulky wallet at home and travel light.\\\\n\\\\nBut don\\'t just take our word for it - our 5-year warranty and risk-free return policy (with no shipping charges) speaks volumes about our confidence in the quality of this product. We know you\\'ll love it, but if\", \"Introducing the X. L. Carbon Fiber Money Clip, the ultimate accessory for the modern gent who demands style, durability, and practicality. Crafted from real carbon fiber, this sleek and sophisticated money clip is made in the USA and boasts an impressive 5-year warranty against delamination, ensuring that it will stand the test of time.\\\\n\\\\nNot only is this money clip a stylish statement piece, but it\\'s also incredibly functional. With enough room to hold cash and cards, you\\'ll have everything you need for a night out on the town or a day at the office conveniently stored in one slim, lightweight clip. Plus, with the included 5-year warranty, you can have peace of mind knowing that your investment will be protected for years to come.\\\\n\\\\nWhat really sets this money clip apart, however, is its commitment to quality and customer satisfaction. Roar Carbon stands behind their product with a no-questions-asked return policy, allowing you to return the item for any reason and receive a full refund, no shipping charges applied. This unparalleled\", \"Introducing the X. L. Carbon Fiber Money Clip, the epitome of style and functionality from Roar Carbon. Crafted from genuine carbon fiber, this sleek accessory is made in the USA and boasts an impressive 5-year warranty against delamination. With its slim profile and lightweight design, the X. L. Money Clip effortlessly holds cash and cards, keeping them secure and within reach.\\\\n\\\\nBut that\\'s not all - this money clip also exudes quality and sophistication. The sleek, polished finish is a testament to the brand\\'s commitment to excellence, while the durable carbon fiber construction ensures that it will withstand the rigors of daily use. And with a generous return policy that offers a full refund for any reason, you can try it out risk-free.\\\\n\\\\nBut what really sets this money clip apart is its unique blend of practicality and style. Not only does it hold your cash and cards with ease, but it also makes a bold statement about your taste and refinement. Whether you\\'re dressing up for a special occasion or\", \"Introducing the X. L. Carbon Fiber Money Clip, the ultimate accessory for the modern gentleman (or lady!) who values both style and substance. Crafted from real carbon fiber, this sleek and sophisticated money clip is made in the USA and boasts a 5-year warranty against delamination, ensuring that it will stand the test of time.\\\\n\\\\nNot only does this money clip look great, but it\\'s also incredibly practical. With its slim and lightweight design, it easily fits in your pocket or wallet, and its generous capacity holds cash and cards with ease. Plus, with the ability to return this item for any reason and get a full refund, there\\'s no risk involved in giving it a try.\\\\n\\\\nBut what really sets this money clip apart is the quality of its craftsmanship. Made with high-quality materials and attention to detail, it exudes a sense of luxury and durability that is unmatched by other money clips on the market. And with a 5-year warranty against delamination, you can have peace of mind knowing that your investment will last\", \"Introducing the X. L. Carbon Fiber Money Clip, crafted with real carbon fiber and made in the USA. This sleek and sophisticated accessory is not only a stylish addition to your everyday carry, but also a symbol of durability and quality. With a 5-year warranty against delamination, you can trust that your money clip will withstand the test of time.\\\\n\\\\nMade with the finest materials and crafted with precision, this money clip is built to last. The slim and lightweight design makes it easy to carry, and the spacious interior holds all your cash and cards with ease. Whether you\\'re heading to work or out on the town, the X. L. Carbon Fiber Money Clip is the perfect companion for your essentials.\\\\n\\\\nBut that\\'s not all - this money clip also comes with an unparalleled level of service. Roar Carbon stands behind their products, offering a risk-free return policy. If for any reason you\\'re not satisfied with your purchase, simply return it within 30 days for a full refund, no shipping charges applied. The item must\"]', 'sample_generated_description.1': '[\"Introducing the X. L. Carbon Fiber Money Clip, the ultimate accessory for the modern gent who demands style, quality, and practicality. Crafted from real carbon fiber, this sleek and lightweight money clip is made in the USA and boasts a 5-year warranty against delamination, ensuring that it will stand the test of time.\\\\n\\\\nWith its slim and compact design, the X. L. Carbon Fiber Money Clip easily fits in your pocket or wallet, and its generous size can hold a significant amount of cash and cards. Its durable carbon fiber construction ensures that it will withstand the rigors of daily use, and its polished finish gives it a sophisticated and high-end look that\\'s perfect for both business and leisure.\\\\n\\\\nBut what really sets this money clip apart is the unique return policy. Unlike other products on the market, Roar Carbon offers a risk-free purchase experience - if you\\'re not completely satisfied with your X. L. Carbon Fiber Money Clip, you can return it for any reason and receive a full refund,\", \"Introducing the X. L. Carbon Fiber Money Clip, a game-changing wallet revolutionizing the way you carry your cash and cards. Crafted from high-quality, genuine carbon fiber, this sleek and durable money clip is designed to last. Made in the USA and backed by a 5-year warranty against delamination, this investment piece is built to withstand the test of time.\\\\n\\\\nThe X. L. Carbon Fiber Money Clip is not just a practical accessory, it\\'s a statement piece. Its slim and lightweight design makes it easy to carry, and the carbon fiber material gives it a unique and luxurious look that\\'s sure to turn heads. Whether you\\'re dressing up for a special occasion or just want to add a touch of sophistication to your everyday look, this money clip has got you covered.\\\\n\\\\nBut practicality isn\\'t sacrificed for style - the X. L. Carbon Fiber Money Clip holds up to 6 cards and a wad of cash, keeping your valuables secure and organized. And with a 5-year\", \"Introducing the X. L. Carbon Fiber Money Clip, the ultimate accessory for the modern gentleman (or lady) on the go! Crafted from real carbon fiber, this sleek and durable money clip is made in the USA and backed by a 5-year warranty against delamination.\\\\n\\\\nWith its slim and lightweight design, this money clip is perfect for carrying cash and cards with ease. The unique carbon fiber material not only looks and feels premium, but it also provides unparalleled durability and strength. Plus, with the included 5-year warranty, you can have peace of mind knowing that your investment is protected.\\\\n\\\\nBut what really sets this money clip apart is its practicality. It\\'s designed to fit perfectly in your pocket or wallet, and the slim profile ensures that it won\\'t add bulk or weigh you down. And with the ability to hold both cash and cards, you\\'ll have everything you need in one convenient place.\\\\n\\\\nBut don\\'t just take our word for it - the X. L. Carbon Fiber Money Clip has received rave reviews\", \"Introducing the X. L. Carbon Fiber Money Clip, a game-changing accessory that\\'s about to revolutionize the way you carry your cash and cards. Crafted from high-quality, real carbon fiber, this money clip is not only stylish but also durable and built to last.\\\\n\\\\nImagine having a sleek and sophisticated wallet that fits perfectly in your pocket, without the bulk. The X. L. Carbon Fiber Money Clip does just that, storing your cash and cards in a slim, lightweight design that\\'s both practical and stylish. Whether you\\'re dressing up for a special occasion or just need a reliable everyday accessory, this money clip has got you covered.\\\\n\\\\nBut what really sets this product apart is its exceptional quality and dedication to durability. Roar Carbon, the brand behind this innovative accessory, is committed to providing the best possible product for their customers. That\\'s why they offer an impressive 5-year warranty against delamination, ensuring that your money clip will remain in pristine condition for years to come.\\\\n\\\\nIn addition\", \"Introducing the X.L. Carbon Fiber Money Clip, the epitome of style and sophistication, crafted with the highest quality materials and built to last. This marvel of engineering is made from real carbon fiber, a material so strong and lightweight, it\\'s used in high-performance racing cars and luxury sports equipment.\\\\n\\\\nImagine having all your cash and cards at your fingertips, securely held in place by the strong yet flexible carbon fiber mechanism. The sleek and slim design fits comfortably in your pocket or purse, ensuring you\\'re always ready to make a statement.\\\\n\\\\nBut what truly sets this money clip apart is the unparalleled craftsmanship and attention to detail. Every aspect of its construction, from the stitching to the finish, exudes excellence. The result is a product that not only looks and feels premium, but is built to endure the test of time.\\\\n\\\\nThe X.L. Carbon Fiber Money Clip is made in the USA, ensuring the highest quality standards and a 5-year warranty against delamination. This unbeatable\", \"Introducing the X. L. Carbon Fiber Money Clip, the sleek and stylish solution for keeping your cash and cards in check. Crafted from genuine carbon fiber, this premium accessory is not only aesthetically pleasing but also built to last. As a proudly made-in-the-USA product, you can trust in the exceptional quality that goes into every stitch.\\\\n\\\\nThe X. L. Carbon Fiber Money Clip boasts a 5-year warranty against delamination, ensuring your purchase will remain in pristine condition for years to come. And, with the ability to hold both cash and cards, this money clip is the perfect companion for any occasion.\\\\n\\\\nBut, don\\'t just take our word for it - our 100% satisfaction guarantee means that you can try the X. L. Carbon Fiber Money Clip risk-free. If for any reason you\\'re not completely satisfied, simply return the item in new and unused condition and receive a full refund, no shipping charges applied.\\\\n\\\\nWith its compact dimensions (2.5 x 2.2 x\", \\'Introducing the X. L. Carbon Fiber Money Clip, the ultimate accessory for the modern gentleman. Crafted from real carbon fiber, this sleek and stylish wallet is not only lightweight but also incredibly durable, ensuring that your cash and cards are safe and secure.\\\\n\\\\nDesigned and made in the USA, this money clip boasts a 5-year warranty against delamination, giving you unparalleled peace of mind. Plus, with its slim profile and compact design, it effortlessly fits in your pocket, making it the perfect accessory for every occasion.\\\\n\\\\nThe X. L. Carbon Fiber Money Clip is not just practical but also exudes a sense of sophistication and style. Its sleek carbon fiber finish adds a touch of sophistication to any outfit, making it an essential accessory for the modern gentleman.\\\\n\\\\nBut what truly sets this money clip apart is the exceptional quality and craftsmanship that goes into each and every one. The attention to detail and the commitment to excellence are evident in every aspect of the design, from the stitching to the materials\\', \"Introducing the X. L. Carbon Fiber Money Clip, the ultimate accessory for the modern gentleman (or lady) who demands both style and substance. Crafted from genuine carbon fiber, this sleek and sophisticated money clip is not only a stunning statement piece, but also a testament to the exceptional quality and craftsmanship of Roar Carbon.\\\\n\\\\nMade in the USA and backed by a comprehensive 5-year warranty against delamination, the X. L. Carbon Fiber Money Clip is designed to last. With its durable construction and lightweight design, you\\'ll be able to carry your cash and cards with ease, without weighing yourself down. Plus, the money clip\\'s slim profile ensures that it fits seamlessly into your pocket or wallet, making it the perfect accessory for both formal and casual attire.\\\\n\\\\nBut what really sets the X. L. Carbon Fiber Money Clip apart is its unparalleled commitment to quality and customer satisfaction. Not only does Roar Carbon offer a 30-day money-back\", \"Introducing the X. L. Carbon Fiber Money Clip, the ultimate accessory for the modern gentleman (or lady) who demands both style and substance. Crafted from high-quality real carbon fiber, this sleek and sophisticated money clip is not only a statement piece, but a testament to the unparalleled craftsmanship of Roar Carbon.\\\\n\\\\nExperience the unmatched durability and practicality of a carbon fiber money clip that\\'s built to last. With a 5-year warranty against delamination, you can trust that your investment will remain secure and intact for years to come. Plus, with the option to return the item for any reason and receive a full refund (no shipping charges!), you can feel confident in your purchase.\\\\n\\\\nBut it\\'s not just about the durability - the X. L. Carbon Fiber Money Clip is also a stylish addition to your everyday carry. Its slim and lightweight design makes it easy to tuck into your pocket, while the sleek carbon fiber finish gives it a premium look and feel that\\'s sure\", \\'Introducing the X. L. Carbon Fiber Money Clip, the ultimate accessory for the modern gentleman (or lady) on the go! Crafted from high-quality, real carbon fiber, this sleek and durable money clip is made in the USA and boasts a 5-year warranty against delamination.\\\\n\\\\nNot only does this money clip look sleek and sophisticated, but it\\\\\\'s also built to last. The carbon fiber material is lightweight and strong, ensuring that your cash and cards will be safe and secure for years to come. And with a 5-year warranty, you can have peace of mind knowing that your investment will be protected.\\\\n\\\\nBut don\\\\\\'t just take our word for it - the X. L. Carbon Fiber Money Clip has received rave reviews from satisfied customers who love its practicality and unique design. One reviewer raved, \"I\\\\\\'ve been using this money clip for months now and it still looks and feels like new. The carbon fiber is so durable and the design is sleek and sophisticated. I get compliments every time I use it\\', \"Introducing the X. L. Carbon Fiber Money Clip - a sleek, durable, and stylish accessory that is sure to turn heads. Crafted from authentic carbon fiber, this money clip is not only visually stunning but also built to last. With a 5-year warranty against delamination, you can trust that your investment will remain secure for years to come.\\\\n\\\\nThe X. L. Carbon Fiber Money Clip is proudly made in the USA, ensuring that every detail is crafted with precision and care. The slim design holds cash and cards with ease, providing a convenient and secure way to carry your essentials. Plus, with the option to return the item for any reason and receive a full refund, you can try it risk-free.\\\\n\\\\nNot only is this money clip practical and reliable, but it\\'s also a statement piece that exudes sophistication and style. The matte finish and sleek lines give it a high-end look that\\'s perfect for both formal and casual occasions. Whether you\\'re heading to the office or a night out on the town, the X. L. Car\", \"Introducing the X. L. Carbon Fiber Money Clip, the sleek and sophisticated way to keep your cash and cards organized and within reach. Crafted from high-quality, genuine carbon fiber, this money clip is not only durable and long-lasting, but also exudes style and sophistication.\\\\n\\\\nMade in the USA and backed by a 5-year warranty against delamination, this money clip is built to last. The sturdy carbon fiber construction ensures that it can withstand the rigors of daily use, while the slim and lightweight design makes it easy to carry in your pocket or purse.\\\\n\\\\nBut it\\'s not just about looks - this money clip is also practical and functional. It securely holds cash and cards, keeping them safe and organized, and the unique design allows for easy one-handed access. Plus, with the included 5-year warranty, you can have peace of mind knowing that your investment is protected.\\\\n\\\\nWhat really sets this money clip apart, however, is the exceptional craftsmanship and attention to detail. Every aspect of the design\", \\'Introducing the X. L. Carbon Fiber Money Clip, the ultimate accessory for the modern gentleman (or lady) looking to elevate their style and organization. Crafted from high-quality real carbon fiber, this sleek and durable money clip is made in the USA and backed by a 5-year warranty against delamination, ensuring that it will stand the test of time and continue to look great.\\\\n\\\\nNot only does this money clip boast an impressive 5-year warranty, but it also offers the practicality of holding both cash and cards, keeping your essentials secure and within reach. And with the option to return the item for any reason and receive a full refund, including free shipping, you can trust that your purchase is a risk-free investment.\\\\n\\\\nBut what truly sets this money clip apart is its unique blend of style and functionality. The slim and lightweight design, measuring just 2.5 x 2.2 x 0.6 inches and weighing only 0.32 ounces, makes it easy to carry in your pocket or wallet, while the durable carbon\\', \"Sure, here\\'s a vibrant and engaging product description for the X. L. Carbon Fiber Money Clip, made in the USA:\\\\n\\\\nIntroducing the sleek and sophisticated X. L. Carbon Fiber Money Clip, crafted with real carbon fiber and made in the USA. This stylish accessory is not only a statement piece, but also a functional and durable addition to your everyday carry. With its slim and lightweight design, you\\'ll barely notice it in your pocket, yet it will hold all your cash and cards securely in place.\\\\n\\\\nCrafted with the highest quality materials and a 5-year warranty against delamination, this money clip is built to last. The carbon fiber material provides a sleek and modern look that\\'s sure to turn heads, while the sturdy design ensures that your valuables will remain safe and secure. And with the option to return the item for any reason and receive a full refund, you can rest assured that your purchase is risk-free.\\\\n\\\\nBut what really sets this money clip apart is the attention to detail and craftsmanship that goes\", \"Introducing the X. L. Carbon Fiber Money Clip, a game-changing wallet that\\'s as stylish as it is practical! Crafted from real carbon fiber, this sleek accessory is made in the USA and boasts a 5-year warranty against delamination.\\\\n\\\\nSay goodbye to bulky wallets and hello to the slimmest, most versatile money clip on the market. The X. L. Carbon Fiber Money Clip effortlessly holds cash and cards, keeping them secure and organized. Its lightweight design makes it easy to slip into your pocket or purse, ensuring you\\'ll never be weighed down by your wallet again.\\\\n\\\\nBut what really sets this money clip apart is its commitment to quality and durability. With a 5-year warranty against delamination, you can trust that your investment will last for years to come. Plus, the return policy is so confident that you can try it risk-free - simply return it for any reason and receive a full refund, no shipping charges applied!\\\\n\\\\nThe X. L. Carbon Fiber Money C\", \"Introducing the X. L. Carbon Fiber Money Clip, the epitome of sleek, modern finesse and unparalleled quality. Crafted with real carbon fiber, this money clip is not just a stylish accessory, but a testament to the innovative craftsmanship of Roar Carbon. Made in the USA, this money clip boasts a 5-year warranty against delamination, ensuring that your investment will stand the test of time.\\\\n\\\\nImagine the envy-inducing looks you\\'ll get when you slide this money clip into your pocket, knowing that you\\'re carrying more than just cash - you\\'re carrying a piece of American ingenuity. The X. L. Carbon Fiber Money Clip is designed to hold cash and cards with ease, so you can leave your bulky wallet at home and travel light.\\\\n\\\\nBut don\\'t just take our word for it - our 5-year warranty and risk-free return policy (with no shipping charges) speaks volumes about our confidence in the quality of this product. We know you\\'ll love it, but if\", \"Introducing the X. L. Carbon Fiber Money Clip, the ultimate accessory for the modern gent who demands style, durability, and practicality. Crafted from real carbon fiber, this sleek and sophisticated money clip is made in the USA and boasts an impressive 5-year warranty against delamination, ensuring that it will stand the test of time.\\\\n\\\\nNot only is this money clip a stylish statement piece, but it\\'s also incredibly functional. With enough room to hold cash and cards, you\\'ll have everything you need for a night out on the town or a day at the office conveniently stored in one slim, lightweight clip. Plus, with the included 5-year warranty, you can have peace of mind knowing that your investment will be protected for years to come.\\\\n\\\\nWhat really sets this money clip apart, however, is its commitment to quality and customer satisfaction. Roar Carbon stands behind their product with a no-questions-asked return policy, allowing you to return the item for any reason and receive a full refund, no shipping charges applied. This unparalleled\", \"Introducing the X. L. Carbon Fiber Money Clip, the epitome of style and functionality from Roar Carbon. Crafted from genuine carbon fiber, this sleek accessory is made in the USA and boasts an impressive 5-year warranty against delamination. With its slim profile and lightweight design, the X. L. Money Clip effortlessly holds cash and cards, keeping them secure and within reach.\\\\n\\\\nBut that\\'s not all - this money clip also exudes quality and sophistication. The sleek, polished finish is a testament to the brand\\'s commitment to excellence, while the durable carbon fiber construction ensures that it will withstand the rigors of daily use. And with a generous return policy that offers a full refund for any reason, you can try it out risk-free.\\\\n\\\\nBut what really sets this money clip apart is its unique blend of practicality and style. Not only does it hold your cash and cards with ease, but it also makes a bold statement about your taste and refinement. Whether you\\'re dressing up for a special occasion or\", \"Introducing the X. L. Carbon Fiber Money Clip, the ultimate accessory for the modern gentleman (or lady!) who values both style and substance. Crafted from real carbon fiber, this sleek and sophisticated money clip is made in the USA and boasts a 5-year warranty against delamination, ensuring that it will stand the test of time.\\\\n\\\\nNot only does this money clip look great, but it\\'s also incredibly practical. With its slim and lightweight design, it easily fits in your pocket or wallet, and its generous capacity holds cash and cards with ease. Plus, with the ability to return this item for any reason and get a full refund, there\\'s no risk involved in giving it a try.\\\\n\\\\nBut what really sets this money clip apart is the quality of its craftsmanship. Made with high-quality materials and attention to detail, it exudes a sense of luxury and durability that is unmatched by other money clips on the market. And with a 5-year warranty against delamination, you can have peace of mind knowing that your investment will last\", \"Introducing the X. L. Carbon Fiber Money Clip, crafted with real carbon fiber and made in the USA. This sleek and sophisticated accessory is not only a stylish addition to your everyday carry, but also a symbol of durability and quality. With a 5-year warranty against delamination, you can trust that your money clip will withstand the test of time.\\\\n\\\\nMade with the finest materials and crafted with precision, this money clip is built to last. The slim and lightweight design makes it easy to carry, and the spacious interior holds all your cash and cards with ease. Whether you\\'re heading to work or out on the town, the X. L. Carbon Fiber Money Clip is the perfect companion for your essentials.\\\\n\\\\nBut that\\'s not all - this money clip also comes with an unparalleled level of service. Roar Carbon stands behind their products, offering a risk-free return policy. If for any reason you\\'re not satisfied with your purchase, simply return it within 30 days for a full refund, no shipping charges applied. The item must\"]'}\n"
     ]
    }
   ],
   "source": [
    "# print a few examples\n",
    "for sample in amazon_dataset_iter:\n",
    "    x = sample\n",
    "    print(x)\n",
    "    break"
   ]
  },
  {
   "cell_type": "code",
   "execution_count": 21,
   "id": "2ad0adcc-4277-4582-a9ca-898567836569",
   "metadata": {},
   "outputs": [],
   "source": [
    "label_mapping = {\n",
    "    'accurate': 0.0,\n",
    "    'minor_inaccurate': 1.0,\n",
    "    'major_inaccurate': 1.0,\n",
    "}"
   ]
  },
  {
   "cell_type": "code",
   "execution_count": null,
   "id": "d5cde150-99e5-480e-8c4b-5810868b7660",
   "metadata": {},
   "outputs": [],
   "source": [
    "scores = []\n",
    "for sample in amazon_dataset_iter:\n",
    "    sent_scores_nli = selfcheck_nli.predict(\n",
    "    sentences = sample['generated_description'],\n",
    "    sampled_passages = sample['sample_generated_description'],\n",
    "  )\n",
    "scores.extend(sent_scores_nli)"
   ]
  },
  {
   "cell_type": "code",
   "execution_count": null,
   "id": "920f1b2e-3051-48f2-8eb3-b2964cf12caf",
   "metadata": {},
   "outputs": [],
   "source": [
    "print(scores)"
   ]
  },
  {
   "cell_type": "code",
   "execution_count": null,
   "id": "7ec67eb1-ad60-4160-9449-47afe1abb42a",
   "metadata": {},
   "outputs": [],
   "source": []
  }
 ],
 "metadata": {
  "availableInstances": [
   {
    "_defaultOrder": 0,
    "_isFastLaunch": true,
    "category": "General purpose",
    "gpuNum": 0,
    "hideHardwareSpecs": false,
    "memoryGiB": 4,
    "name": "ml.t3.medium",
    "vcpuNum": 2
   },
   {
    "_defaultOrder": 1,
    "_isFastLaunch": false,
    "category": "General purpose",
    "gpuNum": 0,
    "hideHardwareSpecs": false,
    "memoryGiB": 8,
    "name": "ml.t3.large",
    "vcpuNum": 2
   },
   {
    "_defaultOrder": 2,
    "_isFastLaunch": false,
    "category": "General purpose",
    "gpuNum": 0,
    "hideHardwareSpecs": false,
    "memoryGiB": 16,
    "name": "ml.t3.xlarge",
    "vcpuNum": 4
   },
   {
    "_defaultOrder": 3,
    "_isFastLaunch": false,
    "category": "General purpose",
    "gpuNum": 0,
    "hideHardwareSpecs": false,
    "memoryGiB": 32,
    "name": "ml.t3.2xlarge",
    "vcpuNum": 8
   },
   {
    "_defaultOrder": 4,
    "_isFastLaunch": true,
    "category": "General purpose",
    "gpuNum": 0,
    "hideHardwareSpecs": false,
    "memoryGiB": 8,
    "name": "ml.m5.large",
    "vcpuNum": 2
   },
   {
    "_defaultOrder": 5,
    "_isFastLaunch": false,
    "category": "General purpose",
    "gpuNum": 0,
    "hideHardwareSpecs": false,
    "memoryGiB": 16,
    "name": "ml.m5.xlarge",
    "vcpuNum": 4
   },
   {
    "_defaultOrder": 6,
    "_isFastLaunch": false,
    "category": "General purpose",
    "gpuNum": 0,
    "hideHardwareSpecs": false,
    "memoryGiB": 32,
    "name": "ml.m5.2xlarge",
    "vcpuNum": 8
   },
   {
    "_defaultOrder": 7,
    "_isFastLaunch": false,
    "category": "General purpose",
    "gpuNum": 0,
    "hideHardwareSpecs": false,
    "memoryGiB": 64,
    "name": "ml.m5.4xlarge",
    "vcpuNum": 16
   },
   {
    "_defaultOrder": 8,
    "_isFastLaunch": false,
    "category": "General purpose",
    "gpuNum": 0,
    "hideHardwareSpecs": false,
    "memoryGiB": 128,
    "name": "ml.m5.8xlarge",
    "vcpuNum": 32
   },
   {
    "_defaultOrder": 9,
    "_isFastLaunch": false,
    "category": "General purpose",
    "gpuNum": 0,
    "hideHardwareSpecs": false,
    "memoryGiB": 192,
    "name": "ml.m5.12xlarge",
    "vcpuNum": 48
   },
   {
    "_defaultOrder": 10,
    "_isFastLaunch": false,
    "category": "General purpose",
    "gpuNum": 0,
    "hideHardwareSpecs": false,
    "memoryGiB": 256,
    "name": "ml.m5.16xlarge",
    "vcpuNum": 64
   },
   {
    "_defaultOrder": 11,
    "_isFastLaunch": false,
    "category": "General purpose",
    "gpuNum": 0,
    "hideHardwareSpecs": false,
    "memoryGiB": 384,
    "name": "ml.m5.24xlarge",
    "vcpuNum": 96
   },
   {
    "_defaultOrder": 12,
    "_isFastLaunch": false,
    "category": "General purpose",
    "gpuNum": 0,
    "hideHardwareSpecs": false,
    "memoryGiB": 8,
    "name": "ml.m5d.large",
    "vcpuNum": 2
   },
   {
    "_defaultOrder": 13,
    "_isFastLaunch": false,
    "category": "General purpose",
    "gpuNum": 0,
    "hideHardwareSpecs": false,
    "memoryGiB": 16,
    "name": "ml.m5d.xlarge",
    "vcpuNum": 4
   },
   {
    "_defaultOrder": 14,
    "_isFastLaunch": false,
    "category": "General purpose",
    "gpuNum": 0,
    "hideHardwareSpecs": false,
    "memoryGiB": 32,
    "name": "ml.m5d.2xlarge",
    "vcpuNum": 8
   },
   {
    "_defaultOrder": 15,
    "_isFastLaunch": false,
    "category": "General purpose",
    "gpuNum": 0,
    "hideHardwareSpecs": false,
    "memoryGiB": 64,
    "name": "ml.m5d.4xlarge",
    "vcpuNum": 16
   },
   {
    "_defaultOrder": 16,
    "_isFastLaunch": false,
    "category": "General purpose",
    "gpuNum": 0,
    "hideHardwareSpecs": false,
    "memoryGiB": 128,
    "name": "ml.m5d.8xlarge",
    "vcpuNum": 32
   },
   {
    "_defaultOrder": 17,
    "_isFastLaunch": false,
    "category": "General purpose",
    "gpuNum": 0,
    "hideHardwareSpecs": false,
    "memoryGiB": 192,
    "name": "ml.m5d.12xlarge",
    "vcpuNum": 48
   },
   {
    "_defaultOrder": 18,
    "_isFastLaunch": false,
    "category": "General purpose",
    "gpuNum": 0,
    "hideHardwareSpecs": false,
    "memoryGiB": 256,
    "name": "ml.m5d.16xlarge",
    "vcpuNum": 64
   },
   {
    "_defaultOrder": 19,
    "_isFastLaunch": false,
    "category": "General purpose",
    "gpuNum": 0,
    "hideHardwareSpecs": false,
    "memoryGiB": 384,
    "name": "ml.m5d.24xlarge",
    "vcpuNum": 96
   },
   {
    "_defaultOrder": 20,
    "_isFastLaunch": false,
    "category": "General purpose",
    "gpuNum": 0,
    "hideHardwareSpecs": true,
    "memoryGiB": 0,
    "name": "ml.geospatial.interactive",
    "supportedImageNames": [
     "sagemaker-geospatial-v1-0"
    ],
    "vcpuNum": 0
   },
   {
    "_defaultOrder": 21,
    "_isFastLaunch": true,
    "category": "Compute optimized",
    "gpuNum": 0,
    "hideHardwareSpecs": false,
    "memoryGiB": 4,
    "name": "ml.c5.large",
    "vcpuNum": 2
   },
   {
    "_defaultOrder": 22,
    "_isFastLaunch": false,
    "category": "Compute optimized",
    "gpuNum": 0,
    "hideHardwareSpecs": false,
    "memoryGiB": 8,
    "name": "ml.c5.xlarge",
    "vcpuNum": 4
   },
   {
    "_defaultOrder": 23,
    "_isFastLaunch": false,
    "category": "Compute optimized",
    "gpuNum": 0,
    "hideHardwareSpecs": false,
    "memoryGiB": 16,
    "name": "ml.c5.2xlarge",
    "vcpuNum": 8
   },
   {
    "_defaultOrder": 24,
    "_isFastLaunch": false,
    "category": "Compute optimized",
    "gpuNum": 0,
    "hideHardwareSpecs": false,
    "memoryGiB": 32,
    "name": "ml.c5.4xlarge",
    "vcpuNum": 16
   },
   {
    "_defaultOrder": 25,
    "_isFastLaunch": false,
    "category": "Compute optimized",
    "gpuNum": 0,
    "hideHardwareSpecs": false,
    "memoryGiB": 72,
    "name": "ml.c5.9xlarge",
    "vcpuNum": 36
   },
   {
    "_defaultOrder": 26,
    "_isFastLaunch": false,
    "category": "Compute optimized",
    "gpuNum": 0,
    "hideHardwareSpecs": false,
    "memoryGiB": 96,
    "name": "ml.c5.12xlarge",
    "vcpuNum": 48
   },
   {
    "_defaultOrder": 27,
    "_isFastLaunch": false,
    "category": "Compute optimized",
    "gpuNum": 0,
    "hideHardwareSpecs": false,
    "memoryGiB": 144,
    "name": "ml.c5.18xlarge",
    "vcpuNum": 72
   },
   {
    "_defaultOrder": 28,
    "_isFastLaunch": false,
    "category": "Compute optimized",
    "gpuNum": 0,
    "hideHardwareSpecs": false,
    "memoryGiB": 192,
    "name": "ml.c5.24xlarge",
    "vcpuNum": 96
   },
   {
    "_defaultOrder": 29,
    "_isFastLaunch": true,
    "category": "Accelerated computing",
    "gpuNum": 1,
    "hideHardwareSpecs": false,
    "memoryGiB": 16,
    "name": "ml.g4dn.xlarge",
    "vcpuNum": 4
   },
   {
    "_defaultOrder": 30,
    "_isFastLaunch": false,
    "category": "Accelerated computing",
    "gpuNum": 1,
    "hideHardwareSpecs": false,
    "memoryGiB": 32,
    "name": "ml.g4dn.2xlarge",
    "vcpuNum": 8
   },
   {
    "_defaultOrder": 31,
    "_isFastLaunch": false,
    "category": "Accelerated computing",
    "gpuNum": 1,
    "hideHardwareSpecs": false,
    "memoryGiB": 64,
    "name": "ml.g4dn.4xlarge",
    "vcpuNum": 16
   },
   {
    "_defaultOrder": 32,
    "_isFastLaunch": false,
    "category": "Accelerated computing",
    "gpuNum": 1,
    "hideHardwareSpecs": false,
    "memoryGiB": 128,
    "name": "ml.g4dn.8xlarge",
    "vcpuNum": 32
   },
   {
    "_defaultOrder": 33,
    "_isFastLaunch": false,
    "category": "Accelerated computing",
    "gpuNum": 4,
    "hideHardwareSpecs": false,
    "memoryGiB": 192,
    "name": "ml.g4dn.12xlarge",
    "vcpuNum": 48
   },
   {
    "_defaultOrder": 34,
    "_isFastLaunch": false,
    "category": "Accelerated computing",
    "gpuNum": 1,
    "hideHardwareSpecs": false,
    "memoryGiB": 256,
    "name": "ml.g4dn.16xlarge",
    "vcpuNum": 64
   },
   {
    "_defaultOrder": 35,
    "_isFastLaunch": false,
    "category": "Accelerated computing",
    "gpuNum": 1,
    "hideHardwareSpecs": false,
    "memoryGiB": 61,
    "name": "ml.p3.2xlarge",
    "vcpuNum": 8
   },
   {
    "_defaultOrder": 36,
    "_isFastLaunch": false,
    "category": "Accelerated computing",
    "gpuNum": 4,
    "hideHardwareSpecs": false,
    "memoryGiB": 244,
    "name": "ml.p3.8xlarge",
    "vcpuNum": 32
   },
   {
    "_defaultOrder": 37,
    "_isFastLaunch": false,
    "category": "Accelerated computing",
    "gpuNum": 8,
    "hideHardwareSpecs": false,
    "memoryGiB": 488,
    "name": "ml.p3.16xlarge",
    "vcpuNum": 64
   },
   {
    "_defaultOrder": 38,
    "_isFastLaunch": false,
    "category": "Accelerated computing",
    "gpuNum": 8,
    "hideHardwareSpecs": false,
    "memoryGiB": 768,
    "name": "ml.p3dn.24xlarge",
    "vcpuNum": 96
   },
   {
    "_defaultOrder": 39,
    "_isFastLaunch": false,
    "category": "Memory Optimized",
    "gpuNum": 0,
    "hideHardwareSpecs": false,
    "memoryGiB": 16,
    "name": "ml.r5.large",
    "vcpuNum": 2
   },
   {
    "_defaultOrder": 40,
    "_isFastLaunch": false,
    "category": "Memory Optimized",
    "gpuNum": 0,
    "hideHardwareSpecs": false,
    "memoryGiB": 32,
    "name": "ml.r5.xlarge",
    "vcpuNum": 4
   },
   {
    "_defaultOrder": 41,
    "_isFastLaunch": false,
    "category": "Memory Optimized",
    "gpuNum": 0,
    "hideHardwareSpecs": false,
    "memoryGiB": 64,
    "name": "ml.r5.2xlarge",
    "vcpuNum": 8
   },
   {
    "_defaultOrder": 42,
    "_isFastLaunch": false,
    "category": "Memory Optimized",
    "gpuNum": 0,
    "hideHardwareSpecs": false,
    "memoryGiB": 128,
    "name": "ml.r5.4xlarge",
    "vcpuNum": 16
   },
   {
    "_defaultOrder": 43,
    "_isFastLaunch": false,
    "category": "Memory Optimized",
    "gpuNum": 0,
    "hideHardwareSpecs": false,
    "memoryGiB": 256,
    "name": "ml.r5.8xlarge",
    "vcpuNum": 32
   },
   {
    "_defaultOrder": 44,
    "_isFastLaunch": false,
    "category": "Memory Optimized",
    "gpuNum": 0,
    "hideHardwareSpecs": false,
    "memoryGiB": 384,
    "name": "ml.r5.12xlarge",
    "vcpuNum": 48
   },
   {
    "_defaultOrder": 45,
    "_isFastLaunch": false,
    "category": "Memory Optimized",
    "gpuNum": 0,
    "hideHardwareSpecs": false,
    "memoryGiB": 512,
    "name": "ml.r5.16xlarge",
    "vcpuNum": 64
   },
   {
    "_defaultOrder": 46,
    "_isFastLaunch": false,
    "category": "Memory Optimized",
    "gpuNum": 0,
    "hideHardwareSpecs": false,
    "memoryGiB": 768,
    "name": "ml.r5.24xlarge",
    "vcpuNum": 96
   },
   {
    "_defaultOrder": 47,
    "_isFastLaunch": false,
    "category": "Accelerated computing",
    "gpuNum": 1,
    "hideHardwareSpecs": false,
    "memoryGiB": 16,
    "name": "ml.g5.xlarge",
    "vcpuNum": 4
   },
   {
    "_defaultOrder": 48,
    "_isFastLaunch": false,
    "category": "Accelerated computing",
    "gpuNum": 1,
    "hideHardwareSpecs": false,
    "memoryGiB": 32,
    "name": "ml.g5.2xlarge",
    "vcpuNum": 8
   },
   {
    "_defaultOrder": 49,
    "_isFastLaunch": false,
    "category": "Accelerated computing",
    "gpuNum": 1,
    "hideHardwareSpecs": false,
    "memoryGiB": 64,
    "name": "ml.g5.4xlarge",
    "vcpuNum": 16
   },
   {
    "_defaultOrder": 50,
    "_isFastLaunch": false,
    "category": "Accelerated computing",
    "gpuNum": 1,
    "hideHardwareSpecs": false,
    "memoryGiB": 128,
    "name": "ml.g5.8xlarge",
    "vcpuNum": 32
   },
   {
    "_defaultOrder": 51,
    "_isFastLaunch": false,
    "category": "Accelerated computing",
    "gpuNum": 1,
    "hideHardwareSpecs": false,
    "memoryGiB": 256,
    "name": "ml.g5.16xlarge",
    "vcpuNum": 64
   },
   {
    "_defaultOrder": 52,
    "_isFastLaunch": false,
    "category": "Accelerated computing",
    "gpuNum": 4,
    "hideHardwareSpecs": false,
    "memoryGiB": 192,
    "name": "ml.g5.12xlarge",
    "vcpuNum": 48
   },
   {
    "_defaultOrder": 53,
    "_isFastLaunch": false,
    "category": "Accelerated computing",
    "gpuNum": 4,
    "hideHardwareSpecs": false,
    "memoryGiB": 384,
    "name": "ml.g5.24xlarge",
    "vcpuNum": 96
   },
   {
    "_defaultOrder": 54,
    "_isFastLaunch": false,
    "category": "Accelerated computing",
    "gpuNum": 8,
    "hideHardwareSpecs": false,
    "memoryGiB": 768,
    "name": "ml.g5.48xlarge",
    "vcpuNum": 192
   },
   {
    "_defaultOrder": 55,
    "_isFastLaunch": false,
    "category": "Accelerated computing",
    "gpuNum": 8,
    "hideHardwareSpecs": false,
    "memoryGiB": 1152,
    "name": "ml.p4d.24xlarge",
    "vcpuNum": 96
   },
   {
    "_defaultOrder": 56,
    "_isFastLaunch": false,
    "category": "Accelerated computing",
    "gpuNum": 8,
    "hideHardwareSpecs": false,
    "memoryGiB": 1152,
    "name": "ml.p4de.24xlarge",
    "vcpuNum": 96
   },
   {
    "_defaultOrder": 57,
    "_isFastLaunch": false,
    "category": "Accelerated computing",
    "gpuNum": 0,
    "hideHardwareSpecs": false,
    "memoryGiB": 32,
    "name": "ml.trn1.2xlarge",
    "vcpuNum": 8
   },
   {
    "_defaultOrder": 58,
    "_isFastLaunch": false,
    "category": "Accelerated computing",
    "gpuNum": 0,
    "hideHardwareSpecs": false,
    "memoryGiB": 512,
    "name": "ml.trn1.32xlarge",
    "vcpuNum": 128
   },
   {
    "_defaultOrder": 59,
    "_isFastLaunch": false,
    "category": "Accelerated computing",
    "gpuNum": 0,
    "hideHardwareSpecs": false,
    "memoryGiB": 512,
    "name": "ml.trn1n.32xlarge",
    "vcpuNum": 128
   }
  ],
  "instance_type": "ml.g4dn.xlarge",
  "kernelspec": {
   "display_name": "Python 3 (PyTorch 2.0.0 Python 3.10 GPU Optimized)",
   "language": "python",
   "name": "python3__SAGEMAKER_INTERNAL__arn:aws:sagemaker:us-east-1:081325390199:image/pytorch-2.0.0-gpu-py310"
  },
  "language_info": {
   "codemirror_mode": {
    "name": "ipython",
    "version": 3
   },
   "file_extension": ".py",
   "mimetype": "text/x-python",
   "name": "python",
   "nbconvert_exporter": "python",
   "pygments_lexer": "ipython3",
   "version": "3.10.8"
  }
 },
 "nbformat": 4,
 "nbformat_minor": 5
}
