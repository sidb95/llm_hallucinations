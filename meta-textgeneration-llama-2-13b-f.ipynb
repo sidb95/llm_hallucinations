{
 "cells": [
  {
   "cell_type": "markdown",
   "metadata": {},
   "source": [
    "## Run inference on the Llama 2 endpoint you have created"
   ]
  },
  {
   "cell_type": "markdown",
   "metadata": {},
   "source": [
    "### Query endpoint that you have created\n",
    "***\n",
    "The following cell provides a helper function that will be used to query your endpoint with boto3.\n",
    "***"
   ]
  },
  {
   "cell_type": "code",
   "execution_count": null,
   "metadata": {
    "collapsed": false,
    "jupyter": {
     "outputs_hidden": false
    },
    "tags": []
   },
   "outputs": [],
   "source": [
    "import json\n",
    "import boto3\n",
    "\n",
    "\n",
    "endpoint_name = \"jumpstart-dft-meta-textgeneration-llama-2-13b-f\"\n",
    "\n",
    "def query_endpoint(payload):\n",
    "    client = boto3.client(\"sagemaker-runtime\")\n",
    "    response = client.invoke_endpoint(\n",
    "        EndpointName=endpoint_name,\n",
    "        ContentType=\"application/json\",\n",
    "        Body=json.dumps(payload),\n",
    "    )\n",
    "    response = response[\"Body\"].read().decode(\"utf8\")\n",
    "    response = json.loads(response)\n",
    "    return response"
   ]
  },
  {
   "cell_type": "markdown",
   "metadata": {},
   "source": [
    "### Supported Parameters\n",
    "\n",
    "***\n",
    "This model supports many parameters while performing inference. They include:\n",
    "\n",
    "* **max_length:** Model generates text until the output length (which includes the input context length) reaches `max_length`. If specified, it must be a positive integer.\n",
    "* **max_new_tokens:** Model generates text until the output length (excluding the input context length) reaches `max_new_tokens`. If specified, it must be a positive integer.\n",
    "* **num_beams:** Number of beams used in the greedy search. If specified, it must be integer greater than or equal to `num_return_sequences`.\n",
    "* **no_repeat_ngram_size:** Model ensures that a sequence of words of `no_repeat_ngram_size` is not repeated in the output sequence. If specified, it must be a positive integer greater than 1.\n",
    "* **temperature:** Controls the randomness in the output. Higher temperature results in output sequence with low-probability words and lower temperature results in output sequence with high-probability words. If `temperature` -> 0, it results in greedy decoding. If specified, it must be a positive float.\n",
    "* **early_stopping:** If True, text generation is finished when all beam hypotheses reach the end of sentence token. If specified, it must be boolean.\n",
    "* **do_sample:** If True, sample the next word as per the likelihood. If specified, it must be boolean.\n",
    "* **top_k:** In each step of text generation, sample from only the `top_k` most likely words. If specified, it must be a positive integer.\n",
    "* **top_p:** In each step of text generation, sample from the smallest possible set of words with cumulative probability `top_p`. If specified, it must be a float between 0 and 1.\n",
    "* **return_full_text:** If True, input text will be part of the output generated text. If specified, it must be boolean. The default value for it is False.\n",
    "* **stop**: If specified, it must be a list of strings. Text generation stops if any one of the specified strings is generated.\n",
    "\n",
    "We may specify any subset of the parameters mentioned above while invoking an endpoint. Next, we show an example of how to invoke endpoint with these arguments.\n",
    "\n",
    "**NOTE**: If `max_new_tokens` is not defined, the model may generate up to the maximum total tokens allowed, which is 4K for these models. This may result in endpoint query timeout errors, so it is recommended to set `max_new_tokens` when possible. For 7B, 13B, and 70B models, we recommend to set `max_new_tokens` no greater than 1500, 1000, and 500 respectively, while keeping the total number of tokens less than 4K.\n",
    "\n",
    "**NOTE**: This model only supports 'system', 'user' and 'assistant' roles, starting with 'system', then 'user' and alternating (u/a/u/a/u...).\n",
    "\n",
    "***"
   ]
  },
  {
   "cell_type": "markdown",
   "metadata": {},
   "source": [
    "### Example prompts\n",
    "***\n",
    "The examples in this section demonstrate how to perform text generation with conversational dialog as prompt inputs. First, define a helper function to appropriately format conversational dialog for Llama-2 chat models.\n",
    "***"
   ]
  },
  {
   "cell_type": "code",
   "execution_count": 43,
   "metadata": {
    "tags": []
   },
   "outputs": [],
   "source": [
    "from typing import Dict, List\n",
    "\n",
    "\n",
    "def format_messages(messages: List[Dict[str, str]]) -> List[str]:\n",
    "    \"\"\"Format messages for Llama-2 chat models.\n",
    "    \n",
    "    The model only supports 'system', 'user' and 'assistant' roles, starting with 'system', then 'user' and \n",
    "    alternating (u/a/u/a/u...). The last message must be from 'user'.\n",
    "    \"\"\"\n",
    "    prompt: List[str] = []\n",
    "\n",
    "    if messages[0][\"role\"] == \"system\":\n",
    "        content = \"\".join([\"<<SYS>>\\n\", messages[0][\"content\"], \"\\n<</SYS>>\\n\\n\", messages[1][\"content\"]])\n",
    "        messages = [{\"role\": messages[1][\"role\"], \"content\": content}] + messages[2:]\n",
    "\n",
    "    for user, answer in zip(messages[::2], messages[1::2]):\n",
    "        prompt.extend([\"<s>\", \"[INST] \", (user[\"content\"]).strip(), \" [/INST] \", (answer[\"content\"]).strip(), \"</s>\"])\n",
    "\n",
    "    prompt.extend([\"<s>\", \"[INST] \", (messages[-1][\"content\"]).strip(), \" [/INST] \"])\n",
    "\n",
    "    return \"\".join(prompt)\n",
    "\n",
    "\n",
    "def print_messages(prompt: str, response: str) -> None:\n",
    "    bold, unbold = '\\033[1m', '\\033[0m'\n",
    "    print(f\"{bold}> Input{unbold}\\n{prompt}\\n\\n{bold}> Output{unbold}\\n{response[0]['generated_text']}\\n\")\n",
    "    \n",
    "def get_response(prompt: str, response: str) -> None:\n",
    "    bold, unbold = '\\033[1m', '\\033[0m'\n",
    "    print(f\"> Output{unbold}\\n{response[0]['generated_text']}\\n\")\n",
    "    return response[0]['generated_text']"
   ]
  },
  {
   "cell_type": "code",
   "execution_count": 44,
   "metadata": {
    "tags": []
   },
   "outputs": [
    {
     "ename": "ValidationError",
     "evalue": "An error occurred (ValidationError) when calling the InvokeEndpoint operation: Endpoint jumpstart-dft-meta-textgeneration-llama-2-13b-f of account 275461957965 not found.",
     "output_type": "error",
     "traceback": [
      "\u001b[0;31m---------------------------------------------------------------------------\u001b[0m",
      "\u001b[0;31mValidationError\u001b[0m                           Traceback (most recent call last)",
      "Cell \u001b[0;32mIn[44], line 4\u001b[0m\n\u001b[1;32m      2\u001b[0m prompt \u001b[38;5;241m=\u001b[39m format_messages(dialog)\n\u001b[1;32m      3\u001b[0m payload \u001b[38;5;241m=\u001b[39m {\u001b[38;5;124m\"\u001b[39m\u001b[38;5;124minputs\u001b[39m\u001b[38;5;124m\"\u001b[39m: prompt, \u001b[38;5;124m\"\u001b[39m\u001b[38;5;124mparameters\u001b[39m\u001b[38;5;124m\"\u001b[39m: {\u001b[38;5;124m\"\u001b[39m\u001b[38;5;124mmax_new_tokens\u001b[39m\u001b[38;5;124m\"\u001b[39m: \u001b[38;5;241m256\u001b[39m, \u001b[38;5;124m\"\u001b[39m\u001b[38;5;124mtop_p\u001b[39m\u001b[38;5;124m\"\u001b[39m: \u001b[38;5;241m0.9\u001b[39m, \u001b[38;5;124m\"\u001b[39m\u001b[38;5;124mtemperature\u001b[39m\u001b[38;5;124m\"\u001b[39m: \u001b[38;5;241m0.6\u001b[39m}}\n\u001b[0;32m----> 4\u001b[0m response \u001b[38;5;241m=\u001b[39m \u001b[43mquery_endpoint\u001b[49m\u001b[43m(\u001b[49m\u001b[43mpayload\u001b[49m\u001b[43m)\u001b[49m\n\u001b[1;32m      5\u001b[0m print_messages(prompt, response)\n",
      "Cell \u001b[0;32mIn[42], line 9\u001b[0m, in \u001b[0;36mquery_endpoint\u001b[0;34m(payload)\u001b[0m\n\u001b[1;32m      7\u001b[0m \u001b[38;5;28;01mdef\u001b[39;00m \u001b[38;5;21mquery_endpoint\u001b[39m(payload):\n\u001b[1;32m      8\u001b[0m     client \u001b[38;5;241m=\u001b[39m boto3\u001b[38;5;241m.\u001b[39mclient(\u001b[38;5;124m\"\u001b[39m\u001b[38;5;124msagemaker-runtime\u001b[39m\u001b[38;5;124m\"\u001b[39m)\n\u001b[0;32m----> 9\u001b[0m     response \u001b[38;5;241m=\u001b[39m \u001b[43mclient\u001b[49m\u001b[38;5;241;43m.\u001b[39;49m\u001b[43minvoke_endpoint\u001b[49m\u001b[43m(\u001b[49m\n\u001b[1;32m     10\u001b[0m \u001b[43m        \u001b[49m\u001b[43mEndpointName\u001b[49m\u001b[38;5;241;43m=\u001b[39;49m\u001b[43mendpoint_name\u001b[49m\u001b[43m,\u001b[49m\n\u001b[1;32m     11\u001b[0m \u001b[43m        \u001b[49m\u001b[43mContentType\u001b[49m\u001b[38;5;241;43m=\u001b[39;49m\u001b[38;5;124;43m\"\u001b[39;49m\u001b[38;5;124;43mapplication/json\u001b[39;49m\u001b[38;5;124;43m\"\u001b[39;49m\u001b[43m,\u001b[49m\n\u001b[1;32m     12\u001b[0m \u001b[43m        \u001b[49m\u001b[43mBody\u001b[49m\u001b[38;5;241;43m=\u001b[39;49m\u001b[43mjson\u001b[49m\u001b[38;5;241;43m.\u001b[39;49m\u001b[43mdumps\u001b[49m\u001b[43m(\u001b[49m\u001b[43mpayload\u001b[49m\u001b[43m)\u001b[49m\u001b[43m,\u001b[49m\n\u001b[1;32m     13\u001b[0m \u001b[43m    \u001b[49m\u001b[43m)\u001b[49m\n\u001b[1;32m     14\u001b[0m     response \u001b[38;5;241m=\u001b[39m response[\u001b[38;5;124m\"\u001b[39m\u001b[38;5;124mBody\u001b[39m\u001b[38;5;124m\"\u001b[39m]\u001b[38;5;241m.\u001b[39mread()\u001b[38;5;241m.\u001b[39mdecode(\u001b[38;5;124m\"\u001b[39m\u001b[38;5;124mutf8\u001b[39m\u001b[38;5;124m\"\u001b[39m)\n\u001b[1;32m     15\u001b[0m     response \u001b[38;5;241m=\u001b[39m json\u001b[38;5;241m.\u001b[39mloads(response)\n",
      "File \u001b[0;32m/opt/conda/lib/python3.10/site-packages/botocore/client.py:530\u001b[0m, in \u001b[0;36mClientCreator._create_api_method.<locals>._api_call\u001b[0;34m(self, *args, **kwargs)\u001b[0m\n\u001b[1;32m    526\u001b[0m     \u001b[38;5;28;01mraise\u001b[39;00m \u001b[38;5;167;01mTypeError\u001b[39;00m(\n\u001b[1;32m    527\u001b[0m         \u001b[38;5;124mf\u001b[39m\u001b[38;5;124m\"\u001b[39m\u001b[38;5;132;01m{\u001b[39;00mpy_operation_name\u001b[38;5;132;01m}\u001b[39;00m\u001b[38;5;124m() only accepts keyword arguments.\u001b[39m\u001b[38;5;124m\"\u001b[39m\n\u001b[1;32m    528\u001b[0m     )\n\u001b[1;32m    529\u001b[0m \u001b[38;5;66;03m# The \"self\" in this scope is referring to the BaseClient.\u001b[39;00m\n\u001b[0;32m--> 530\u001b[0m \u001b[38;5;28;01mreturn\u001b[39;00m \u001b[38;5;28;43mself\u001b[39;49m\u001b[38;5;241;43m.\u001b[39;49m\u001b[43m_make_api_call\u001b[49m\u001b[43m(\u001b[49m\u001b[43moperation_name\u001b[49m\u001b[43m,\u001b[49m\u001b[43m \u001b[49m\u001b[43mkwargs\u001b[49m\u001b[43m)\u001b[49m\n",
      "File \u001b[0;32m/opt/conda/lib/python3.10/site-packages/botocore/client.py:960\u001b[0m, in \u001b[0;36mBaseClient._make_api_call\u001b[0;34m(self, operation_name, api_params)\u001b[0m\n\u001b[1;32m    958\u001b[0m     error_code \u001b[38;5;241m=\u001b[39m parsed_response\u001b[38;5;241m.\u001b[39mget(\u001b[38;5;124m\"\u001b[39m\u001b[38;5;124mError\u001b[39m\u001b[38;5;124m\"\u001b[39m, {})\u001b[38;5;241m.\u001b[39mget(\u001b[38;5;124m\"\u001b[39m\u001b[38;5;124mCode\u001b[39m\u001b[38;5;124m\"\u001b[39m)\n\u001b[1;32m    959\u001b[0m     error_class \u001b[38;5;241m=\u001b[39m \u001b[38;5;28mself\u001b[39m\u001b[38;5;241m.\u001b[39mexceptions\u001b[38;5;241m.\u001b[39mfrom_code(error_code)\n\u001b[0;32m--> 960\u001b[0m     \u001b[38;5;28;01mraise\u001b[39;00m error_class(parsed_response, operation_name)\n\u001b[1;32m    961\u001b[0m \u001b[38;5;28;01melse\u001b[39;00m:\n\u001b[1;32m    962\u001b[0m     \u001b[38;5;28;01mreturn\u001b[39;00m parsed_response\n",
      "\u001b[0;31mValidationError\u001b[0m: An error occurred (ValidationError) when calling the InvokeEndpoint operation: Endpoint jumpstart-dft-meta-textgeneration-llama-2-13b-f of account 275461957965 not found."
     ]
    }
   ],
   "source": [
    "dialog = [{\"role\": \"user\", \"content\": \"what is the recipe of mayonnaise?\"}]\n",
    "prompt = format_messages(dialog)\n",
    "payload = {\"inputs\": prompt, \"parameters\": {\"max_new_tokens\": 256, \"top_p\": 0.9, \"temperature\": 0.6}}\n",
    "response = query_endpoint(payload)\n",
    "print_messages(prompt, response)"
   ]
  },
  {
   "cell_type": "code",
   "execution_count": 5,
   "metadata": {
    "tags": []
   },
   "outputs": [
    {
     "name": "stdout",
     "output_type": "stream",
     "text": [
      "\u001b[1m> Input\u001b[0m\n",
      "<s>[INST] I am going to Paris, what should I see? [/INST] Paris, the capital of France, is known for its stunning architecture, art museums, historical landmarks, and romantic atmosphere. Here are some of the top attractions to see in Paris:\n",
      "\n",
      "1. The Eiffel Tower: The iconic Eiffel Tower is one of the most recognizable landmarks in the world and offers breathtaking views of the city.\n",
      "2. The Louvre Museum: The Louvre is one of the world's largest and most famous museums, housing an impressive collection of art and artifacts, including the Mona Lisa.\n",
      "3. Notre-Dame Cathedral: This beautiful cathedral is one of the most famous landmarks in Paris and is known for its Gothic architecture and stunning stained glass windows.\n",
      "\n",
      "These are just a few of the many attractions that Paris has to offer. With so much to see and do, it's no wonder that Paris is one of the most popular tourist destinations in the world.</s><s>[INST] What is so great about #1? [/INST] \n",
      "\n",
      "\u001b[1m> Output\u001b[0m\n",
      "There are many reasons why the Eiffel Tower is one of the most famous and beloved landmarks in Paris:\n",
      "\n",
      "1. Iconic design: The Eiffel Tower is an iconic symbol of Paris and one of the most recognizable landmarks in the world. Its unique design, with its lattice-like structure and soaring height, makes it a standout feature of the city's skyline.\n",
      "2. Historical significance: The Eiffel Tower was built for the World's Fair in 1889 and was originally intended to be a temporary structure. However, it became an instant icon of Paris and a symbol of French culture and engineering ingenuity.\n",
      "3. Panoramic views: The Eiffel Tower offers stunning panoramic views of the city, which can be enjoyed from the observation decks on the first and second levels. Visitors can see the entire city spread out before them, from the Arc de Triomphe to the Montmartre neighborhood.\n",
      "4. Romantic atmosphere: The Eiffel Tower is often called the most romantic spot in Paris, and it's easy to see why. The tower's graceful curves and sweeping views make it the\n",
      "\n"
     ]
    }
   ],
   "source": [
    "dialog = [\n",
    "    {\"role\": \"user\", \"content\": \"I am going to Paris, what should I see?\"},\n",
    "    {\n",
    "        \"role\": \"assistant\",\n",
    "        \"content\": \"\"\"\\\n",
    "Paris, the capital of France, is known for its stunning architecture, art museums, historical landmarks, and romantic atmosphere. Here are some of the top attractions to see in Paris:\n",
    "\n",
    "1. The Eiffel Tower: The iconic Eiffel Tower is one of the most recognizable landmarks in the world and offers breathtaking views of the city.\n",
    "2. The Louvre Museum: The Louvre is one of the world's largest and most famous museums, housing an impressive collection of art and artifacts, including the Mona Lisa.\n",
    "3. Notre-Dame Cathedral: This beautiful cathedral is one of the most famous landmarks in Paris and is known for its Gothic architecture and stunning stained glass windows.\n",
    "\n",
    "These are just a few of the many attractions that Paris has to offer. With so much to see and do, it's no wonder that Paris is one of the most popular tourist destinations in the world.\"\"\",\n",
    "    },\n",
    "    {\"role\": \"user\", \"content\": \"What is so great about #1?\"},\n",
    "]\n",
    "prompt = format_messages(dialog)\n",
    "payload = {\"inputs\": prompt, \"parameters\": {\"max_new_tokens\": 256, \"top_p\": 0.9, \"temperature\": 0.6}}\n",
    "response = query_endpoint(payload)\n",
    "print_messages(prompt, response)"
   ]
  },
  {
   "cell_type": "code",
   "execution_count": 6,
   "metadata": {
    "tags": []
   },
   "outputs": [
    {
     "name": "stdout",
     "output_type": "stream",
     "text": [
      "\u001b[1m> Input\u001b[0m\n",
      "<s>[INST] <<SYS>>\n",
      "Always answer with Haiku\n",
      "<</SYS>>\n",
      "\n",
      "I am going to Paris, what should I see? [/INST] \n",
      "\n",
      "\u001b[1m> Output\u001b[0m\n",
      "Eiffel Tower shines bright\n",
      "River Seine's gentle flow\n",
      "Art, love, and light\n",
      "\n"
     ]
    }
   ],
   "source": [
    "dialog = [\n",
    "    {\"role\": \"system\", \"content\": \"Always answer with Haiku\"},\n",
    "    {\"role\": \"user\", \"content\": \"I am going to Paris, what should I see?\"},\n",
    "]\n",
    "prompt = format_messages(dialog)\n",
    "payload = {\"inputs\": prompt, \"parameters\": {\"max_new_tokens\": 256, \"top_p\": 0.9, \"temperature\": 0.6}}\n",
    "response = query_endpoint(payload)\n",
    "print_messages(prompt, response)"
   ]
  },
  {
   "cell_type": "code",
   "execution_count": 7,
   "metadata": {
    "tags": []
   },
   "outputs": [
    {
     "name": "stdout",
     "output_type": "stream",
     "text": [
      "\u001b[1m> Input\u001b[0m\n",
      "<s>[INST] <<SYS>>\n",
      "Always answer with emojis\n",
      "<</SYS>>\n",
      "\n",
      "How to go from Beijing to NY? [/INST] \n",
      "\n",
      "\u001b[1m> Output\u001b[0m\n",
      "Here's the answer to your question about how to go from Beijing to New York:\n",
      "\n",
      "🚀👽💨\n",
      "\n"
     ]
    }
   ],
   "source": [
    "dialog = [\n",
    "    {\"role\": \"system\", \"content\": \"Always answer with emojis\"},\n",
    "    {\"role\": \"user\", \"content\": \"How to go from Beijing to NY?\"},\n",
    "]\n",
    "prompt = format_messages(dialog)\n",
    "payload = {\"inputs\": prompt, \"parameters\": {\"max_new_tokens\": 256, \"top_p\": 0.9, \"temperature\": 0.6}}\n",
    "response = query_endpoint(payload)\n",
    "print_messages(prompt, response)"
   ]
  },
  {
   "cell_type": "markdown",
   "metadata": {},
   "source": [
    "Setup Amazon Product Description Dataset Pipeline"
   ]
  },
  {
   "cell_type": "code",
   "execution_count": 8,
   "metadata": {
    "tags": []
   },
   "outputs": [],
   "source": [
    "import os\n",
    "import json\n",
    "import gzip\n",
    "import pandas as pd\n",
    "from urllib.request import urlopen\n",
    "import numpy as np"
   ]
  },
  {
   "cell_type": "markdown",
   "metadata": {},
   "source": [
    "Loading metadata of Amazon Fashion dataset"
   ]
  },
  {
   "cell_type": "code",
   "execution_count": 20,
   "metadata": {
    "tags": []
   },
   "outputs": [
    {
     "name": "stdout",
     "output_type": "stream",
     "text": [
      "186637\n",
      "{'title': 'Slime Time Fall Fest [With CDROM and Collector Cards and Neutron Balls, Incredi-Ball and Glow Stick Necklace, Paper Fram', 'brand': 'Group Publishing (CO)', 'feature': ['Product Dimensions:\\n                    \\n8.7 x 3.6 x 11.4 inches', 'Shipping Weight:\\n                    \\n2.4 pounds'], 'rank': '13,052,976inClothing,Shoesamp;Jewelry(', 'date': '8.70 inches', 'asin': '0764443682', 'imageURL': ['https://images-na.ssl-images-amazon.com/images/I/51bSrINiWpL._US40_.jpg'], 'imageURLHighRes': ['https://images-na.ssl-images-amazon.com/images/I/51bSrINiWpL.jpg']}\n"
     ]
    }
   ],
   "source": [
    "### load the meta data\n",
    "\n",
    "data = []\n",
    "with gzip.open('meta_AMAZON_FASHION.json.gz') as f:\n",
    "    for l in f:\n",
    "        data.append(json.loads(l.strip()))\n",
    "    \n",
    "# total length of list, this number equals total number of products\n",
    "print(len(data))\n",
    "\n",
    "# first row of the list\n",
    "print(data[0])"
   ]
  },
  {
   "cell_type": "code",
   "execution_count": 21,
   "metadata": {
    "tags": []
   },
   "outputs": [
    {
     "name": "stdout",
     "output_type": "stream",
     "text": [
      "186637\n"
     ]
    }
   ],
   "source": [
    "# convert list into pandas dataframe\n",
    "\n",
    "df = pd.DataFrame.from_dict(data)\n",
    "\n",
    "print(len(df))"
   ]
  },
  {
   "cell_type": "code",
   "execution_count": 22,
   "metadata": {
    "tags": []
   },
   "outputs": [],
   "source": [
    "# Filter rows where column 'A' is not null\n",
    "filtered_df = df[df['description'].notnull()]"
   ]
  },
  {
   "cell_type": "code",
   "execution_count": 23,
   "metadata": {
    "tags": []
   },
   "outputs": [
    {
     "name": "stdout",
     "output_type": "stream",
     "text": [
      "Index(['title', 'brand', 'feature', 'rank', 'date', 'asin', 'imageURL',\n",
      "       'imageURLHighRes', 'description', 'price', 'also_view', 'also_buy',\n",
      "       'fit', 'details', 'similar_item', 'tech1'],\n",
      "      dtype='object')\n"
     ]
    }
   ],
   "source": [
    "# List all columns\n",
    "column_names = df.columns\n",
    "\n",
    "print(column_names)"
   ]
  },
  {
   "cell_type": "code",
   "execution_count": 24,
   "metadata": {
    "tags": []
   },
   "outputs": [],
   "source": [
    "filtered_df = filtered_df[['title', 'brand', 'feature', 'description', 'price']]"
   ]
  },
  {
   "cell_type": "code",
   "execution_count": 25,
   "metadata": {
    "tags": []
   },
   "outputs": [],
   "source": [
    "filtered_df = filtered_df.dropna(how='any')"
   ]
  },
  {
   "cell_type": "code",
   "execution_count": 26,
   "metadata": {
    "tags": []
   },
   "outputs": [
    {
     "data": {
      "text/html": [
       "<div>\n",
       "<style scoped>\n",
       "    .dataframe tbody tr th:only-of-type {\n",
       "        vertical-align: middle;\n",
       "    }\n",
       "\n",
       "    .dataframe tbody tr th {\n",
       "        vertical-align: top;\n",
       "    }\n",
       "\n",
       "    .dataframe thead th {\n",
       "        text-align: right;\n",
       "    }\n",
       "</style>\n",
       "<table border=\"1\" class=\"dataframe\">\n",
       "  <thead>\n",
       "    <tr style=\"text-align: right;\">\n",
       "      <th></th>\n",
       "      <th>title</th>\n",
       "      <th>brand</th>\n",
       "      <th>feature</th>\n",
       "      <th>description</th>\n",
       "      <th>price</th>\n",
       "    </tr>\n",
       "  </thead>\n",
       "  <tbody>\n",
       "    <tr>\n",
       "      <th>17</th>\n",
       "      <td>X. L. Carbon Fiber Money Clip, made in the USA</td>\n",
       "      <td>Roar Carbon</td>\n",
       "      <td>[Real Carbon Fiber, Made in USA, 5 year warran...</td>\n",
       "      <td>[When you pull out your extra large carbon fib...</td>\n",
       "      <td>$14.99</td>\n",
       "    </tr>\n",
       "    <tr>\n",
       "      <th>18</th>\n",
       "      <td>Shimmer Anne Shine Clip On Costume/Halloween C...</td>\n",
       "      <td>Shimmer Anne Shine</td>\n",
       "      <td>[Shimmer Anne Shine Clip On Costume/Halloween ...</td>\n",
       "      <td>[A fun addition to any costume party, play, or...</td>\n",
       "      <td>$6.99</td>\n",
       "    </tr>\n",
       "    <tr>\n",
       "      <th>69</th>\n",
       "      <td>Buxton Heiress Pik-Me-Up Framed Case</td>\n",
       "      <td>Buxton</td>\n",
       "      <td>[Leather, Imported, synthetic lining, Flap clo...</td>\n",
       "      <td>[Authentic crunch leather with rich floral emb...</td>\n",
       "      <td>$16.95</td>\n",
       "    </tr>\n",
       "    <tr>\n",
       "      <th>331</th>\n",
       "      <td>Art Nouveau Sterling Silver Ornate Repousse He...</td>\n",
       "      <td>Silver Insanity</td>\n",
       "      <td>[2&amp;5/8\" High and 3/4\" Wide, Weight is Approx. ...</td>\n",
       "      <td>[It measures 2&amp;5/8\" tall x 3/4\" wide, weighs a...</td>\n",
       "      <td>$44.66</td>\n",
       "    </tr>\n",
       "    <tr>\n",
       "      <th>410</th>\n",
       "      <td>Dream PJ's Blue - Large - Part #: 25BLG</td>\n",
       "      <td>Ethical/Spot</td>\n",
       "      <td>[Product Dimensions:\\n                    \\n8....</td>\n",
       "      <td>[SOFT AND CUDDLY, SWEET DREAM PAJAMAS IN SOFT ...</td>\n",
       "      <td>$15.99</td>\n",
       "    </tr>\n",
       "    <tr>\n",
       "      <th>...</th>\n",
       "      <td>...</td>\n",
       "      <td>...</td>\n",
       "      <td>...</td>\n",
       "      <td>...</td>\n",
       "      <td>...</td>\n",
       "    </tr>\n",
       "    <tr>\n",
       "      <th>186502</th>\n",
       "      <td>Women's Roman Empress Costume - Greek Goddess ...</td>\n",
       "      <td>Karnival Costumes</td>\n",
       "      <td>[100% polyester, CAN BE USED YEAR ROUND: These...</td>\n",
       "      <td>[Look great in a durable and high quality cost...</td>\n",
       "      <td>$24.99</td>\n",
       "    </tr>\n",
       "    <tr>\n",
       "      <th>186506</th>\n",
       "      <td>Women's Sexy Gladiator Costume, for Halloween ...</td>\n",
       "      <td>Karnival Costumes</td>\n",
       "      <td>[100% polyester, CAN BE USED YEAR ROUND: These...</td>\n",
       "      <td>[Look great in a durable and high quality cost...</td>\n",
       "      <td>$20.99</td>\n",
       "    </tr>\n",
       "    <tr>\n",
       "      <th>186538</th>\n",
       "      <td>Georgia Boot AMP Insole</td>\n",
       "      <td>Georgia Boot</td>\n",
       "      <td>[NA, Imported, Memory foam adjusts for customi...</td>\n",
       "      <td>[Ready to finally be comfortable in your boots...</td>\n",
       "      <td>$21.27</td>\n",
       "    </tr>\n",
       "    <tr>\n",
       "      <th>186552</th>\n",
       "      <td>Single Flare Steel Plugs with Mint Green Rose ...</td>\n",
       "      <td>Pierced Owl</td>\n",
       "      <td>[Pair of single flare steel plugs with mint gr...</td>\n",
       "      <td>[Single Flare Steel Plugs with Mint Green Rose...</td>\n",
       "      <td>$18.99</td>\n",
       "    </tr>\n",
       "    <tr>\n",
       "      <th>186589</th>\n",
       "      <td>Princeton University Tigers Pennant</td>\n",
       "      <td>Ivysport</td>\n",
       "      <td>[12\"x30\" Full Size College Pennant, Single Sid...</td>\n",
       "      <td>[Measures 12\" width by 30\" in length. Features...</td>\n",
       "      <td>$16.95</td>\n",
       "    </tr>\n",
       "  </tbody>\n",
       "</table>\n",
       "<p>6956 rows × 5 columns</p>\n",
       "</div>"
      ],
      "text/plain": [
       "                                                    title               brand   \n",
       "17         X. L. Carbon Fiber Money Clip, made in the USA         Roar Carbon  \\\n",
       "18      Shimmer Anne Shine Clip On Costume/Halloween C...  Shimmer Anne Shine   \n",
       "69                   Buxton Heiress Pik-Me-Up Framed Case              Buxton   \n",
       "331     Art Nouveau Sterling Silver Ornate Repousse He...     Silver Insanity   \n",
       "410               Dream PJ's Blue - Large - Part #: 25BLG        Ethical/Spot   \n",
       "...                                                   ...                 ...   \n",
       "186502  Women's Roman Empress Costume - Greek Goddess ...   Karnival Costumes   \n",
       "186506  Women's Sexy Gladiator Costume, for Halloween ...   Karnival Costumes   \n",
       "186538                            Georgia Boot AMP Insole        Georgia Boot   \n",
       "186552  Single Flare Steel Plugs with Mint Green Rose ...         Pierced Owl   \n",
       "186589                Princeton University Tigers Pennant            Ivysport   \n",
       "\n",
       "                                                  feature   \n",
       "17      [Real Carbon Fiber, Made in USA, 5 year warran...  \\\n",
       "18      [Shimmer Anne Shine Clip On Costume/Halloween ...   \n",
       "69      [Leather, Imported, synthetic lining, Flap clo...   \n",
       "331     [2&5/8\" High and 3/4\" Wide, Weight is Approx. ...   \n",
       "410     [Product Dimensions:\\n                    \\n8....   \n",
       "...                                                   ...   \n",
       "186502  [100% polyester, CAN BE USED YEAR ROUND: These...   \n",
       "186506  [100% polyester, CAN BE USED YEAR ROUND: These...   \n",
       "186538  [NA, Imported, Memory foam adjusts for customi...   \n",
       "186552  [Pair of single flare steel plugs with mint gr...   \n",
       "186589  [12\"x30\" Full Size College Pennant, Single Sid...   \n",
       "\n",
       "                                              description   price  \n",
       "17      [When you pull out your extra large carbon fib...  $14.99  \n",
       "18      [A fun addition to any costume party, play, or...   $6.99  \n",
       "69      [Authentic crunch leather with rich floral emb...  $16.95  \n",
       "331     [It measures 2&5/8\" tall x 3/4\" wide, weighs a...  $44.66  \n",
       "410     [SOFT AND CUDDLY, SWEET DREAM PAJAMAS IN SOFT ...  $15.99  \n",
       "...                                                   ...     ...  \n",
       "186502  [Look great in a durable and high quality cost...  $24.99  \n",
       "186506  [Look great in a durable and high quality cost...  $20.99  \n",
       "186538  [Ready to finally be comfortable in your boots...  $21.27  \n",
       "186552  [Single Flare Steel Plugs with Mint Green Rose...  $18.99  \n",
       "186589  [Measures 12\" width by 30\" in length. Features...  $16.95  \n",
       "\n",
       "[6956 rows x 5 columns]"
      ]
     },
     "execution_count": 26,
     "metadata": {},
     "output_type": "execute_result"
    }
   ],
   "source": [
    "filtered_df"
   ]
  },
  {
   "cell_type": "code",
   "execution_count": 16,
   "metadata": {
    "tags": []
   },
   "outputs": [],
   "source": [
    "def create_description_prompts(df):\n",
    "    prompts = []\n",
    "    for index, row in df.iterrows():\n",
    "        feature_list = '\\n  - '.join(row['feature'])\n",
    "        prompt = (\n",
    "            f\"Title: {row['title']}\\n\"\n",
    "            f\"Brand: {row['brand']}\\n\"\n",
    "            f\"Price: ${row['price']}\\n\"\n",
    "            f\"Key Features: \\n  - {feature_list}\\n\\n\"\n",
    "        )\n",
    "        prompts.append(prompt)\n",
    "    return prompts"
   ]
  },
  {
   "cell_type": "code",
   "execution_count": 17,
   "metadata": {
    "tags": []
   },
   "outputs": [],
   "source": [
    "# Split filtered_df into 5 parts\n",
    "parts = np.array_split(filtered_df, 5)"
   ]
  },
  {
   "cell_type": "code",
   "execution_count": 18,
   "metadata": {
    "tags": []
   },
   "outputs": [
    {
     "name": "stdout",
     "output_type": "stream",
     "text": [
      "Processing part 0, saving progress to progress_part_0.csv\n",
      "Resuming from row 1392 in part 0\n",
      "Processing part 1, saving progress to progress_part_1.csv\n",
      "Resuming from row 1391 in part 1\n",
      "Processing part 2, saving progress to progress_part_2.csv\n",
      "Resuming from row 1391 in part 2\n",
      "Processing part 3, saving progress to progress_part_3.csv\n",
      "Resuming from row 200 in part 3\n",
      "Saved progress at row 300 in part 3\n",
      "Saved progress at row 400 in part 3\n",
      "Saved progress at row 500 in part 3\n",
      "Saved progress at row 600 in part 3\n",
      "Saved progress at row 700 in part 3\n",
      "Saved progress at row 800 in part 3\n",
      "Saved progress at row 900 in part 3\n",
      "Saved progress at row 1000 in part 3\n",
      "Saved progress at row 1100 in part 3\n",
      "Saved progress at row 1200 in part 3\n",
      "Saved progress at row 1300 in part 3\n",
      "Saved progress at row 1391 in part 3\n",
      "Processing part 4, saving progress to progress_part_4.csv\n",
      "Starting fresh for part 4\n",
      "Saved progress at row 100 in part 4\n",
      "Saved progress at row 200 in part 4\n",
      "Saved progress at row 300 in part 4\n",
      "Saved progress at row 400 in part 4\n",
      "Saved progress at row 500 in part 4\n",
      "Saved progress at row 600 in part 4\n",
      "Saved progress at row 700 in part 4\n",
      "Saved progress at row 800 in part 4\n",
      "Saved progress at row 900 in part 4\n",
      "Saved progress at row 1000 in part 4\n",
      "Saved progress at row 1100 in part 4\n",
      "Saved progress at row 1200 in part 4\n",
      "Saved progress at row 1300 in part 4\n",
      "Saved progress at row 1391 in part 4\n"
     ]
    }
   ],
   "source": [
    "for i, part in enumerate(parts):\n",
    "    progress_file = f'progress_part_{i}.csv'\n",
    "    print(f\"Processing part {i}, saving progress to {progress_file}\")\n",
    "    \n",
    "    # Check if there's a saved progress file for this part\n",
    "    try:\n",
    "        progress_df = pd.read_csv(progress_file)\n",
    "        start_index = len(progress_df)\n",
    "        print(f\"Resuming from row {start_index} in part {i}\")\n",
    "    except FileNotFoundError:\n",
    "        progress_df = pd.DataFrame(columns=['generated_description'])\n",
    "        start_index = 0\n",
    "        print(f\"Starting fresh for part {i}\")\n",
    "\n",
    "    # Generate prompts for each product in the part\n",
    "    prompts = create_description_prompts(part.iloc[start_index:])\n",
    "\n",
    "    for index, prompt in enumerate(prompts, start=start_index):\n",
    "        try:\n",
    "            dialog = [\n",
    "                {\"role\": \"system\", \"content\": \"Craft a vibrant and engaging product description of the item whose metadata is given. Transform these features into an alluring narrative that emphasizes the product's unique qualities. Highlight the practicality, quality, and any unique selling points, making it irresistible to potential buyers.\"},\n",
    "                {\"role\": \"user\", \"content\": \"Metadata of item:\\n\" + prompt},\n",
    "            ]\n",
    "            formatted_prompt = format_messages(dialog)\n",
    "            payload = {\"inputs\": formatted_prompt, \"parameters\": {\"max_new_tokens\": 256, \"top_p\": 0.9, \"temperature\": 0.6}}\n",
    "            response = query_endpoint(payload)\n",
    "            description = response[0]['generated_text']\n",
    "        except Exception as e:\n",
    "            description = None\n",
    "\n",
    "        new_row = pd.DataFrame({'generated_description': [description]})\n",
    "        progress_df = pd.concat([progress_df, new_row], ignore_index=True)\n",
    "\n",
    "        # Save the progress every N rows or at the end of the part\n",
    "        if (index + 1) % 100 == 0 or (index + 1) == len(part):\n",
    "            progress_df.to_csv(progress_file, index=False)\n",
    "            print(f\"Saved progress at row {index + 1} in part {i}\")\n",
    "\n",
    "    # Add the generated descriptions to the part of the dataframe\n",
    "    part['generated_description'] = progress_df['generated_description'].values\n",
    "\n",
    "    # Merge each part back into filtered_df\n",
    "    filtered_df.update(part)"
   ]
  },
  {
   "cell_type": "code",
   "execution_count": null,
   "metadata": {
    "tags": []
   },
   "outputs": [],
   "source": [
    "# Save the final DataFrame\n",
    "filtered_df.to_csv('final_filtered_df.csv', index=False)\n",
    "print(\"Completed processing all parts and saved the final DataFrame.\")"
   ]
  },
  {
   "cell_type": "code",
   "execution_count": 27,
   "metadata": {},
   "outputs": [],
   "source": [
    "df1 = pd.read_csv('progress_part_' + str(i) + '.csv')"
   ]
  },
  {
   "cell_type": "code",
   "execution_count": 45,
   "metadata": {
    "tags": []
   },
   "outputs": [],
   "source": [
    "new_df = []\n",
    "\n",
    "for i in range(5):\n",
    "    temp_df = pd.read_csv('progress_part_' + str(i) + '.csv')\n",
    "    new_df.append(temp_df)\n",
    "    "
   ]
  },
  {
   "cell_type": "code",
   "execution_count": 46,
   "metadata": {
    "tags": []
   },
   "outputs": [],
   "source": [
    "df_combined = pd.concat([new_df[0], new_df[1], new_df[2], new_df[3], new_df[4]], axis=0)"
   ]
  },
  {
   "cell_type": "code",
   "execution_count": 47,
   "metadata": {
    "tags": []
   },
   "outputs": [],
   "source": [
    "df_combined = df_combined.reset_index(drop=True)"
   ]
  },
  {
   "cell_type": "code",
   "execution_count": 53,
   "metadata": {
    "tags": []
   },
   "outputs": [
    {
     "data": {
      "text/plain": [
       "6956"
      ]
     },
     "execution_count": 53,
     "metadata": {},
     "output_type": "execute_result"
    }
   ],
   "source": [
    "rows"
   ]
  },
  {
   "cell_type": "code",
   "execution_count": 49,
   "metadata": {
    "tags": []
   },
   "outputs": [],
   "source": [
    "df_combined.to_csv('generated_descriptions.csv', index=False)"
   ]
  },
  {
   "cell_type": "code",
   "execution_count": 39,
   "metadata": {
    "tags": []
   },
   "outputs": [],
   "source": [
    "# Assuming df_main is your main DataFrame and df_single_column is the single-column DataFrame\n",
    "final_df = pd.concat([filtered_df, df_combined], axis=1)"
   ]
  },
  {
   "cell_type": "code",
   "execution_count": 40,
   "metadata": {
    "tags": []
   },
   "outputs": [
    {
     "data": {
      "text/html": [
       "<div>\n",
       "<style scoped>\n",
       "    .dataframe tbody tr th:only-of-type {\n",
       "        vertical-align: middle;\n",
       "    }\n",
       "\n",
       "    .dataframe tbody tr th {\n",
       "        vertical-align: top;\n",
       "    }\n",
       "\n",
       "    .dataframe thead th {\n",
       "        text-align: right;\n",
       "    }\n",
       "</style>\n",
       "<table border=\"1\" class=\"dataframe\">\n",
       "  <thead>\n",
       "    <tr style=\"text-align: right;\">\n",
       "      <th></th>\n",
       "      <th>title</th>\n",
       "      <th>brand</th>\n",
       "      <th>feature</th>\n",
       "      <th>description</th>\n",
       "      <th>price</th>\n",
       "      <th>generated_description</th>\n",
       "    </tr>\n",
       "  </thead>\n",
       "  <tbody>\n",
       "    <tr>\n",
       "      <th>17</th>\n",
       "      <td>X. L. Carbon Fiber Money Clip, made in the USA</td>\n",
       "      <td>Roar Carbon</td>\n",
       "      <td>[Real Carbon Fiber, Made in USA, 5 year warran...</td>\n",
       "      <td>[When you pull out your extra large carbon fib...</td>\n",
       "      <td>$14.99</td>\n",
       "      <td>Introducing the Schaefer Outfitters Ranger Ves...</td>\n",
       "    </tr>\n",
       "    <tr>\n",
       "      <th>18</th>\n",
       "      <td>Shimmer Anne Shine Clip On Costume/Halloween C...</td>\n",
       "      <td>Shimmer Anne Shine</td>\n",
       "      <td>[Shimmer Anne Shine Clip On Costume/Halloween ...</td>\n",
       "      <td>[A fun addition to any costume party, play, or...</td>\n",
       "      <td>$6.99</td>\n",
       "      <td>NaN</td>\n",
       "    </tr>\n",
       "    <tr>\n",
       "      <th>69</th>\n",
       "      <td>Buxton Heiress Pik-Me-Up Framed Case</td>\n",
       "      <td>Buxton</td>\n",
       "      <td>[Leather, Imported, synthetic lining, Flap clo...</td>\n",
       "      <td>[Authentic crunch leather with rich floral emb...</td>\n",
       "      <td>$16.95</td>\n",
       "      <td>Sure, here's a vibrant and engaging product de...</td>\n",
       "    </tr>\n",
       "    <tr>\n",
       "      <th>331</th>\n",
       "      <td>Art Nouveau Sterling Silver Ornate Repousse He...</td>\n",
       "      <td>Silver Insanity</td>\n",
       "      <td>[2&amp;5/8\" High and 3/4\" Wide, Weight is Approx. ...</td>\n",
       "      <td>[It measures 2&amp;5/8\" tall x 3/4\" wide, weighs a...</td>\n",
       "      <td>$44.66</td>\n",
       "      <td>Introducing the Mickey Mantle \"Mickey 7\" Baseb...</td>\n",
       "    </tr>\n",
       "    <tr>\n",
       "      <th>410</th>\n",
       "      <td>Dream PJ's Blue - Large - Part #: 25BLG</td>\n",
       "      <td>Ethical/Spot</td>\n",
       "      <td>[Product Dimensions:\\n                    \\n8....</td>\n",
       "      <td>[SOFT AND CUDDLY, SWEET DREAM PAJAMAS IN SOFT ...</td>\n",
       "      <td>$15.99</td>\n",
       "      <td>Introducing the Small World Toys Furree Faces ...</td>\n",
       "    </tr>\n",
       "    <tr>\n",
       "      <th>...</th>\n",
       "      <td>...</td>\n",
       "      <td>...</td>\n",
       "      <td>...</td>\n",
       "      <td>...</td>\n",
       "      <td>...</td>\n",
       "      <td>...</td>\n",
       "    </tr>\n",
       "    <tr>\n",
       "      <th>6951</th>\n",
       "      <td>NaN</td>\n",
       "      <td>NaN</td>\n",
       "      <td>NaN</td>\n",
       "      <td>NaN</td>\n",
       "      <td>NaN</td>\n",
       "      <td>Introducing the Women's Roman Empress Costume ...</td>\n",
       "    </tr>\n",
       "    <tr>\n",
       "      <th>6952</th>\n",
       "      <td>NaN</td>\n",
       "      <td>NaN</td>\n",
       "      <td>NaN</td>\n",
       "      <td>NaN</td>\n",
       "      <td>NaN</td>\n",
       "      <td>Introducing the Women's Sexy Gladiator Costume...</td>\n",
       "    </tr>\n",
       "    <tr>\n",
       "      <th>6953</th>\n",
       "      <td>NaN</td>\n",
       "      <td>NaN</td>\n",
       "      <td>NaN</td>\n",
       "      <td>NaN</td>\n",
       "      <td>NaN</td>\n",
       "      <td>Introducing the Georgia Boot AMP Insole - the ...</td>\n",
       "    </tr>\n",
       "    <tr>\n",
       "      <th>6954</th>\n",
       "      <td>NaN</td>\n",
       "      <td>NaN</td>\n",
       "      <td>NaN</td>\n",
       "      <td>NaN</td>\n",
       "      <td>NaN</td>\n",
       "      <td>Sure! Here's a vibrant and engaging product de...</td>\n",
       "    </tr>\n",
       "    <tr>\n",
       "      <th>6955</th>\n",
       "      <td>NaN</td>\n",
       "      <td>NaN</td>\n",
       "      <td>NaN</td>\n",
       "      <td>NaN</td>\n",
       "      <td>NaN</td>\n",
       "      <td>Introducing the Princeton University Tigers Pe...</td>\n",
       "    </tr>\n",
       "  </tbody>\n",
       "</table>\n",
       "<p>13415 rows × 6 columns</p>\n",
       "</div>"
      ],
      "text/plain": [
       "                                                  title               brand   \n",
       "17       X. L. Carbon Fiber Money Clip, made in the USA         Roar Carbon  \\\n",
       "18    Shimmer Anne Shine Clip On Costume/Halloween C...  Shimmer Anne Shine   \n",
       "69                 Buxton Heiress Pik-Me-Up Framed Case              Buxton   \n",
       "331   Art Nouveau Sterling Silver Ornate Repousse He...     Silver Insanity   \n",
       "410             Dream PJ's Blue - Large - Part #: 25BLG        Ethical/Spot   \n",
       "...                                                 ...                 ...   \n",
       "6951                                                NaN                 NaN   \n",
       "6952                                                NaN                 NaN   \n",
       "6953                                                NaN                 NaN   \n",
       "6954                                                NaN                 NaN   \n",
       "6955                                                NaN                 NaN   \n",
       "\n",
       "                                                feature   \n",
       "17    [Real Carbon Fiber, Made in USA, 5 year warran...  \\\n",
       "18    [Shimmer Anne Shine Clip On Costume/Halloween ...   \n",
       "69    [Leather, Imported, synthetic lining, Flap clo...   \n",
       "331   [2&5/8\" High and 3/4\" Wide, Weight is Approx. ...   \n",
       "410   [Product Dimensions:\\n                    \\n8....   \n",
       "...                                                 ...   \n",
       "6951                                                NaN   \n",
       "6952                                                NaN   \n",
       "6953                                                NaN   \n",
       "6954                                                NaN   \n",
       "6955                                                NaN   \n",
       "\n",
       "                                            description   price   \n",
       "17    [When you pull out your extra large carbon fib...  $14.99  \\\n",
       "18    [A fun addition to any costume party, play, or...   $6.99   \n",
       "69    [Authentic crunch leather with rich floral emb...  $16.95   \n",
       "331   [It measures 2&5/8\" tall x 3/4\" wide, weighs a...  $44.66   \n",
       "410   [SOFT AND CUDDLY, SWEET DREAM PAJAMAS IN SOFT ...  $15.99   \n",
       "...                                                 ...     ...   \n",
       "6951                                                NaN     NaN   \n",
       "6952                                                NaN     NaN   \n",
       "6953                                                NaN     NaN   \n",
       "6954                                                NaN     NaN   \n",
       "6955                                                NaN     NaN   \n",
       "\n",
       "                                  generated_description  \n",
       "17    Introducing the Schaefer Outfitters Ranger Ves...  \n",
       "18                                                  NaN  \n",
       "69    Sure, here's a vibrant and engaging product de...  \n",
       "331   Introducing the Mickey Mantle \"Mickey 7\" Baseb...  \n",
       "410   Introducing the Small World Toys Furree Faces ...  \n",
       "...                                                 ...  \n",
       "6951  Introducing the Women's Roman Empress Costume ...  \n",
       "6952  Introducing the Women's Sexy Gladiator Costume...  \n",
       "6953  Introducing the Georgia Boot AMP Insole - the ...  \n",
       "6954  Sure! Here's a vibrant and engaging product de...  \n",
       "6955  Introducing the Princeton University Tigers Pe...  \n",
       "\n",
       "[13415 rows x 6 columns]"
      ]
     },
     "execution_count": 40,
     "metadata": {},
     "output_type": "execute_result"
    }
   ],
   "source": [
    "final_df"
   ]
  },
  {
   "cell_type": "code",
   "execution_count": 41,
   "metadata": {
    "tags": []
   },
   "outputs": [],
   "source": [
    "final_df.to_csv('combined_data.csv', index=False)"
   ]
  },
  {
   "cell_type": "code",
   "execution_count": null,
   "metadata": {},
   "outputs": [],
   "source": []
  }
 ],
 "metadata": {
  "availableInstances": [
   {
    "_defaultOrder": 0,
    "_isFastLaunch": true,
    "category": "General purpose",
    "gpuNum": 0,
    "hideHardwareSpecs": false,
    "memoryGiB": 4,
    "name": "ml.t3.medium",
    "vcpuNum": 2
   },
   {
    "_defaultOrder": 1,
    "_isFastLaunch": false,
    "category": "General purpose",
    "gpuNum": 0,
    "hideHardwareSpecs": false,
    "memoryGiB": 8,
    "name": "ml.t3.large",
    "vcpuNum": 2
   },
   {
    "_defaultOrder": 2,
    "_isFastLaunch": false,
    "category": "General purpose",
    "gpuNum": 0,
    "hideHardwareSpecs": false,
    "memoryGiB": 16,
    "name": "ml.t3.xlarge",
    "vcpuNum": 4
   },
   {
    "_defaultOrder": 3,
    "_isFastLaunch": false,
    "category": "General purpose",
    "gpuNum": 0,
    "hideHardwareSpecs": false,
    "memoryGiB": 32,
    "name": "ml.t3.2xlarge",
    "vcpuNum": 8
   },
   {
    "_defaultOrder": 4,
    "_isFastLaunch": true,
    "category": "General purpose",
    "gpuNum": 0,
    "hideHardwareSpecs": false,
    "memoryGiB": 8,
    "name": "ml.m5.large",
    "vcpuNum": 2
   },
   {
    "_defaultOrder": 5,
    "_isFastLaunch": false,
    "category": "General purpose",
    "gpuNum": 0,
    "hideHardwareSpecs": false,
    "memoryGiB": 16,
    "name": "ml.m5.xlarge",
    "vcpuNum": 4
   },
   {
    "_defaultOrder": 6,
    "_isFastLaunch": false,
    "category": "General purpose",
    "gpuNum": 0,
    "hideHardwareSpecs": false,
    "memoryGiB": 32,
    "name": "ml.m5.2xlarge",
    "vcpuNum": 8
   },
   {
    "_defaultOrder": 7,
    "_isFastLaunch": false,
    "category": "General purpose",
    "gpuNum": 0,
    "hideHardwareSpecs": false,
    "memoryGiB": 64,
    "name": "ml.m5.4xlarge",
    "vcpuNum": 16
   },
   {
    "_defaultOrder": 8,
    "_isFastLaunch": false,
    "category": "General purpose",
    "gpuNum": 0,
    "hideHardwareSpecs": false,
    "memoryGiB": 128,
    "name": "ml.m5.8xlarge",
    "vcpuNum": 32
   },
   {
    "_defaultOrder": 9,
    "_isFastLaunch": false,
    "category": "General purpose",
    "gpuNum": 0,
    "hideHardwareSpecs": false,
    "memoryGiB": 192,
    "name": "ml.m5.12xlarge",
    "vcpuNum": 48
   },
   {
    "_defaultOrder": 10,
    "_isFastLaunch": false,
    "category": "General purpose",
    "gpuNum": 0,
    "hideHardwareSpecs": false,
    "memoryGiB": 256,
    "name": "ml.m5.16xlarge",
    "vcpuNum": 64
   },
   {
    "_defaultOrder": 11,
    "_isFastLaunch": false,
    "category": "General purpose",
    "gpuNum": 0,
    "hideHardwareSpecs": false,
    "memoryGiB": 384,
    "name": "ml.m5.24xlarge",
    "vcpuNum": 96
   },
   {
    "_defaultOrder": 12,
    "_isFastLaunch": false,
    "category": "General purpose",
    "gpuNum": 0,
    "hideHardwareSpecs": false,
    "memoryGiB": 8,
    "name": "ml.m5d.large",
    "vcpuNum": 2
   },
   {
    "_defaultOrder": 13,
    "_isFastLaunch": false,
    "category": "General purpose",
    "gpuNum": 0,
    "hideHardwareSpecs": false,
    "memoryGiB": 16,
    "name": "ml.m5d.xlarge",
    "vcpuNum": 4
   },
   {
    "_defaultOrder": 14,
    "_isFastLaunch": false,
    "category": "General purpose",
    "gpuNum": 0,
    "hideHardwareSpecs": false,
    "memoryGiB": 32,
    "name": "ml.m5d.2xlarge",
    "vcpuNum": 8
   },
   {
    "_defaultOrder": 15,
    "_isFastLaunch": false,
    "category": "General purpose",
    "gpuNum": 0,
    "hideHardwareSpecs": false,
    "memoryGiB": 64,
    "name": "ml.m5d.4xlarge",
    "vcpuNum": 16
   },
   {
    "_defaultOrder": 16,
    "_isFastLaunch": false,
    "category": "General purpose",
    "gpuNum": 0,
    "hideHardwareSpecs": false,
    "memoryGiB": 128,
    "name": "ml.m5d.8xlarge",
    "vcpuNum": 32
   },
   {
    "_defaultOrder": 17,
    "_isFastLaunch": false,
    "category": "General purpose",
    "gpuNum": 0,
    "hideHardwareSpecs": false,
    "memoryGiB": 192,
    "name": "ml.m5d.12xlarge",
    "vcpuNum": 48
   },
   {
    "_defaultOrder": 18,
    "_isFastLaunch": false,
    "category": "General purpose",
    "gpuNum": 0,
    "hideHardwareSpecs": false,
    "memoryGiB": 256,
    "name": "ml.m5d.16xlarge",
    "vcpuNum": 64
   },
   {
    "_defaultOrder": 19,
    "_isFastLaunch": false,
    "category": "General purpose",
    "gpuNum": 0,
    "hideHardwareSpecs": false,
    "memoryGiB": 384,
    "name": "ml.m5d.24xlarge",
    "vcpuNum": 96
   },
   {
    "_defaultOrder": 20,
    "_isFastLaunch": false,
    "category": "General purpose",
    "gpuNum": 0,
    "hideHardwareSpecs": true,
    "memoryGiB": 0,
    "name": "ml.geospatial.interactive",
    "supportedImageNames": [
     "sagemaker-geospatial-v1-0"
    ],
    "vcpuNum": 0
   },
   {
    "_defaultOrder": 21,
    "_isFastLaunch": true,
    "category": "Compute optimized",
    "gpuNum": 0,
    "hideHardwareSpecs": false,
    "memoryGiB": 4,
    "name": "ml.c5.large",
    "vcpuNum": 2
   },
   {
    "_defaultOrder": 22,
    "_isFastLaunch": false,
    "category": "Compute optimized",
    "gpuNum": 0,
    "hideHardwareSpecs": false,
    "memoryGiB": 8,
    "name": "ml.c5.xlarge",
    "vcpuNum": 4
   },
   {
    "_defaultOrder": 23,
    "_isFastLaunch": false,
    "category": "Compute optimized",
    "gpuNum": 0,
    "hideHardwareSpecs": false,
    "memoryGiB": 16,
    "name": "ml.c5.2xlarge",
    "vcpuNum": 8
   },
   {
    "_defaultOrder": 24,
    "_isFastLaunch": false,
    "category": "Compute optimized",
    "gpuNum": 0,
    "hideHardwareSpecs": false,
    "memoryGiB": 32,
    "name": "ml.c5.4xlarge",
    "vcpuNum": 16
   },
   {
    "_defaultOrder": 25,
    "_isFastLaunch": false,
    "category": "Compute optimized",
    "gpuNum": 0,
    "hideHardwareSpecs": false,
    "memoryGiB": 72,
    "name": "ml.c5.9xlarge",
    "vcpuNum": 36
   },
   {
    "_defaultOrder": 26,
    "_isFastLaunch": false,
    "category": "Compute optimized",
    "gpuNum": 0,
    "hideHardwareSpecs": false,
    "memoryGiB": 96,
    "name": "ml.c5.12xlarge",
    "vcpuNum": 48
   },
   {
    "_defaultOrder": 27,
    "_isFastLaunch": false,
    "category": "Compute optimized",
    "gpuNum": 0,
    "hideHardwareSpecs": false,
    "memoryGiB": 144,
    "name": "ml.c5.18xlarge",
    "vcpuNum": 72
   },
   {
    "_defaultOrder": 28,
    "_isFastLaunch": false,
    "category": "Compute optimized",
    "gpuNum": 0,
    "hideHardwareSpecs": false,
    "memoryGiB": 192,
    "name": "ml.c5.24xlarge",
    "vcpuNum": 96
   },
   {
    "_defaultOrder": 29,
    "_isFastLaunch": true,
    "category": "Accelerated computing",
    "gpuNum": 1,
    "hideHardwareSpecs": false,
    "memoryGiB": 16,
    "name": "ml.g4dn.xlarge",
    "vcpuNum": 4
   },
   {
    "_defaultOrder": 30,
    "_isFastLaunch": false,
    "category": "Accelerated computing",
    "gpuNum": 1,
    "hideHardwareSpecs": false,
    "memoryGiB": 32,
    "name": "ml.g4dn.2xlarge",
    "vcpuNum": 8
   },
   {
    "_defaultOrder": 31,
    "_isFastLaunch": false,
    "category": "Accelerated computing",
    "gpuNum": 1,
    "hideHardwareSpecs": false,
    "memoryGiB": 64,
    "name": "ml.g4dn.4xlarge",
    "vcpuNum": 16
   },
   {
    "_defaultOrder": 32,
    "_isFastLaunch": false,
    "category": "Accelerated computing",
    "gpuNum": 1,
    "hideHardwareSpecs": false,
    "memoryGiB": 128,
    "name": "ml.g4dn.8xlarge",
    "vcpuNum": 32
   },
   {
    "_defaultOrder": 33,
    "_isFastLaunch": false,
    "category": "Accelerated computing",
    "gpuNum": 4,
    "hideHardwareSpecs": false,
    "memoryGiB": 192,
    "name": "ml.g4dn.12xlarge",
    "vcpuNum": 48
   },
   {
    "_defaultOrder": 34,
    "_isFastLaunch": false,
    "category": "Accelerated computing",
    "gpuNum": 1,
    "hideHardwareSpecs": false,
    "memoryGiB": 256,
    "name": "ml.g4dn.16xlarge",
    "vcpuNum": 64
   },
   {
    "_defaultOrder": 35,
    "_isFastLaunch": false,
    "category": "Accelerated computing",
    "gpuNum": 1,
    "hideHardwareSpecs": false,
    "memoryGiB": 61,
    "name": "ml.p3.2xlarge",
    "vcpuNum": 8
   },
   {
    "_defaultOrder": 36,
    "_isFastLaunch": false,
    "category": "Accelerated computing",
    "gpuNum": 4,
    "hideHardwareSpecs": false,
    "memoryGiB": 244,
    "name": "ml.p3.8xlarge",
    "vcpuNum": 32
   },
   {
    "_defaultOrder": 37,
    "_isFastLaunch": false,
    "category": "Accelerated computing",
    "gpuNum": 8,
    "hideHardwareSpecs": false,
    "memoryGiB": 488,
    "name": "ml.p3.16xlarge",
    "vcpuNum": 64
   },
   {
    "_defaultOrder": 38,
    "_isFastLaunch": false,
    "category": "Accelerated computing",
    "gpuNum": 8,
    "hideHardwareSpecs": false,
    "memoryGiB": 768,
    "name": "ml.p3dn.24xlarge",
    "vcpuNum": 96
   },
   {
    "_defaultOrder": 39,
    "_isFastLaunch": false,
    "category": "Memory Optimized",
    "gpuNum": 0,
    "hideHardwareSpecs": false,
    "memoryGiB": 16,
    "name": "ml.r5.large",
    "vcpuNum": 2
   },
   {
    "_defaultOrder": 40,
    "_isFastLaunch": false,
    "category": "Memory Optimized",
    "gpuNum": 0,
    "hideHardwareSpecs": false,
    "memoryGiB": 32,
    "name": "ml.r5.xlarge",
    "vcpuNum": 4
   },
   {
    "_defaultOrder": 41,
    "_isFastLaunch": false,
    "category": "Memory Optimized",
    "gpuNum": 0,
    "hideHardwareSpecs": false,
    "memoryGiB": 64,
    "name": "ml.r5.2xlarge",
    "vcpuNum": 8
   },
   {
    "_defaultOrder": 42,
    "_isFastLaunch": false,
    "category": "Memory Optimized",
    "gpuNum": 0,
    "hideHardwareSpecs": false,
    "memoryGiB": 128,
    "name": "ml.r5.4xlarge",
    "vcpuNum": 16
   },
   {
    "_defaultOrder": 43,
    "_isFastLaunch": false,
    "category": "Memory Optimized",
    "gpuNum": 0,
    "hideHardwareSpecs": false,
    "memoryGiB": 256,
    "name": "ml.r5.8xlarge",
    "vcpuNum": 32
   },
   {
    "_defaultOrder": 44,
    "_isFastLaunch": false,
    "category": "Memory Optimized",
    "gpuNum": 0,
    "hideHardwareSpecs": false,
    "memoryGiB": 384,
    "name": "ml.r5.12xlarge",
    "vcpuNum": 48
   },
   {
    "_defaultOrder": 45,
    "_isFastLaunch": false,
    "category": "Memory Optimized",
    "gpuNum": 0,
    "hideHardwareSpecs": false,
    "memoryGiB": 512,
    "name": "ml.r5.16xlarge",
    "vcpuNum": 64
   },
   {
    "_defaultOrder": 46,
    "_isFastLaunch": false,
    "category": "Memory Optimized",
    "gpuNum": 0,
    "hideHardwareSpecs": false,
    "memoryGiB": 768,
    "name": "ml.r5.24xlarge",
    "vcpuNum": 96
   },
   {
    "_defaultOrder": 47,
    "_isFastLaunch": false,
    "category": "Accelerated computing",
    "gpuNum": 1,
    "hideHardwareSpecs": false,
    "memoryGiB": 16,
    "name": "ml.g5.xlarge",
    "vcpuNum": 4
   },
   {
    "_defaultOrder": 48,
    "_isFastLaunch": false,
    "category": "Accelerated computing",
    "gpuNum": 1,
    "hideHardwareSpecs": false,
    "memoryGiB": 32,
    "name": "ml.g5.2xlarge",
    "vcpuNum": 8
   },
   {
    "_defaultOrder": 49,
    "_isFastLaunch": false,
    "category": "Accelerated computing",
    "gpuNum": 1,
    "hideHardwareSpecs": false,
    "memoryGiB": 64,
    "name": "ml.g5.4xlarge",
    "vcpuNum": 16
   },
   {
    "_defaultOrder": 50,
    "_isFastLaunch": false,
    "category": "Accelerated computing",
    "gpuNum": 1,
    "hideHardwareSpecs": false,
    "memoryGiB": 128,
    "name": "ml.g5.8xlarge",
    "vcpuNum": 32
   },
   {
    "_defaultOrder": 51,
    "_isFastLaunch": false,
    "category": "Accelerated computing",
    "gpuNum": 1,
    "hideHardwareSpecs": false,
    "memoryGiB": 256,
    "name": "ml.g5.16xlarge",
    "vcpuNum": 64
   },
   {
    "_defaultOrder": 52,
    "_isFastLaunch": false,
    "category": "Accelerated computing",
    "gpuNum": 4,
    "hideHardwareSpecs": false,
    "memoryGiB": 192,
    "name": "ml.g5.12xlarge",
    "vcpuNum": 48
   },
   {
    "_defaultOrder": 53,
    "_isFastLaunch": false,
    "category": "Accelerated computing",
    "gpuNum": 4,
    "hideHardwareSpecs": false,
    "memoryGiB": 384,
    "name": "ml.g5.24xlarge",
    "vcpuNum": 96
   },
   {
    "_defaultOrder": 54,
    "_isFastLaunch": false,
    "category": "Accelerated computing",
    "gpuNum": 8,
    "hideHardwareSpecs": false,
    "memoryGiB": 768,
    "name": "ml.g5.48xlarge",
    "vcpuNum": 192
   },
   {
    "_defaultOrder": 55,
    "_isFastLaunch": false,
    "category": "Accelerated computing",
    "gpuNum": 8,
    "hideHardwareSpecs": false,
    "memoryGiB": 1152,
    "name": "ml.p4d.24xlarge",
    "vcpuNum": 96
   },
   {
    "_defaultOrder": 56,
    "_isFastLaunch": false,
    "category": "Accelerated computing",
    "gpuNum": 8,
    "hideHardwareSpecs": false,
    "memoryGiB": 1152,
    "name": "ml.p4de.24xlarge",
    "vcpuNum": 96
   },
   {
    "_defaultOrder": 57,
    "_isFastLaunch": false,
    "category": "Accelerated computing",
    "gpuNum": 0,
    "hideHardwareSpecs": false,
    "memoryGiB": 32,
    "name": "ml.trn1.2xlarge",
    "vcpuNum": 8
   },
   {
    "_defaultOrder": 58,
    "_isFastLaunch": false,
    "category": "Accelerated computing",
    "gpuNum": 0,
    "hideHardwareSpecs": false,
    "memoryGiB": 512,
    "name": "ml.trn1.32xlarge",
    "vcpuNum": 128
   },
   {
    "_defaultOrder": 59,
    "_isFastLaunch": false,
    "category": "Accelerated computing",
    "gpuNum": 0,
    "hideHardwareSpecs": false,
    "memoryGiB": 512,
    "name": "ml.trn1n.32xlarge",
    "vcpuNum": 128
   }
  ],
  "instance_type": "ml.g4dn.xlarge",
  "kernelspec": {
   "display_name": "Python 3 (PyTorch 2.0.0 Python 3.10 GPU Optimized)",
   "language": "python",
   "name": "python3__SAGEMAKER_INTERNAL__arn:aws:sagemaker:us-east-1:081325390199:image/pytorch-2.0.0-gpu-py310"
  },
  "language_info": {
   "codemirror_mode": {
    "name": "ipython",
    "version": 3
   },
   "file_extension": ".py",
   "mimetype": "text/x-python",
   "name": "python",
   "nbconvert_exporter": "python",
   "pygments_lexer": "ipython3",
   "version": "3.10.8"
  },
  "pycharm": {
   "stem_cell": {
    "cell_type": "raw",
    "metadata": {
     "collapsed": false
    },
    "source": []
   }
  }
 },
 "nbformat": 4,
 "nbformat_minor": 4
}
